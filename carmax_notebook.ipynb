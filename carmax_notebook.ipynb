{
 "cells": [
  {
   "cell_type": "code",
   "execution_count": null,
   "id": "ad55504c",
   "metadata": {},
   "outputs": [],
   "source": []
  },
  {
   "cell_type": "code",
   "execution_count": 1,
   "id": "292f500c",
   "metadata": {},
   "outputs": [],
   "source": [
    "import pandas as pd\n",
    "import numpy as np\n",
    "import matplotlib.pyplot as plt\n",
    "import seaborn as sns"
   ]
  },
  {
   "cell_type": "code",
   "execution_count": 2,
   "id": "2ccaadec",
   "metadata": {},
   "outputs": [],
   "source": [
    "df= pd.read_csv('ShowcaseDataWinter2023.csv')"
   ]
  },
  {
   "cell_type": "code",
   "execution_count": 3,
   "id": "45f4ca59",
   "metadata": {},
   "outputs": [],
   "source": [
    "df_dict= pd.read_excel('Winter 2023 Showcase Data Dictionary.xlsx')"
   ]
  },
  {
   "cell_type": "code",
   "execution_count": 4,
   "id": "3400c08f",
   "metadata": {
    "scrolled": false
   },
   "outputs": [
    {
     "data": {
      "text/html": [
       "<div>\n",
       "<style scoped>\n",
       "    .dataframe tbody tr th:only-of-type {\n",
       "        vertical-align: middle;\n",
       "    }\n",
       "\n",
       "    .dataframe tbody tr th {\n",
       "        vertical-align: top;\n",
       "    }\n",
       "\n",
       "    .dataframe thead th {\n",
       "        text-align: right;\n",
       "    }\n",
       "</style>\n",
       "<table border=\"1\" class=\"dataframe\">\n",
       "  <thead>\n",
       "    <tr style=\"text-align: right;\">\n",
       "      <th></th>\n",
       "      <th>Problem Statement</th>\n",
       "      <th>Unnamed: 1</th>\n",
       "      <th>Unnamed: 2</th>\n",
       "      <th>Unnamed: 3</th>\n",
       "    </tr>\n",
       "  </thead>\n",
       "  <tbody>\n",
       "    <tr>\n",
       "      <th>0</th>\n",
       "      <td>Many customers decide to trade-in their curren...</td>\n",
       "      <td>NaN</td>\n",
       "      <td>NaN</td>\n",
       "      <td>NaN</td>\n",
       "    </tr>\n",
       "    <tr>\n",
       "      <th>1</th>\n",
       "      <td>NaN</td>\n",
       "      <td>NaN</td>\n",
       "      <td>NaN</td>\n",
       "      <td>NaN</td>\n",
       "    </tr>\n",
       "    <tr>\n",
       "      <th>2</th>\n",
       "      <td>NaN</td>\n",
       "      <td>NaN</td>\n",
       "      <td>NaN</td>\n",
       "      <td>NaN</td>\n",
       "    </tr>\n",
       "    <tr>\n",
       "      <th>3</th>\n",
       "      <td>NaN</td>\n",
       "      <td>NaN</td>\n",
       "      <td>NaN</td>\n",
       "      <td>NaN</td>\n",
       "    </tr>\n",
       "    <tr>\n",
       "      <th>4</th>\n",
       "      <td>Data set description</td>\n",
       "      <td>NaN</td>\n",
       "      <td>NaN</td>\n",
       "      <td>NaN</td>\n",
       "    </tr>\n",
       "    <tr>\n",
       "      <th>5</th>\n",
       "      <td>The data is composed of vehicle attributes vis...</td>\n",
       "      <td>NaN</td>\n",
       "      <td>NaN</td>\n",
       "      <td>NaN</td>\n",
       "    </tr>\n",
       "    <tr>\n",
       "      <th>6</th>\n",
       "      <td>NaN</td>\n",
       "      <td>NaN</td>\n",
       "      <td>NaN</td>\n",
       "      <td>NaN</td>\n",
       "    </tr>\n",
       "    <tr>\n",
       "      <th>7</th>\n",
       "      <td>NaN</td>\n",
       "      <td>NaN</td>\n",
       "      <td>NaN</td>\n",
       "      <td>NaN</td>\n",
       "    </tr>\n",
       "    <tr>\n",
       "      <th>8</th>\n",
       "      <td>Column Name</td>\n",
       "      <td>Data Type</td>\n",
       "      <td>Description</td>\n",
       "      <td>NaN</td>\n",
       "    </tr>\n",
       "    <tr>\n",
       "      <th>9</th>\n",
       "      <td>price</td>\n",
       "      <td>String</td>\n",
       "      <td>The price of the customer's purchased vehicle,...</td>\n",
       "      <td>NaN</td>\n",
       "    </tr>\n",
       "    <tr>\n",
       "      <th>10</th>\n",
       "      <td>appraisal_offer</td>\n",
       "      <td>String</td>\n",
       "      <td>The appraisal offer of the customer's appraise...</td>\n",
       "      <td>NaN</td>\n",
       "    </tr>\n",
       "    <tr>\n",
       "      <th>11</th>\n",
       "      <td>online_appraisal_flag</td>\n",
       "      <td>Integer</td>\n",
       "      <td>A \"1\" in this column indicates an online appra...</td>\n",
       "      <td>NaN</td>\n",
       "    </tr>\n",
       "    <tr>\n",
       "      <th>12</th>\n",
       "      <td>model_year</td>\n",
       "      <td>Numeric</td>\n",
       "      <td>The model year of the customer's purchased veh...</td>\n",
       "      <td>NaN</td>\n",
       "    </tr>\n",
       "    <tr>\n",
       "      <th>13</th>\n",
       "      <td>mileage</td>\n",
       "      <td>String</td>\n",
       "      <td>The mileage of the customer's purchased vehicl...</td>\n",
       "      <td>NaN</td>\n",
       "    </tr>\n",
       "    <tr>\n",
       "      <th>14</th>\n",
       "      <td>make</td>\n",
       "      <td>String</td>\n",
       "      <td>The make of the customer's purchased vehicle</td>\n",
       "      <td>NaN</td>\n",
       "    </tr>\n",
       "    <tr>\n",
       "      <th>15</th>\n",
       "      <td>model</td>\n",
       "      <td>String</td>\n",
       "      <td>The model of the customer's purchased vehicle</td>\n",
       "      <td>NaN</td>\n",
       "    </tr>\n",
       "    <tr>\n",
       "      <th>16</th>\n",
       "      <td>trim_descrip</td>\n",
       "      <td>String</td>\n",
       "      <td>The trim description of the customer's purchas...</td>\n",
       "      <td>NaN</td>\n",
       "    </tr>\n",
       "    <tr>\n",
       "      <th>17</th>\n",
       "      <td>body</td>\n",
       "      <td>String</td>\n",
       "      <td>The body description of the customer's purchas...</td>\n",
       "      <td>NaN</td>\n",
       "    </tr>\n",
       "    <tr>\n",
       "      <th>18</th>\n",
       "      <td>color</td>\n",
       "      <td>String</td>\n",
       "      <td>The color of the customer's purchased vehicle</td>\n",
       "      <td>NaN</td>\n",
       "    </tr>\n",
       "    <tr>\n",
       "      <th>19</th>\n",
       "      <td>engine</td>\n",
       "      <td>String</td>\n",
       "      <td>The engine type of the customer's purchased ve...</td>\n",
       "      <td>NaN</td>\n",
       "    </tr>\n",
       "    <tr>\n",
       "      <th>20</th>\n",
       "      <td>cylinders</td>\n",
       "      <td>Numeric</td>\n",
       "      <td>The number of cylinders of the customer's purc...</td>\n",
       "      <td>NaN</td>\n",
       "    </tr>\n",
       "    <tr>\n",
       "      <th>21</th>\n",
       "      <td>mpg_city</td>\n",
       "      <td>Numeric</td>\n",
       "      <td>The city miles per gallon of the customer's pu...</td>\n",
       "      <td>NaN</td>\n",
       "    </tr>\n",
       "    <tr>\n",
       "      <th>22</th>\n",
       "      <td>mpg_highway</td>\n",
       "      <td>Numeric</td>\n",
       "      <td>The highway miles per gallon of the customer's...</td>\n",
       "      <td>NaN</td>\n",
       "    </tr>\n",
       "    <tr>\n",
       "      <th>23</th>\n",
       "      <td>horsepower</td>\n",
       "      <td>Numeric</td>\n",
       "      <td>The horsepower of the customer's purchased veh...</td>\n",
       "      <td>NaN</td>\n",
       "    </tr>\n",
       "    <tr>\n",
       "      <th>24</th>\n",
       "      <td>fuel_capacity</td>\n",
       "      <td>Numeric</td>\n",
       "      <td>The fuel capacity of the customer's purchased ...</td>\n",
       "      <td>NaN</td>\n",
       "    </tr>\n",
       "    <tr>\n",
       "      <th>25</th>\n",
       "      <td>model_year_appraisal</td>\n",
       "      <td>Numeric</td>\n",
       "      <td>The model year of the customer's appraised veh...</td>\n",
       "      <td>NaN</td>\n",
       "    </tr>\n",
       "    <tr>\n",
       "      <th>26</th>\n",
       "      <td>mileage_appraisal</td>\n",
       "      <td>String</td>\n",
       "      <td>The mileage of the customer's appraised vehicl...</td>\n",
       "      <td>NaN</td>\n",
       "    </tr>\n",
       "    <tr>\n",
       "      <th>27</th>\n",
       "      <td>make_appraisal</td>\n",
       "      <td>String</td>\n",
       "      <td>The make of the customer's appraised vehicle</td>\n",
       "      <td>NaN</td>\n",
       "    </tr>\n",
       "    <tr>\n",
       "      <th>28</th>\n",
       "      <td>model_appraisal</td>\n",
       "      <td>String</td>\n",
       "      <td>The model of the customer's appraised vehicle</td>\n",
       "      <td>NaN</td>\n",
       "    </tr>\n",
       "    <tr>\n",
       "      <th>29</th>\n",
       "      <td>trim_descrip_appraisal</td>\n",
       "      <td>String</td>\n",
       "      <td>The trim description of the customer's apprais...</td>\n",
       "      <td>NaN</td>\n",
       "    </tr>\n",
       "    <tr>\n",
       "      <th>30</th>\n",
       "      <td>body_appraisal</td>\n",
       "      <td>String</td>\n",
       "      <td>The body description of the customer's apprais...</td>\n",
       "      <td>NaN</td>\n",
       "    </tr>\n",
       "    <tr>\n",
       "      <th>31</th>\n",
       "      <td>color_appraisal</td>\n",
       "      <td>String</td>\n",
       "      <td>The color of the customer's appraised vehicle</td>\n",
       "      <td>NaN</td>\n",
       "    </tr>\n",
       "    <tr>\n",
       "      <th>32</th>\n",
       "      <td>engine_appraisal</td>\n",
       "      <td>String</td>\n",
       "      <td>The engine type of the customer's appraised ve...</td>\n",
       "      <td>NaN</td>\n",
       "    </tr>\n",
       "    <tr>\n",
       "      <th>33</th>\n",
       "      <td>cylinders_appraisal</td>\n",
       "      <td>Numeric</td>\n",
       "      <td>The number of cylinders of the customer's appr...</td>\n",
       "      <td>NaN</td>\n",
       "    </tr>\n",
       "    <tr>\n",
       "      <th>34</th>\n",
       "      <td>mpg_city_appraisal</td>\n",
       "      <td>Numeric</td>\n",
       "      <td>The city miles per gallon of the customer's ap...</td>\n",
       "      <td>NaN</td>\n",
       "    </tr>\n",
       "    <tr>\n",
       "      <th>35</th>\n",
       "      <td>mpg_highway_appraisal</td>\n",
       "      <td>Numeric</td>\n",
       "      <td>The highway miles per gallon of the customer's...</td>\n",
       "      <td>NaN</td>\n",
       "    </tr>\n",
       "    <tr>\n",
       "      <th>36</th>\n",
       "      <td>horsepower_appraisal</td>\n",
       "      <td>Numeric</td>\n",
       "      <td>The horsepower of the customer's appraised veh...</td>\n",
       "      <td>NaN</td>\n",
       "    </tr>\n",
       "    <tr>\n",
       "      <th>37</th>\n",
       "      <td>fuel_capacity_appraisal</td>\n",
       "      <td>Numeric</td>\n",
       "      <td>The fuel capacity of the customer's appraised ...</td>\n",
       "      <td>NaN</td>\n",
       "    </tr>\n",
       "    <tr>\n",
       "      <th>38</th>\n",
       "      <td>market</td>\n",
       "      <td>String</td>\n",
       "      <td>The market where the transaction occurred</td>\n",
       "      <td>NaN</td>\n",
       "    </tr>\n",
       "  </tbody>\n",
       "</table>\n",
       "</div>"
      ],
      "text/plain": [
       "                                    Problem Statement Unnamed: 1  \\\n",
       "0   Many customers decide to trade-in their curren...        NaN   \n",
       "1                                                 NaN        NaN   \n",
       "2                                                 NaN        NaN   \n",
       "3                                                 NaN        NaN   \n",
       "4                                Data set description        NaN   \n",
       "5   The data is composed of vehicle attributes vis...        NaN   \n",
       "6                                                 NaN        NaN   \n",
       "7                                                 NaN        NaN   \n",
       "8                                         Column Name  Data Type   \n",
       "9                                               price     String   \n",
       "10                                    appraisal_offer     String   \n",
       "11                              online_appraisal_flag    Integer   \n",
       "12                                         model_year    Numeric   \n",
       "13                                            mileage     String   \n",
       "14                                               make     String   \n",
       "15                                              model     String   \n",
       "16                                       trim_descrip     String   \n",
       "17                                               body     String   \n",
       "18                                              color     String   \n",
       "19                                             engine     String   \n",
       "20                                          cylinders    Numeric   \n",
       "21                                           mpg_city    Numeric   \n",
       "22                                        mpg_highway    Numeric   \n",
       "23                                         horsepower    Numeric   \n",
       "24                                      fuel_capacity    Numeric   \n",
       "25                               model_year_appraisal    Numeric   \n",
       "26                                  mileage_appraisal     String   \n",
       "27                                     make_appraisal     String   \n",
       "28                                    model_appraisal     String   \n",
       "29                             trim_descrip_appraisal     String   \n",
       "30                                     body_appraisal     String   \n",
       "31                                    color_appraisal     String   \n",
       "32                                   engine_appraisal     String   \n",
       "33                                cylinders_appraisal    Numeric   \n",
       "34                                 mpg_city_appraisal    Numeric   \n",
       "35                              mpg_highway_appraisal    Numeric   \n",
       "36                               horsepower_appraisal    Numeric   \n",
       "37                            fuel_capacity_appraisal    Numeric   \n",
       "38                                             market     String   \n",
       "\n",
       "                                           Unnamed: 2  Unnamed: 3  \n",
       "0                                                 NaN         NaN  \n",
       "1                                                 NaN         NaN  \n",
       "2                                                 NaN         NaN  \n",
       "3                                                 NaN         NaN  \n",
       "4                                                 NaN         NaN  \n",
       "5                                                 NaN         NaN  \n",
       "6                                                 NaN         NaN  \n",
       "7                                                 NaN         NaN  \n",
       "8                                         Description         NaN  \n",
       "9   The price of the customer's purchased vehicle,...         NaN  \n",
       "10  The appraisal offer of the customer's appraise...         NaN  \n",
       "11  A \"1\" in this column indicates an online appra...         NaN  \n",
       "12  The model year of the customer's purchased veh...         NaN  \n",
       "13  The mileage of the customer's purchased vehicl...         NaN  \n",
       "14       The make of the customer's purchased vehicle         NaN  \n",
       "15      The model of the customer's purchased vehicle         NaN  \n",
       "16  The trim description of the customer's purchas...         NaN  \n",
       "17  The body description of the customer's purchas...         NaN  \n",
       "18      The color of the customer's purchased vehicle         NaN  \n",
       "19  The engine type of the customer's purchased ve...         NaN  \n",
       "20  The number of cylinders of the customer's purc...         NaN  \n",
       "21  The city miles per gallon of the customer's pu...         NaN  \n",
       "22  The highway miles per gallon of the customer's...         NaN  \n",
       "23  The horsepower of the customer's purchased veh...         NaN  \n",
       "24  The fuel capacity of the customer's purchased ...         NaN  \n",
       "25  The model year of the customer's appraised veh...         NaN  \n",
       "26  The mileage of the customer's appraised vehicl...         NaN  \n",
       "27       The make of the customer's appraised vehicle         NaN  \n",
       "28      The model of the customer's appraised vehicle         NaN  \n",
       "29  The trim description of the customer's apprais...         NaN  \n",
       "30  The body description of the customer's apprais...         NaN  \n",
       "31      The color of the customer's appraised vehicle         NaN  \n",
       "32  The engine type of the customer's appraised ve...         NaN  \n",
       "33  The number of cylinders of the customer's appr...         NaN  \n",
       "34  The city miles per gallon of the customer's ap...         NaN  \n",
       "35  The highway miles per gallon of the customer's...         NaN  \n",
       "36  The horsepower of the customer's appraised veh...         NaN  \n",
       "37  The fuel capacity of the customer's appraised ...         NaN  \n",
       "38          The market where the transaction occurred         NaN  "
      ]
     },
     "execution_count": 4,
     "metadata": {},
     "output_type": "execute_result"
    }
   ],
   "source": [
    "df_dict"
   ]
  },
  {
   "cell_type": "code",
   "execution_count": 246,
   "id": "f0588891",
   "metadata": {},
   "outputs": [
    {
     "data": {
      "text/html": [
       "<div>\n",
       "<style scoped>\n",
       "    .dataframe tbody tr th:only-of-type {\n",
       "        vertical-align: middle;\n",
       "    }\n",
       "\n",
       "    .dataframe tbody tr th {\n",
       "        vertical-align: top;\n",
       "    }\n",
       "\n",
       "    .dataframe thead th {\n",
       "        text-align: right;\n",
       "    }\n",
       "</style>\n",
       "<table border=\"1\" class=\"dataframe\">\n",
       "  <thead>\n",
       "    <tr style=\"text-align: right;\">\n",
       "      <th></th>\n",
       "      <th>price</th>\n",
       "      <th>appraisal_offer</th>\n",
       "      <th>online_appraisal_flag</th>\n",
       "      <th>model_year</th>\n",
       "      <th>mileage</th>\n",
       "      <th>make</th>\n",
       "      <th>model</th>\n",
       "      <th>trim_descrip</th>\n",
       "      <th>body</th>\n",
       "      <th>color</th>\n",
       "      <th>...</th>\n",
       "      <th>body_appraisal</th>\n",
       "      <th>color_appraisal</th>\n",
       "      <th>engine_appraisal</th>\n",
       "      <th>cylinders_appraisal</th>\n",
       "      <th>mpg_city_appraisal</th>\n",
       "      <th>mpg_highway_appraisal</th>\n",
       "      <th>horsepower_appraisal</th>\n",
       "      <th>fuel_capacity_appraisal</th>\n",
       "      <th>market</th>\n",
       "      <th>color_dif</th>\n",
       "    </tr>\n",
       "  </thead>\n",
       "  <tbody>\n",
       "    <tr>\n",
       "      <th>0</th>\n",
       "      <td>$20k to $25k</td>\n",
       "      <td>$0k to $5k</td>\n",
       "      <td>1</td>\n",
       "      <td>2014</td>\n",
       "      <td>15k to 20k miles</td>\n",
       "      <td>HDT</td>\n",
       "      <td>HDT_12</td>\n",
       "      <td>Premium</td>\n",
       "      <td>E</td>\n",
       "      <td>Red</td>\n",
       "      <td>...</td>\n",
       "      <td>D</td>\n",
       "      <td>Silver</td>\n",
       "      <td>4.0L</td>\n",
       "      <td>6</td>\n",
       "      <td>17.0</td>\n",
       "      <td>21</td>\n",
       "      <td>236</td>\n",
       "      <td>21.0</td>\n",
       "      <td>13</td>\n",
       "      <td>yes</td>\n",
       "    </tr>\n",
       "    <tr>\n",
       "      <th>1</th>\n",
       "      <td>$15k to $20k</td>\n",
       "      <td>$0k to $5k</td>\n",
       "      <td>0</td>\n",
       "      <td>2006</td>\n",
       "      <td>100k+ miles</td>\n",
       "      <td>KQZ</td>\n",
       "      <td>KQZ_23</td>\n",
       "      <td>Premium</td>\n",
       "      <td>E</td>\n",
       "      <td>Silver</td>\n",
       "      <td>...</td>\n",
       "      <td>D</td>\n",
       "      <td>Gold</td>\n",
       "      <td>4.2L</td>\n",
       "      <td>6</td>\n",
       "      <td>16.0</td>\n",
       "      <td>21</td>\n",
       "      <td>205</td>\n",
       "      <td>25.0</td>\n",
       "      <td>11</td>\n",
       "      <td>yes</td>\n",
       "    </tr>\n",
       "    <tr>\n",
       "      <th>2</th>\n",
       "      <td>$30k to $35k</td>\n",
       "      <td>$35k to $40k</td>\n",
       "      <td>1</td>\n",
       "      <td>2014</td>\n",
       "      <td>5k to 10k miles</td>\n",
       "      <td>CZV</td>\n",
       "      <td>CZV_10</td>\n",
       "      <td>Premium</td>\n",
       "      <td>E</td>\n",
       "      <td>Black</td>\n",
       "      <td>...</td>\n",
       "      <td>E</td>\n",
       "      <td>Red</td>\n",
       "      <td>2.0L</td>\n",
       "      <td>4</td>\n",
       "      <td>41.0</td>\n",
       "      <td>38</td>\n",
       "      <td>181</td>\n",
       "      <td>10.0</td>\n",
       "      <td>13</td>\n",
       "      <td>yes</td>\n",
       "    </tr>\n",
       "    <tr>\n",
       "      <th>3</th>\n",
       "      <td>$35k to $40k</td>\n",
       "      <td>$5k to $10k</td>\n",
       "      <td>1</td>\n",
       "      <td>2014</td>\n",
       "      <td>15k to 20k miles</td>\n",
       "      <td>IZA</td>\n",
       "      <td>IZA_19</td>\n",
       "      <td>Premium</td>\n",
       "      <td>F</td>\n",
       "      <td>Silver</td>\n",
       "      <td>...</td>\n",
       "      <td>F</td>\n",
       "      <td>Blue</td>\n",
       "      <td>3.0L</td>\n",
       "      <td>6</td>\n",
       "      <td>17.0</td>\n",
       "      <td>25</td>\n",
       "      <td>230</td>\n",
       "      <td>16.0</td>\n",
       "      <td>13</td>\n",
       "      <td>yes</td>\n",
       "    </tr>\n",
       "    <tr>\n",
       "      <th>4</th>\n",
       "      <td>$30k to $35k</td>\n",
       "      <td>$15k to $20k</td>\n",
       "      <td>1</td>\n",
       "      <td>2011</td>\n",
       "      <td>35k to 40k miles</td>\n",
       "      <td>HDT</td>\n",
       "      <td>HDT_8</td>\n",
       "      <td>Premium</td>\n",
       "      <td>F</td>\n",
       "      <td>Blue</td>\n",
       "      <td>...</td>\n",
       "      <td>E</td>\n",
       "      <td>Black</td>\n",
       "      <td>2.4L</td>\n",
       "      <td>4</td>\n",
       "      <td>20.0</td>\n",
       "      <td>29</td>\n",
       "      <td>182</td>\n",
       "      <td>18.0</td>\n",
       "      <td>16</td>\n",
       "      <td>yes</td>\n",
       "    </tr>\n",
       "    <tr>\n",
       "      <th>...</th>\n",
       "      <td>...</td>\n",
       "      <td>...</td>\n",
       "      <td>...</td>\n",
       "      <td>...</td>\n",
       "      <td>...</td>\n",
       "      <td>...</td>\n",
       "      <td>...</td>\n",
       "      <td>...</td>\n",
       "      <td>...</td>\n",
       "      <td>...</td>\n",
       "      <td>...</td>\n",
       "      <td>...</td>\n",
       "      <td>...</td>\n",
       "      <td>...</td>\n",
       "      <td>...</td>\n",
       "      <td>...</td>\n",
       "      <td>...</td>\n",
       "      <td>...</td>\n",
       "      <td>...</td>\n",
       "      <td>...</td>\n",
       "      <td>...</td>\n",
       "    </tr>\n",
       "    <tr>\n",
       "      <th>199995</th>\n",
       "      <td>$15k to $20k</td>\n",
       "      <td>$15k to $20k</td>\n",
       "      <td>1</td>\n",
       "      <td>2013</td>\n",
       "      <td>10k to 15k miles</td>\n",
       "      <td>OFW</td>\n",
       "      <td>OFW_6</td>\n",
       "      <td>Premium</td>\n",
       "      <td>F</td>\n",
       "      <td>Black</td>\n",
       "      <td>...</td>\n",
       "      <td>E</td>\n",
       "      <td>Black</td>\n",
       "      <td>1.4L</td>\n",
       "      <td>4</td>\n",
       "      <td>26.0</td>\n",
       "      <td>31</td>\n",
       "      <td>138</td>\n",
       "      <td>14.0</td>\n",
       "      <td>1</td>\n",
       "      <td>yes</td>\n",
       "    </tr>\n",
       "    <tr>\n",
       "      <th>199996</th>\n",
       "      <td>$20k to $25k</td>\n",
       "      <td>$10k to $15k</td>\n",
       "      <td>0</td>\n",
       "      <td>2014</td>\n",
       "      <td>55k to 60k miles</td>\n",
       "      <td>ARU</td>\n",
       "      <td>ARU_12</td>\n",
       "      <td>Not Premium</td>\n",
       "      <td>F</td>\n",
       "      <td>White</td>\n",
       "      <td>...</td>\n",
       "      <td>B</td>\n",
       "      <td>Black</td>\n",
       "      <td>1.8L</td>\n",
       "      <td>4</td>\n",
       "      <td>30.0</td>\n",
       "      <td>39</td>\n",
       "      <td>143</td>\n",
       "      <td>13.0</td>\n",
       "      <td>8</td>\n",
       "      <td>yes</td>\n",
       "    </tr>\n",
       "    <tr>\n",
       "      <th>199997</th>\n",
       "      <td>$30k to $35k</td>\n",
       "      <td>$0k to $5k</td>\n",
       "      <td>0</td>\n",
       "      <td>2014</td>\n",
       "      <td>10k to 15k miles</td>\n",
       "      <td>AIH</td>\n",
       "      <td>AIH_13</td>\n",
       "      <td>Premium</td>\n",
       "      <td>F</td>\n",
       "      <td>Silver</td>\n",
       "      <td>...</td>\n",
       "      <td>F</td>\n",
       "      <td>Gray</td>\n",
       "      <td>2.4L</td>\n",
       "      <td>4</td>\n",
       "      <td>21.0</td>\n",
       "      <td>30</td>\n",
       "      <td>177</td>\n",
       "      <td>18.0</td>\n",
       "      <td>3</td>\n",
       "      <td>yes</td>\n",
       "    </tr>\n",
       "    <tr>\n",
       "      <th>199998</th>\n",
       "      <td>$30k to $35k</td>\n",
       "      <td>$10k to $15k</td>\n",
       "      <td>0</td>\n",
       "      <td>2012</td>\n",
       "      <td>50k to 55k miles</td>\n",
       "      <td>KQZ</td>\n",
       "      <td>KQZ_3</td>\n",
       "      <td>Not Premium</td>\n",
       "      <td>D</td>\n",
       "      <td>Black</td>\n",
       "      <td>...</td>\n",
       "      <td>D</td>\n",
       "      <td>White</td>\n",
       "      <td>5.7L</td>\n",
       "      <td>8</td>\n",
       "      <td>13.0</td>\n",
       "      <td>19</td>\n",
       "      <td>390</td>\n",
       "      <td>26.0</td>\n",
       "      <td>11</td>\n",
       "      <td>yes</td>\n",
       "    </tr>\n",
       "    <tr>\n",
       "      <th>199999</th>\n",
       "      <td>$50k to $55k</td>\n",
       "      <td>$15k to $20k</td>\n",
       "      <td>0</td>\n",
       "      <td>2014</td>\n",
       "      <td>5k to 10k miles</td>\n",
       "      <td>CIP</td>\n",
       "      <td>CIP_22</td>\n",
       "      <td>Premium</td>\n",
       "      <td>E</td>\n",
       "      <td>Black</td>\n",
       "      <td>...</td>\n",
       "      <td>E</td>\n",
       "      <td>Blue</td>\n",
       "      <td>5.7L</td>\n",
       "      <td>8</td>\n",
       "      <td>18.0</td>\n",
       "      <td>25</td>\n",
       "      <td>360</td>\n",
       "      <td>24.0</td>\n",
       "      <td>14</td>\n",
       "      <td>yes</td>\n",
       "    </tr>\n",
       "  </tbody>\n",
       "</table>\n",
       "<p>199999 rows × 31 columns</p>\n",
       "</div>"
      ],
      "text/plain": [
       "               price appraisal_offer  online_appraisal_flag  model_year  \\\n",
       "0       $20k to $25k      $0k to $5k                      1        2014   \n",
       "1       $15k to $20k      $0k to $5k                      0        2006   \n",
       "2       $30k to $35k    $35k to $40k                      1        2014   \n",
       "3       $35k to $40k     $5k to $10k                      1        2014   \n",
       "4       $30k to $35k    $15k to $20k                      1        2011   \n",
       "...              ...             ...                    ...         ...   \n",
       "199995  $15k to $20k    $15k to $20k                      1        2013   \n",
       "199996  $20k to $25k    $10k to $15k                      0        2014   \n",
       "199997  $30k to $35k      $0k to $5k                      0        2014   \n",
       "199998  $30k to $35k    $10k to $15k                      0        2012   \n",
       "199999  $50k to $55k    $15k to $20k                      0        2014   \n",
       "\n",
       "                 mileage make   model trim_descrip body   color  ...  \\\n",
       "0       15k to 20k miles  HDT  HDT_12      Premium    E     Red  ...   \n",
       "1            100k+ miles  KQZ  KQZ_23      Premium    E  Silver  ...   \n",
       "2        5k to 10k miles  CZV  CZV_10      Premium    E   Black  ...   \n",
       "3       15k to 20k miles  IZA  IZA_19      Premium    F  Silver  ...   \n",
       "4       35k to 40k miles  HDT   HDT_8      Premium    F    Blue  ...   \n",
       "...                  ...  ...     ...          ...  ...     ...  ...   \n",
       "199995  10k to 15k miles  OFW   OFW_6      Premium    F   Black  ...   \n",
       "199996  55k to 60k miles  ARU  ARU_12  Not Premium    F   White  ...   \n",
       "199997  10k to 15k miles  AIH  AIH_13      Premium    F  Silver  ...   \n",
       "199998  50k to 55k miles  KQZ   KQZ_3  Not Premium    D   Black  ...   \n",
       "199999   5k to 10k miles  CIP  CIP_22      Premium    E   Black  ...   \n",
       "\n",
       "       body_appraisal  color_appraisal  engine_appraisal  cylinders_appraisal  \\\n",
       "0                   D           Silver              4.0L                    6   \n",
       "1                   D             Gold              4.2L                    6   \n",
       "2                   E              Red              2.0L                    4   \n",
       "3                   F             Blue              3.0L                    6   \n",
       "4                   E            Black              2.4L                    4   \n",
       "...               ...              ...               ...                  ...   \n",
       "199995              E            Black              1.4L                    4   \n",
       "199996              B            Black              1.8L                    4   \n",
       "199997              F             Gray              2.4L                    4   \n",
       "199998              D            White              5.7L                    8   \n",
       "199999              E             Blue              5.7L                    8   \n",
       "\n",
       "        mpg_city_appraisal  mpg_highway_appraisal  horsepower_appraisal  \\\n",
       "0                     17.0                     21                   236   \n",
       "1                     16.0                     21                   205   \n",
       "2                     41.0                     38                   181   \n",
       "3                     17.0                     25                   230   \n",
       "4                     20.0                     29                   182   \n",
       "...                    ...                    ...                   ...   \n",
       "199995                26.0                     31                   138   \n",
       "199996                30.0                     39                   143   \n",
       "199997                21.0                     30                   177   \n",
       "199998                13.0                     19                   390   \n",
       "199999                18.0                     25                   360   \n",
       "\n",
       "       fuel_capacity_appraisal market color_dif  \n",
       "0                         21.0     13       yes  \n",
       "1                         25.0     11       yes  \n",
       "2                         10.0     13       yes  \n",
       "3                         16.0     13       yes  \n",
       "4                         18.0     16       yes  \n",
       "...                        ...    ...       ...  \n",
       "199995                    14.0      1       yes  \n",
       "199996                    13.0      8       yes  \n",
       "199997                    18.0      3       yes  \n",
       "199998                    26.0     11       yes  \n",
       "199999                    24.0     14       yes  \n",
       "\n",
       "[199999 rows x 31 columns]"
      ]
     },
     "execution_count": 246,
     "metadata": {},
     "output_type": "execute_result"
    }
   ],
   "source": [
    "df"
   ]
  },
  {
   "cell_type": "code",
   "execution_count": 6,
   "id": "718cf7cc",
   "metadata": {
    "scrolled": true
   },
   "outputs": [
    {
     "name": "stdout",
     "output_type": "stream",
     "text": [
      "<class 'pandas.core.frame.DataFrame'>\n",
      "RangeIndex: 200000 entries, 0 to 199999\n",
      "Data columns (total 30 columns):\n",
      " #   Column                   Non-Null Count   Dtype  \n",
      "---  ------                   --------------   -----  \n",
      " 0   price                    200000 non-null  object \n",
      " 1   appraisal_offer          200000 non-null  object \n",
      " 2   online_appraisal_flag    196166 non-null  float64\n",
      " 3   model_year               200000 non-null  int64  \n",
      " 4   mileage                  200000 non-null  object \n",
      " 5   make                     200000 non-null  object \n",
      " 6   model                    200000 non-null  object \n",
      " 7   trim_descrip             176159 non-null  object \n",
      " 8   body                     189741 non-null  object \n",
      " 9   color                    199967 non-null  object \n",
      " 10  engine                   200000 non-null  object \n",
      " 11  cylinders                200000 non-null  int64  \n",
      " 12  mpg_city                 199410 non-null  float64\n",
      " 13  mpg_highway              199410 non-null  float64\n",
      " 14  horsepower               200000 non-null  int64  \n",
      " 15  fuel_capacity            199996 non-null  float64\n",
      " 16  model_year_appraisal     200000 non-null  int64  \n",
      " 17  mileage_appraisal        200000 non-null  object \n",
      " 18  make_appraisal           200000 non-null  object \n",
      " 19  model_appraisal          178492 non-null  object \n",
      " 20  trim_descrip_appraisal   168920 non-null  object \n",
      " 21  body_appraisal           200000 non-null  object \n",
      " 22  color_appraisal          198682 non-null  object \n",
      " 23  engine_appraisal         200000 non-null  object \n",
      " 24  cylinders_appraisal      200000 non-null  int64  \n",
      " 25  mpg_city_appraisal       199999 non-null  float64\n",
      " 26  mpg_highway_appraisal    200000 non-null  int64  \n",
      " 27  horsepower_appraisal     200000 non-null  int64  \n",
      " 28  fuel_capacity_appraisal  199688 non-null  float64\n",
      " 29  market                   200000 non-null  int64  \n",
      "dtypes: float64(6), int64(8), object(16)\n",
      "memory usage: 45.8+ MB\n"
     ]
    }
   ],
   "source": [
    "df.info()"
   ]
  },
  {
   "cell_type": "code",
   "execution_count": 7,
   "id": "a219c892",
   "metadata": {
    "scrolled": true
   },
   "outputs": [
    {
     "data": {
      "text/plain": [
       "price                          0\n",
       "appraisal_offer                0\n",
       "online_appraisal_flag       3834\n",
       "model_year                     0\n",
       "mileage                        0\n",
       "make                           0\n",
       "model                          0\n",
       "trim_descrip               23841\n",
       "body                       10259\n",
       "color                         33\n",
       "engine                         0\n",
       "cylinders                      0\n",
       "mpg_city                     590\n",
       "mpg_highway                  590\n",
       "horsepower                     0\n",
       "fuel_capacity                  4\n",
       "model_year_appraisal           0\n",
       "mileage_appraisal              0\n",
       "make_appraisal                 0\n",
       "model_appraisal            21508\n",
       "trim_descrip_appraisal     31080\n",
       "body_appraisal                 0\n",
       "color_appraisal             1318\n",
       "engine_appraisal               0\n",
       "cylinders_appraisal            0\n",
       "mpg_city_appraisal             1\n",
       "mpg_highway_appraisal          0\n",
       "horsepower_appraisal           0\n",
       "fuel_capacity_appraisal      312\n",
       "market                         0\n",
       "dtype: int64"
      ]
     },
     "execution_count": 7,
     "metadata": {},
     "output_type": "execute_result"
    }
   ],
   "source": [
    "df.isna().sum()"
   ]
  },
  {
   "cell_type": "code",
   "execution_count": 8,
   "id": "ba6c1ee1",
   "metadata": {},
   "outputs": [
    {
     "data": {
      "text/html": [
       "<div>\n",
       "<style scoped>\n",
       "    .dataframe tbody tr th:only-of-type {\n",
       "        vertical-align: middle;\n",
       "    }\n",
       "\n",
       "    .dataframe tbody tr th {\n",
       "        vertical-align: top;\n",
       "    }\n",
       "\n",
       "    .dataframe thead th {\n",
       "        text-align: right;\n",
       "    }\n",
       "</style>\n",
       "<table border=\"1\" class=\"dataframe\">\n",
       "  <thead>\n",
       "    <tr style=\"text-align: right;\">\n",
       "      <th></th>\n",
       "      <th>online_appraisal_flag</th>\n",
       "      <th>model_year</th>\n",
       "      <th>cylinders</th>\n",
       "      <th>mpg_city</th>\n",
       "      <th>mpg_highway</th>\n",
       "      <th>horsepower</th>\n",
       "      <th>fuel_capacity</th>\n",
       "      <th>model_year_appraisal</th>\n",
       "      <th>cylinders_appraisal</th>\n",
       "      <th>mpg_city_appraisal</th>\n",
       "      <th>mpg_highway_appraisal</th>\n",
       "      <th>horsepower_appraisal</th>\n",
       "      <th>fuel_capacity_appraisal</th>\n",
       "      <th>market</th>\n",
       "    </tr>\n",
       "  </thead>\n",
       "  <tbody>\n",
       "    <tr>\n",
       "      <th>count</th>\n",
       "      <td>196166.000000</td>\n",
       "      <td>200000.000000</td>\n",
       "      <td>200000.000000</td>\n",
       "      <td>199410.000000</td>\n",
       "      <td>199410.000000</td>\n",
       "      <td>200000.000000</td>\n",
       "      <td>199996.000000</td>\n",
       "      <td>200000.000000</td>\n",
       "      <td>200000.000000</td>\n",
       "      <td>199999.000000</td>\n",
       "      <td>200000.000000</td>\n",
       "      <td>200000.000000</td>\n",
       "      <td>199688.000000</td>\n",
       "      <td>200000.000000</td>\n",
       "    </tr>\n",
       "    <tr>\n",
       "      <th>mean</th>\n",
       "      <td>0.252949</td>\n",
       "      <td>2012.563570</td>\n",
       "      <td>4.965780</td>\n",
       "      <td>22.172118</td>\n",
       "      <td>29.376671</td>\n",
       "      <td>236.973075</td>\n",
       "      <td>17.579302</td>\n",
       "      <td>2007.848445</td>\n",
       "      <td>5.072170</td>\n",
       "      <td>21.679143</td>\n",
       "      <td>29.209780</td>\n",
       "      <td>219.746690</td>\n",
       "      <td>17.565728</td>\n",
       "      <td>8.418455</td>\n",
       "    </tr>\n",
       "    <tr>\n",
       "      <th>std</th>\n",
       "      <td>0.434703</td>\n",
       "      <td>2.111069</td>\n",
       "      <td>1.389352</td>\n",
       "      <td>5.238446</td>\n",
       "      <td>5.678557</td>\n",
       "      <td>76.622682</td>\n",
       "      <td>4.322564</td>\n",
       "      <td>4.872934</td>\n",
       "      <td>1.329861</td>\n",
       "      <td>5.482760</td>\n",
       "      <td>6.061812</td>\n",
       "      <td>73.593995</td>\n",
       "      <td>4.401769</td>\n",
       "      <td>4.512525</td>\n",
       "    </tr>\n",
       "    <tr>\n",
       "      <th>min</th>\n",
       "      <td>0.000000</td>\n",
       "      <td>1991.000000</td>\n",
       "      <td>0.000000</td>\n",
       "      <td>11.000000</td>\n",
       "      <td>14.000000</td>\n",
       "      <td>11.000000</td>\n",
       "      <td>1.000000</td>\n",
       "      <td>1986.000000</td>\n",
       "      <td>3.000000</td>\n",
       "      <td>9.000000</td>\n",
       "      <td>13.000000</td>\n",
       "      <td>11.000000</td>\n",
       "      <td>7.000000</td>\n",
       "      <td>1.000000</td>\n",
       "    </tr>\n",
       "    <tr>\n",
       "      <th>25%</th>\n",
       "      <td>0.000000</td>\n",
       "      <td>2012.000000</td>\n",
       "      <td>4.000000</td>\n",
       "      <td>18.000000</td>\n",
       "      <td>25.000000</td>\n",
       "      <td>175.000000</td>\n",
       "      <td>14.000000</td>\n",
       "      <td>2005.000000</td>\n",
       "      <td>4.000000</td>\n",
       "      <td>18.000000</td>\n",
       "      <td>25.000000</td>\n",
       "      <td>168.000000</td>\n",
       "      <td>14.000000</td>\n",
       "      <td>5.000000</td>\n",
       "    </tr>\n",
       "    <tr>\n",
       "      <th>50%</th>\n",
       "      <td>0.000000</td>\n",
       "      <td>2013.000000</td>\n",
       "      <td>4.000000</td>\n",
       "      <td>22.000000</td>\n",
       "      <td>29.000000</td>\n",
       "      <td>228.000000</td>\n",
       "      <td>17.000000</td>\n",
       "      <td>2009.000000</td>\n",
       "      <td>4.000000</td>\n",
       "      <td>21.000000</td>\n",
       "      <td>29.000000</td>\n",
       "      <td>197.000000</td>\n",
       "      <td>17.000000</td>\n",
       "      <td>8.000000</td>\n",
       "    </tr>\n",
       "    <tr>\n",
       "      <th>75%</th>\n",
       "      <td>1.000000</td>\n",
       "      <td>2014.000000</td>\n",
       "      <td>6.000000</td>\n",
       "      <td>26.000000</td>\n",
       "      <td>33.000000</td>\n",
       "      <td>290.000000</td>\n",
       "      <td>19.000000</td>\n",
       "      <td>2012.000000</td>\n",
       "      <td>6.000000</td>\n",
       "      <td>25.000000</td>\n",
       "      <td>34.000000</td>\n",
       "      <td>278.000000</td>\n",
       "      <td>20.000000</td>\n",
       "      <td>12.000000</td>\n",
       "    </tr>\n",
       "    <tr>\n",
       "      <th>max</th>\n",
       "      <td>1.000000</td>\n",
       "      <td>2017.000000</td>\n",
       "      <td>16.000000</td>\n",
       "      <td>60.000000</td>\n",
       "      <td>59.000000</td>\n",
       "      <td>760.000000</td>\n",
       "      <td>48.000000</td>\n",
       "      <td>2017.000000</td>\n",
       "      <td>10.000000</td>\n",
       "      <td>60.000000</td>\n",
       "      <td>59.000000</td>\n",
       "      <td>760.000000</td>\n",
       "      <td>48.000000</td>\n",
       "      <td>16.000000</td>\n",
       "    </tr>\n",
       "  </tbody>\n",
       "</table>\n",
       "</div>"
      ],
      "text/plain": [
       "       online_appraisal_flag     model_year      cylinders       mpg_city  \\\n",
       "count          196166.000000  200000.000000  200000.000000  199410.000000   \n",
       "mean                0.252949    2012.563570       4.965780      22.172118   \n",
       "std                 0.434703       2.111069       1.389352       5.238446   \n",
       "min                 0.000000    1991.000000       0.000000      11.000000   \n",
       "25%                 0.000000    2012.000000       4.000000      18.000000   \n",
       "50%                 0.000000    2013.000000       4.000000      22.000000   \n",
       "75%                 1.000000    2014.000000       6.000000      26.000000   \n",
       "max                 1.000000    2017.000000      16.000000      60.000000   \n",
       "\n",
       "         mpg_highway     horsepower  fuel_capacity  model_year_appraisal  \\\n",
       "count  199410.000000  200000.000000  199996.000000         200000.000000   \n",
       "mean       29.376671     236.973075      17.579302           2007.848445   \n",
       "std         5.678557      76.622682       4.322564              4.872934   \n",
       "min        14.000000      11.000000       1.000000           1986.000000   \n",
       "25%        25.000000     175.000000      14.000000           2005.000000   \n",
       "50%        29.000000     228.000000      17.000000           2009.000000   \n",
       "75%        33.000000     290.000000      19.000000           2012.000000   \n",
       "max        59.000000     760.000000      48.000000           2017.000000   \n",
       "\n",
       "       cylinders_appraisal  mpg_city_appraisal  mpg_highway_appraisal  \\\n",
       "count        200000.000000       199999.000000          200000.000000   \n",
       "mean              5.072170           21.679143              29.209780   \n",
       "std               1.329861            5.482760               6.061812   \n",
       "min               3.000000            9.000000              13.000000   \n",
       "25%               4.000000           18.000000              25.000000   \n",
       "50%               4.000000           21.000000              29.000000   \n",
       "75%               6.000000           25.000000              34.000000   \n",
       "max              10.000000           60.000000              59.000000   \n",
       "\n",
       "       horsepower_appraisal  fuel_capacity_appraisal         market  \n",
       "count         200000.000000            199688.000000  200000.000000  \n",
       "mean             219.746690                17.565728       8.418455  \n",
       "std               73.593995                 4.401769       4.512525  \n",
       "min               11.000000                 7.000000       1.000000  \n",
       "25%              168.000000                14.000000       5.000000  \n",
       "50%              197.000000                17.000000       8.000000  \n",
       "75%              278.000000                20.000000      12.000000  \n",
       "max              760.000000                48.000000      16.000000  "
      ]
     },
     "execution_count": 8,
     "metadata": {},
     "output_type": "execute_result"
    }
   ],
   "source": [
    "df.describe()"
   ]
  },
  {
   "cell_type": "code",
   "execution_count": 9,
   "id": "470073ff",
   "metadata": {},
   "outputs": [
    {
     "data": {
      "text/html": [
       "<div>\n",
       "<style scoped>\n",
       "    .dataframe tbody tr th:only-of-type {\n",
       "        vertical-align: middle;\n",
       "    }\n",
       "\n",
       "    .dataframe tbody tr th {\n",
       "        vertical-align: top;\n",
       "    }\n",
       "\n",
       "    .dataframe thead th {\n",
       "        text-align: right;\n",
       "    }\n",
       "</style>\n",
       "<table border=\"1\" class=\"dataframe\">\n",
       "  <thead>\n",
       "    <tr style=\"text-align: right;\">\n",
       "      <th></th>\n",
       "      <th>price</th>\n",
       "      <th>appraisal_offer</th>\n",
       "      <th>mileage</th>\n",
       "      <th>make</th>\n",
       "      <th>model</th>\n",
       "      <th>trim_descrip</th>\n",
       "      <th>body</th>\n",
       "      <th>color</th>\n",
       "      <th>engine</th>\n",
       "      <th>mileage_appraisal</th>\n",
       "      <th>make_appraisal</th>\n",
       "      <th>model_appraisal</th>\n",
       "      <th>trim_descrip_appraisal</th>\n",
       "      <th>body_appraisal</th>\n",
       "      <th>color_appraisal</th>\n",
       "      <th>engine_appraisal</th>\n",
       "    </tr>\n",
       "  </thead>\n",
       "  <tbody>\n",
       "    <tr>\n",
       "      <th>count</th>\n",
       "      <td>200000</td>\n",
       "      <td>200000</td>\n",
       "      <td>200000</td>\n",
       "      <td>200000</td>\n",
       "      <td>200000</td>\n",
       "      <td>176159</td>\n",
       "      <td>189741</td>\n",
       "      <td>199967</td>\n",
       "      <td>200000</td>\n",
       "      <td>200000</td>\n",
       "      <td>200000</td>\n",
       "      <td>178492</td>\n",
       "      <td>168920</td>\n",
       "      <td>200000</td>\n",
       "      <td>198682</td>\n",
       "      <td>200000</td>\n",
       "    </tr>\n",
       "    <tr>\n",
       "      <th>unique</th>\n",
       "      <td>13</td>\n",
       "      <td>9</td>\n",
       "      <td>21</td>\n",
       "      <td>37</td>\n",
       "      <td>575</td>\n",
       "      <td>2</td>\n",
       "      <td>6</td>\n",
       "      <td>16</td>\n",
       "      <td>49</td>\n",
       "      <td>21</td>\n",
       "      <td>38</td>\n",
       "      <td>675</td>\n",
       "      <td>2</td>\n",
       "      <td>8</td>\n",
       "      <td>16</td>\n",
       "      <td>56</td>\n",
       "    </tr>\n",
       "    <tr>\n",
       "      <th>top</th>\n",
       "      <td>$20k to $25k</td>\n",
       "      <td>$0k to $5k</td>\n",
       "      <td>25k to 30k miles</td>\n",
       "      <td>AIH</td>\n",
       "      <td>HXQ_8</td>\n",
       "      <td>Not Premium</td>\n",
       "      <td>E</td>\n",
       "      <td>White</td>\n",
       "      <td>2.0L</td>\n",
       "      <td>50k to 60k miles</td>\n",
       "      <td>KQZ</td>\n",
       "      <td>HXQ_14</td>\n",
       "      <td>Not Premium</td>\n",
       "      <td>E</td>\n",
       "      <td>Black</td>\n",
       "      <td>2.4L</td>\n",
       "    </tr>\n",
       "    <tr>\n",
       "      <th>freq</th>\n",
       "      <td>46388</td>\n",
       "      <td>69180</td>\n",
       "      <td>18740</td>\n",
       "      <td>26201</td>\n",
       "      <td>5528</td>\n",
       "      <td>97920</td>\n",
       "      <td>106730</td>\n",
       "      <td>45198</td>\n",
       "      <td>36654</td>\n",
       "      <td>14163</td>\n",
       "      <td>21886</td>\n",
       "      <td>4845</td>\n",
       "      <td>111567</td>\n",
       "      <td>77597</td>\n",
       "      <td>41534</td>\n",
       "      <td>27269</td>\n",
       "    </tr>\n",
       "  </tbody>\n",
       "</table>\n",
       "</div>"
      ],
      "text/plain": [
       "               price appraisal_offer           mileage    make   model  \\\n",
       "count         200000          200000            200000  200000  200000   \n",
       "unique            13               9                21      37     575   \n",
       "top     $20k to $25k      $0k to $5k  25k to 30k miles     AIH   HXQ_8   \n",
       "freq           46388           69180             18740   26201    5528   \n",
       "\n",
       "       trim_descrip    body   color  engine mileage_appraisal make_appraisal  \\\n",
       "count        176159  189741  199967  200000            200000         200000   \n",
       "unique            2       6      16      49                21             38   \n",
       "top     Not Premium       E   White    2.0L  50k to 60k miles            KQZ   \n",
       "freq          97920  106730   45198   36654             14163          21886   \n",
       "\n",
       "       model_appraisal trim_descrip_appraisal body_appraisal color_appraisal  \\\n",
       "count           178492                 168920         200000          198682   \n",
       "unique             675                      2              8              16   \n",
       "top             HXQ_14            Not Premium              E           Black   \n",
       "freq              4845                 111567          77597           41534   \n",
       "\n",
       "       engine_appraisal  \n",
       "count            200000  \n",
       "unique               56  \n",
       "top                2.4L  \n",
       "freq              27269  "
      ]
     },
     "execution_count": 9,
     "metadata": {},
     "output_type": "execute_result"
    }
   ],
   "source": [
    "df.describe(include='object')"
   ]
  },
  {
   "cell_type": "markdown",
   "id": "9915b3a1",
   "metadata": {},
   "source": [
    "# Data Exploration for Handling Null values. And then Visualizing"
   ]
  },
  {
   "cell_type": "markdown",
   "id": "3934efdd",
   "metadata": {},
   "source": [
    "## Categorical Features"
   ]
  },
  {
   "cell_type": "markdown",
   "id": "7984db17",
   "metadata": {},
   "source": [
    "#### price and appraised_offer"
   ]
  },
  {
   "cell_type": "code",
   "execution_count": 10,
   "id": "583cd2cb",
   "metadata": {},
   "outputs": [
    {
     "data": {
      "text/plain": [
       "False    200000\n",
       "Name: price, dtype: int64"
      ]
     },
     "execution_count": 10,
     "metadata": {},
     "output_type": "execute_result"
    }
   ],
   "source": [
    "df.price.isnull().value_counts()"
   ]
  },
  {
   "cell_type": "code",
   "execution_count": 11,
   "id": "c26a3154",
   "metadata": {
    "scrolled": false
   },
   "outputs": [
    {
     "data": {
      "text/plain": [
       "$20k to $25k    46388\n",
       "$25k to $30k    40420\n",
       "$15k to $20k    34577\n",
       "$30k to $35k    28407\n",
       "$35k to $40k    20076\n",
       "$40k to $45k    10697\n",
       "$0 to $15k       8841\n",
       "$45k to $50k     5439\n",
       "$50k to $55k     2415\n",
       "$55k to $60k     1305\n",
       "$60k to $65k      590\n",
       "$70k+             486\n",
       "$65k to $70k      359\n",
       "Name: price, dtype: int64"
      ]
     },
     "execution_count": 11,
     "metadata": {},
     "output_type": "execute_result"
    }
   ],
   "source": [
    "df.price.value_counts()"
   ]
  },
  {
   "cell_type": "code",
   "execution_count": 12,
   "id": "e5b9609f",
   "metadata": {
    "scrolled": false
   },
   "outputs": [
    {
     "data": {
      "text/plain": [
       "(array([46388.,     0., 34577.,     0., 28407.,     0., 20076.,     0.,\n",
       "         5439.,     0., 40420.,     0., 10697.,     0.,  8841.,     0.,\n",
       "         1305.,     0.,   590.,     0.,   359.,     0.,   486.,     0.,\n",
       "         2415.]),\n",
       " array([ 0.  ,  0.48,  0.96,  1.44,  1.92,  2.4 ,  2.88,  3.36,  3.84,\n",
       "         4.32,  4.8 ,  5.28,  5.76,  6.24,  6.72,  7.2 ,  7.68,  8.16,\n",
       "         8.64,  9.12,  9.6 , 10.08, 10.56, 11.04, 11.52, 12.  ]),\n",
       " <BarContainer object of 25 artists>)"
      ]
     },
     "execution_count": 12,
     "metadata": {},
     "output_type": "execute_result"
    },
    {
     "data": {
      "image/png": "[encoded data removed]",
      "text/plain": [
       "<Figure size 1440x720 with 1 Axes>"
      ]
     },
     "metadata": {
      "needs_background": "light"
     },
     "output_type": "display_data"
    }
   ],
   "source": [
    "plt.subplots(figsize=(20,10))\n",
    "plt.hist(df.price, bins= 25 )"
   ]
  },
  {
   "cell_type": "code",
   "execution_count": 13,
   "id": "3e470047",
   "metadata": {},
   "outputs": [
    {
     "data": {
      "text/plain": [
       "$0k to $5k      69180\n",
       "$5k to $10k     38688\n",
       "$10k to $15k    28387\n",
       "$15k to $20k    23102\n",
       "$20k to $25k    16791\n",
       "$25k to $30k    10374\n",
       "$30k to $35k     6093\n",
       "$40k+            3695\n",
       "$35k to $40k     3690\n",
       "Name: appraisal_offer, dtype: int64"
      ]
     },
     "execution_count": 13,
     "metadata": {},
     "output_type": "execute_result"
    }
   ],
   "source": [
    "df.appraisal_offer.value_counts()"
   ]
  },
  {
   "cell_type": "code",
   "execution_count": 1,
   "id": "ba88c925",
   "metadata": {
    "scrolled": false
   },
   "outputs": [
    {
     "ename": "NameError",
     "evalue": "name 'plt' is not defined",
     "output_type": "error",
     "traceback": [
      "\u001b[1;31m---------------------------------------------------------------------------\u001b[0m",
      "\u001b[1;31mNameError\u001b[0m                                 Traceback (most recent call last)",
      "\u001b[1;32mC:\\Users\\SIDYBO~1\\AppData\\Local\\Temp/ipykernel_11340/4197725585.py\u001b[0m in \u001b[0;36m<module>\u001b[1;34m\u001b[0m\n\u001b[1;32m----> 1\u001b[1;33m \u001b[0mplt\u001b[0m\u001b[1;33m.\u001b[0m\u001b[0msubplots\u001b[0m\u001b[1;33m(\u001b[0m\u001b[0mfigsize\u001b[0m\u001b[1;33m=\u001b[0m\u001b[1;33m(\u001b[0m\u001b[1;36m20\u001b[0m\u001b[1;33m,\u001b[0m\u001b[1;36m10\u001b[0m\u001b[1;33m)\u001b[0m\u001b[1;33m)\u001b[0m\u001b[1;33m\u001b[0m\u001b[1;33m\u001b[0m\u001b[0m\n\u001b[0m\u001b[0;32m      2\u001b[0m \u001b[0mplt\u001b[0m\u001b[1;33m.\u001b[0m\u001b[0mbar\u001b[0m\u001b[1;33m(\u001b[0m\u001b[0mdf\u001b[0m\u001b[1;33m.\u001b[0m\u001b[0mappraisal_offer\u001b[0m\u001b[1;33m,\u001b[0m \u001b[0mbins\u001b[0m \u001b[1;33m=\u001b[0m\u001b[1;36m17\u001b[0m\u001b[1;33m)\u001b[0m\u001b[1;33m\u001b[0m\u001b[1;33m\u001b[0m\u001b[0m\n",
      "\u001b[1;31mNameError\u001b[0m: name 'plt' is not defined"
     ]
    }
   ],
   "source": [
    "plt.subplots(figsize=(20,10))\n",
    "plt.hist(df.appraisal_offer, bins =17)"
   ]
  },
  {
   "cell_type": "code",
   "execution_count": 15,
   "id": "bcaf5ab0",
   "metadata": {},
   "outputs": [],
   "source": [
    "# price_difference = pd.DataFrame(df.appraisal_offer-df.price)"
   ]
  },
  {
   "cell_type": "markdown",
   "id": "e47b47cb",
   "metadata": {},
   "source": [
    "#### online appraisal flag "
   ]
  },
  {
   "cell_type": "code",
   "execution_count": 16,
   "id": "d89ab749",
   "metadata": {},
   "outputs": [
    {
     "data": {
      "text/plain": [
       "0.0    146546\n",
       "1.0     49620\n",
       "Name: online_appraisal_flag, dtype: int64"
      ]
     },
     "execution_count": 16,
     "metadata": {},
     "output_type": "execute_result"
    }
   ],
   "source": [
    "df.online_appraisal_flag.value_counts()"
   ]
  },
  {
   "cell_type": "code",
   "execution_count": 17,
   "id": "656f04cb",
   "metadata": {},
   "outputs": [
    {
     "data": {
      "text/plain": [
       "3834"
      ]
     },
     "execution_count": 17,
     "metadata": {},
     "output_type": "execute_result"
    }
   ],
   "source": [
    "df.online_appraisal_flag.isnull().sum()"
   ]
  },
  {
   "cell_type": "code",
   "execution_count": 18,
   "id": "91eacfc7",
   "metadata": {},
   "outputs": [],
   "source": [
    "df.online_appraisal_flag= df.online_appraisal_flag.replace(np.nan, '2')"
   ]
  },
  {
   "cell_type": "code",
   "execution_count": 19,
   "id": "834d48f4",
   "metadata": {},
   "outputs": [],
   "source": [
    "df.online_appraisal_flag= df.online_appraisal_flag.astype(int)"
   ]
  },
  {
   "cell_type": "code",
   "execution_count": 20,
   "id": "024adbde",
   "metadata": {},
   "outputs": [
    {
     "data": {
      "text/plain": [
       "([<matplotlib.patches.Wedge at 0x215138dfc40>,\n",
       "  <matplotlib.patches.Wedge at 0x21513ba8760>,\n",
       "  <matplotlib.patches.Wedge at 0x21513ba8d90>],\n",
       " [Text(-0.73449283729216, 0.8188530222002682, ''),\n",
       "  Text(0.6838760938933918, -0.8615761650609406, ''),\n",
       "  Text(1.0980057563010293, -0.06620694170406215, '')],\n",
       " [Text(-0.40063245670481445, 0.44664710301832805, '73.3%'),\n",
       "  Text(0.37302332394185006, -0.4699506354877857, '24.8%'),\n",
       "  Text(0.5989122307096523, -0.036112877293124804, '1.9%')])"
      ]
     },
     "execution_count": 20,
     "metadata": {},
     "output_type": "execute_result"
    },
    {
     "data": {
      "image/png": "[encoded data removed]",
      "text/plain": [
       "<Figure size 432x288 with 1 Axes>"
      ]
     },
     "metadata": {},
     "output_type": "display_data"
    }
   ],
   "source": [
    "plt.pie(df.online_appraisal_flag.value_counts(), autopct= '%1.1f%%')"
   ]
  },
  {
   "cell_type": "code",
   "execution_count": 21,
   "id": "16eb12c8",
   "metadata": {},
   "outputs": [],
   "source": [
    "# plot= df.plot.pie(y= 'online_appraisal_flag', figsize=(7,7))"
   ]
  },
  {
   "cell_type": "markdown",
   "id": "95f6ce6c",
   "metadata": {},
   "source": [
    "#### df.mileage and df.mileage_appraisal"
   ]
  },
  {
   "cell_type": "code",
   "execution_count": 22,
   "id": "ee53c2d9",
   "metadata": {
    "scrolled": true
   },
   "outputs": [
    {
     "data": {
      "text/plain": [
       "25k to 30k miles     18740\n",
       "30k to 35k miles     17391\n",
       "20k to 25k miles     17181\n",
       "35k to 40k miles     16536\n",
       "15k to 20k miles     16437\n",
       "40k to 45k miles     14372\n",
       "45k to 50k miles     13680\n",
       "10k to 15k miles     13485\n",
       "50k to 55k miles     11843\n",
       "5k to 10k miles      11233\n",
       "55k to 60k miles     10803\n",
       "0 to 5k miles         6211\n",
       "100k+ miles           6003\n",
       "60k to 65k miles      4807\n",
       "65k to 70k miles      4158\n",
       "70k to 75k miles      3689\n",
       "75k to 80k miles      3382\n",
       "80k to 85k miles      3104\n",
       "85k to 90k miles      2696\n",
       "90k to 95k miles      2236\n",
       "95k to 100k miles     2013\n",
       "Name: mileage, dtype: int64"
      ]
     },
     "execution_count": 22,
     "metadata": {},
     "output_type": "execute_result"
    }
   ],
   "source": [
    "df.mileage.value_counts()"
   ]
  },
  {
   "cell_type": "code",
   "execution_count": 23,
   "id": "51147012",
   "metadata": {
    "scrolled": true
   },
   "outputs": [
    {
     "data": {
      "text/plain": [
       "([0, 1, 2, 3, 4, 5, 6, 7, 8, 9, 10, 11, 12, 13, 14, 15, 16, 17, 18, 19, 20],\n",
       " [Text(0, 0, ''),\n",
       "  Text(0, 0, ''),\n",
       "  Text(0, 0, ''),\n",
       "  Text(0, 0, ''),\n",
       "  Text(0, 0, ''),\n",
       "  Text(0, 0, ''),\n",
       "  Text(0, 0, ''),\n",
       "  Text(0, 0, ''),\n",
       "  Text(0, 0, ''),\n",
       "  Text(0, 0, ''),\n",
       "  Text(0, 0, ''),\n",
       "  Text(0, 0, ''),\n",
       "  Text(0, 0, ''),\n",
       "  Text(0, 0, ''),\n",
       "  Text(0, 0, ''),\n",
       "  Text(0, 0, ''),\n",
       "  Text(0, 0, ''),\n",
       "  Text(0, 0, ''),\n",
       "  Text(0, 0, ''),\n",
       "  Text(0, 0, ''),\n",
       "  Text(0, 0, '')])"
      ]
     },
     "execution_count": 23,
     "metadata": {},
     "output_type": "execute_result"
    },
    {
     "data": {
      "image/png": "[encoded data removed]",
      "text/plain": [
       "<Figure size 1440x720 with 1 Axes>"
      ]
     },
     "metadata": {
      "needs_background": "light"
     },
     "output_type": "display_data"
    }
   ],
   "source": [
    "plt.subplots(figsize=(20,10))\n",
    "plt.hist(df.mileage, bins=21, stacked= True)\n",
    "plt.xticks(rotation=90)"
   ]
  },
  {
   "cell_type": "code",
   "execution_count": 24,
   "id": "a3866bf4",
   "metadata": {},
   "outputs": [
    {
     "data": {
      "text/plain": [
       "50k to 60k miles      14163\n",
       "200k+ miles           13889\n",
       "40k to 50k miles      12872\n",
       "90k to 100k miles     12802\n",
       "80k to 90k miles      12693\n",
       "70k to 80k miles      12393\n",
       "100k to 110k miles    12068\n",
       "60k to 70k miles      11830\n",
       "110k to 120k miles    11371\n",
       "120k to 130k miles    10681\n",
       "30k to 40k miles      10389\n",
       "130k to 140k miles     9688\n",
       "140k to 150k miles     8617\n",
       "20k to 30k miles       7866\n",
       "150k to 160k miles     7630\n",
       "160k to 170k miles     6853\n",
       "170k to 180k miles     6030\n",
       "10k to 20k miles       5519\n",
       "180k to 190k miles     5045\n",
       "190k to 200k miles     4318\n",
       "0 to 10k miles         3283\n",
       "Name: mileage_appraisal, dtype: int64"
      ]
     },
     "execution_count": 24,
     "metadata": {},
     "output_type": "execute_result"
    }
   ],
   "source": [
    "df.mileage_appraisal.value_counts()"
   ]
  },
  {
   "cell_type": "code",
   "execution_count": 25,
   "id": "94003421",
   "metadata": {
    "scrolled": false
   },
   "outputs": [
    {
     "data": {
      "text/plain": [
       "([0, 1, 2, 3, 4, 5, 6, 7, 8, 9, 10, 11, 12, 13, 14, 15, 16, 17, 18, 19, 20],\n",
       " [Text(0, 0, ''),\n",
       "  Text(0, 0, ''),\n",
       "  Text(0, 0, ''),\n",
       "  Text(0, 0, ''),\n",
       "  Text(0, 0, ''),\n",
       "  Text(0, 0, ''),\n",
       "  Text(0, 0, ''),\n",
       "  Text(0, 0, ''),\n",
       "  Text(0, 0, ''),\n",
       "  Text(0, 0, ''),\n",
       "  Text(0, 0, ''),\n",
       "  Text(0, 0, ''),\n",
       "  Text(0, 0, ''),\n",
       "  Text(0, 0, ''),\n",
       "  Text(0, 0, ''),\n",
       "  Text(0, 0, ''),\n",
       "  Text(0, 0, ''),\n",
       "  Text(0, 0, ''),\n",
       "  Text(0, 0, ''),\n",
       "  Text(0, 0, ''),\n",
       "  Text(0, 0, '')])"
      ]
     },
     "execution_count": 25,
     "metadata": {},
     "output_type": "execute_result"
    },
    {
     "data": {
      "image/png": "[encoded data removed]",
      "text/plain": [
       "<Figure size 1440x720 with 1 Axes>"
      ]
     },
     "metadata": {
      "needs_background": "light"
     },
     "output_type": "display_data"
    }
   ],
   "source": [
    "plt.subplots(figsize=(20,10))\n",
    "plt.hist(df.mileage_appraisal, bins= 41)\n",
    "plt.xticks(rotation=90)"
   ]
  },
  {
   "cell_type": "markdown",
   "id": "ef5db52f",
   "metadata": {},
   "source": [
    "#### Asuming cars with mileage < 80k miles is desirable, we make a stacked bar graph to compare the proportions of cars sold vs purchased  "
   ]
  },
  {
   "cell_type": "code",
   "execution_count": 26,
   "id": "94186365",
   "metadata": {},
   "outputs": [],
   "source": [
    "mileage= pd.DataFrame(df.mileage)\n",
    "# mileage['type']= if mileage=='75k to 80k miles' or mileage=='80k to 85k miles'\n",
    "mileage.loc[ (mileage['mileage'] == '80k to 85k miles')| (mileage['mileage'] == '85k to 90k miles')| (mileage['mileage'] == '90k to 95k miles')| (mileage['mileage'] == '95k to 100k miles') | (mileage['mileage'] == '100k+ miles') , 'Desirable'] = 'no'\n",
    "mileage.Desirable.replace(np.nan,'yes', inplace= True)\n",
    "mileage['type']= 'purchased'\n",
    "#mileage.drop(columns = ['mileage'], inplace=True)"
   ]
  },
  {
   "cell_type": "code",
   "execution_count": 27,
   "id": "9fca4179",
   "metadata": {},
   "outputs": [],
   "source": [
    "mileage_appraisal= pd.DataFrame(df.mileage_appraisal)\n",
    "mileage_appraisal.loc[(mileage_appraisal['mileage_appraisal'] == '0 to 10k miles')| (mileage_appraisal['mileage_appraisal'] == '10k to 20k miles')| (mileage_appraisal['mileage_appraisal'] == '20k to 30k miles')| (mileage_appraisal['mileage_appraisal'] == '40k to 50k miles')| (mileage_appraisal['mileage_appraisal'] == '60k to 70k miles') | (mileage_appraisal['mileage_appraisal'] == '70k to 80k miles') , 'Desirable'] = 'yes'\n",
    "mileage_appraisal.Desirable.replace(np.nan,'no', inplace= True)\n",
    "mileage_appraisal['type']= 'sold'\n",
    "mileage_appraisal.rename(columns={'mileage_appraisal': 'mileage'}, inplace=True)\n",
    "#mileage_appraisal.drop(columns= ['mileage_appraisal'], inplace= True)"
   ]
  },
  {
   "cell_type": "code",
   "execution_count": 28,
   "id": "a0d7446d",
   "metadata": {},
   "outputs": [],
   "source": [
    "new_mileage_df= pd.concat([mileage,mileage_appraisal])"
   ]
  },
  {
   "cell_type": "code",
   "execution_count": 244,
   "id": "0920545f",
   "metadata": {},
   "outputs": [
    {
     "data": {
      "text/html": [
       "<div>\n",
       "<style scoped>\n",
       "    .dataframe tbody tr th:only-of-type {\n",
       "        vertical-align: middle;\n",
       "    }\n",
       "\n",
       "    .dataframe tbody tr th {\n",
       "        vertical-align: top;\n",
       "    }\n",
       "\n",
       "    .dataframe thead th {\n",
       "        text-align: right;\n",
       "    }\n",
       "</style>\n",
       "<table border=\"1\" class=\"dataframe\">\n",
       "  <thead>\n",
       "    <tr style=\"text-align: right;\">\n",
       "      <th></th>\n",
       "      <th>mileage</th>\n",
       "      <th>Desirable</th>\n",
       "      <th>type</th>\n",
       "    </tr>\n",
       "  </thead>\n",
       "  <tbody>\n",
       "    <tr>\n",
       "      <th>0</th>\n",
       "      <td>15k to 20k miles</td>\n",
       "      <td>yes</td>\n",
       "      <td>purchased</td>\n",
       "    </tr>\n",
       "    <tr>\n",
       "      <th>1</th>\n",
       "      <td>100k+ miles</td>\n",
       "      <td>no</td>\n",
       "      <td>purchased</td>\n",
       "    </tr>\n",
       "    <tr>\n",
       "      <th>2</th>\n",
       "      <td>5k to 10k miles</td>\n",
       "      <td>yes</td>\n",
       "      <td>purchased</td>\n",
       "    </tr>\n",
       "    <tr>\n",
       "      <th>3</th>\n",
       "      <td>15k to 20k miles</td>\n",
       "      <td>yes</td>\n",
       "      <td>purchased</td>\n",
       "    </tr>\n",
       "    <tr>\n",
       "      <th>4</th>\n",
       "      <td>35k to 40k miles</td>\n",
       "      <td>yes</td>\n",
       "      <td>purchased</td>\n",
       "    </tr>\n",
       "    <tr>\n",
       "      <th>...</th>\n",
       "      <td>...</td>\n",
       "      <td>...</td>\n",
       "      <td>...</td>\n",
       "    </tr>\n",
       "    <tr>\n",
       "      <th>199995</th>\n",
       "      <td>0 to 10k miles</td>\n",
       "      <td>yes</td>\n",
       "      <td>sold</td>\n",
       "    </tr>\n",
       "    <tr>\n",
       "      <th>199996</th>\n",
       "      <td>50k to 60k miles</td>\n",
       "      <td>no</td>\n",
       "      <td>sold</td>\n",
       "    </tr>\n",
       "    <tr>\n",
       "      <th>199997</th>\n",
       "      <td>120k to 130k miles</td>\n",
       "      <td>no</td>\n",
       "      <td>sold</td>\n",
       "    </tr>\n",
       "    <tr>\n",
       "      <th>199998</th>\n",
       "      <td>130k to 140k miles</td>\n",
       "      <td>no</td>\n",
       "      <td>sold</td>\n",
       "    </tr>\n",
       "    <tr>\n",
       "      <th>199999</th>\n",
       "      <td>70k to 80k miles</td>\n",
       "      <td>yes</td>\n",
       "      <td>sold</td>\n",
       "    </tr>\n",
       "  </tbody>\n",
       "</table>\n",
       "<p>400000 rows × 3 columns</p>\n",
       "</div>"
      ],
      "text/plain": [
       "                   mileage Desirable       type\n",
       "0         15k to 20k miles       yes  purchased\n",
       "1              100k+ miles        no  purchased\n",
       "2          5k to 10k miles       yes  purchased\n",
       "3         15k to 20k miles       yes  purchased\n",
       "4         35k to 40k miles       yes  purchased\n",
       "...                    ...       ...        ...\n",
       "199995      0 to 10k miles       yes       sold\n",
       "199996    50k to 60k miles        no       sold\n",
       "199997  120k to 130k miles        no       sold\n",
       "199998  130k to 140k miles        no       sold\n",
       "199999    70k to 80k miles       yes       sold\n",
       "\n",
       "[400000 rows x 3 columns]"
      ]
     },
     "execution_count": 244,
     "metadata": {},
     "output_type": "execute_result"
    }
   ],
   "source": [
    "new_mileage_df"
   ]
  },
  {
   "cell_type": "code",
   "execution_count": 30,
   "id": "3c277808",
   "metadata": {
    "scrolled": false
   },
   "outputs": [
    {
     "data": {
      "text/plain": [
       "(array([0, 1]), [Text(0, 0, 'purchased'), Text(1, 0, 'sold')])"
      ]
     },
     "execution_count": 30,
     "metadata": {},
     "output_type": "execute_result"
    },
    {
     "data": {
      "image/png": "[encoded data removed]",
      "text/plain": [
       "<Figure size 432x288 with 1 Axes>"
      ]
     },
     "metadata": {
      "needs_background": "light"
     },
     "output_type": "display_data"
    }
   ],
   "source": [
    "new_mileage_df.groupby(['type','Desirable']).size().unstack().plot(kind='bar', stacked=True)\n",
    "plt.xlabel('Purchased vs Sold cars: Based on their mileage( mileage<80 --> Desirable)')\n",
    "plt.xticks(rotation=0)"
   ]
  },
  {
   "cell_type": "markdown",
   "id": "0f3823a4",
   "metadata": {},
   "source": [
    "#### df.color and df.color_appraisal"
   ]
  },
  {
   "cell_type": "code",
   "execution_count": 33,
   "id": "a27814a3",
   "metadata": {},
   "outputs": [
    {
     "data": {
      "text/plain": [
       "0"
      ]
     },
     "execution_count": 33,
     "metadata": {},
     "output_type": "execute_result"
    }
   ],
   "source": [
    "df.color.isna().sum()"
   ]
  },
  {
   "cell_type": "code",
   "execution_count": 34,
   "id": "b4105d37",
   "metadata": {},
   "outputs": [],
   "source": [
    "df.color= df.color.replace(np.nan, 'Unknown')"
   ]
  },
  {
   "cell_type": "code",
   "execution_count": 35,
   "id": "95bbf15b",
   "metadata": {},
   "outputs": [
    {
     "data": {
      "text/plain": [
       "White       45198\n",
       "Black       42936\n",
       "Gray        39395\n",
       "Silver      24654\n",
       "Blue        19745\n",
       "Red         14240\n",
       "Burgundy     3609\n",
       "Brown        2674\n",
       "Green        2133\n",
       "Gold         1278\n",
       "Orange       1177\n",
       "Tan          1109\n",
       "Pearl        1045\n",
       "Purple        497\n",
       "Yellow        273\n",
       "Unknown        37\n",
       "Name: color, dtype: int64"
      ]
     },
     "execution_count": 35,
     "metadata": {},
     "output_type": "execute_result"
    }
   ],
   "source": [
    "df.color.value_counts()"
   ]
  },
  {
   "cell_type": "code",
   "execution_count": 36,
   "id": "5d6b855b",
   "metadata": {},
   "outputs": [
    {
     "data": {
      "text/plain": [
       "1318"
      ]
     },
     "execution_count": 36,
     "metadata": {},
     "output_type": "execute_result"
    }
   ],
   "source": [
    "df.color_appraisal.isna().sum()"
   ]
  },
  {
   "cell_type": "code",
   "execution_count": 37,
   "id": "b1398d7d",
   "metadata": {},
   "outputs": [],
   "source": [
    "df.color_appraisal= df.color_appraisal.replace(np.nan, 'Unknown')"
   ]
  },
  {
   "cell_type": "code",
   "execution_count": 38,
   "id": "22b2f0f1",
   "metadata": {},
   "outputs": [
    {
     "data": {
      "text/plain": [
       "Black       41534\n",
       "White       36738\n",
       "Gray        32686\n",
       "Silver      30226\n",
       "Blue        20707\n",
       "Red         14546\n",
       "Burgundy     4913\n",
       "Gold         4247\n",
       "Green        3815\n",
       "Brown        2916\n",
       "Tan          2767\n",
       "Unknown      2417\n",
       "Orange        986\n",
       "Pearl         623\n",
       "Purple        461\n",
       "Yellow        418\n",
       "Name: color_appraisal, dtype: int64"
      ]
     },
     "execution_count": 38,
     "metadata": {},
     "output_type": "execute_result"
    }
   ],
   "source": [
    "df.color_appraisal.value_counts()"
   ]
  },
  {
   "cell_type": "code",
   "execution_count": 39,
   "id": "5534fd62",
   "metadata": {},
   "outputs": [
    {
     "data": {
      "text/plain": [
       "<matplotlib.legend.Legend at 0x21513bd59a0>"
      ]
     },
     "execution_count": 39,
     "metadata": {},
     "output_type": "execute_result"
    },
    {
     "data": {
      "image/png": "[encoded data removed]",
      "text/plain": [
       "<Figure size 1440x720 with 1 Axes>"
      ]
     },
     "metadata": {
      "needs_background": "light"
     },
     "output_type": "display_data"
    }
   ],
   "source": [
    "plt.subplots(figsize=(20,10))\n",
    "plt.hist([df.color_appraisal,df.color], bins=16, label=['color of sold cars','color of bought cars'])\n",
    "plt.legend()\n",
    "# df.color_appraisal.value_counts().plot.bar(figsize=(20,10))"
   ]
  },
  {
   "cell_type": "code",
   "execution_count": 76,
   "id": "d63e37a2",
   "metadata": {},
   "outputs": [],
   "source": [
    "# color- color_appraisal..........check diff and visualize\n",
    "dif_in_color= pd.DataFrame(pd.concat([df.color, df.color_appraisal],axis=1))\n",
    "dif_in_color.loc[(dif_in_color.color_appraisal== dif_in_color.color), 'color_dif'] ='no'\n",
    "dif_in_color.color_dif.replace(np.nan,'yes', inplace=True)"
   ]
  },
  {
   "cell_type": "code",
   "execution_count": 95,
   "id": "ef6f15cb",
   "metadata": {},
   "outputs": [
    {
     "data": {
      "text/plain": [
       "Text(0.5, 1.0, 'Color difference between Bought and Sold car')"
      ]
     },
     "execution_count": 95,
     "metadata": {},
     "output_type": "execute_result"
    },
    {
     "data": {
      "image/png": "[encoded data removed]",
      "text/plain": [
       "<Figure size 360x720 with 1 Axes>"
      ]
     },
     "metadata": {
      "needs_background": "light"
     },
     "output_type": "display_data"
    }
   ],
   "source": [
    "plt.subplots(figsize=(5,10))\n",
    "plt.hist(dif_in_color.color_dif, bins=3)\n",
    "plt.title(label= 'Color difference between Bought and Sold car')"
   ]
  },
  {
   "cell_type": "code",
   "execution_count": null,
   "id": "dda39841",
   "metadata": {},
   "outputs": [],
   "source": [
    "#the above graph implies that color is not a good predictor as the mojority of customers change the color of their cars"
   ]
  },
  {
   "cell_type": "markdown",
   "id": "047f540e",
   "metadata": {},
   "source": [
    "#### body and body_appraisal"
   ]
  },
  {
   "cell_type": "code",
   "execution_count": 96,
   "id": "1d4fd313",
   "metadata": {},
   "outputs": [
    {
     "data": {
      "text/plain": [
       "10259"
      ]
     },
     "execution_count": 96,
     "metadata": {},
     "output_type": "execute_result"
    }
   ],
   "source": [
    "df.body.isna().sum()"
   ]
  },
  {
   "cell_type": "code",
   "execution_count": 98,
   "id": "337de26f",
   "metadata": {},
   "outputs": [],
   "source": [
    "df.body= df.body.replace(np.nan,'unknown')"
   ]
  },
  {
   "cell_type": "code",
   "execution_count": 101,
   "id": "0b000188",
   "metadata": {
    "scrolled": true
   },
   "outputs": [
    {
     "data": {
      "text/plain": [
       "E          106730\n",
       "F           50578\n",
       "D           20001\n",
       "unknown     10259\n",
       "G            6246\n",
       "B            5265\n",
       "A             921\n",
       "Name: body, dtype: int64"
      ]
     },
     "execution_count": 101,
     "metadata": {},
     "output_type": "execute_result"
    }
   ],
   "source": [
    "df.body.value_counts()"
   ]
  },
  {
   "cell_type": "code",
   "execution_count": 99,
   "id": "4f71cbe5",
   "metadata": {},
   "outputs": [
    {
     "data": {
      "text/plain": [
       "0"
      ]
     },
     "execution_count": 99,
     "metadata": {},
     "output_type": "execute_result"
    }
   ],
   "source": [
    "df.body_appraisal.isna().sum()"
   ]
  },
  {
   "cell_type": "code",
   "execution_count": 185,
   "id": "a0629f7e",
   "metadata": {},
   "outputs": [
    {
     "data": {
      "text/plain": [
       "E    77597\n",
       "F    75146\n",
       "D    15626\n",
       "C    10252\n",
       "B     7541\n",
       "G     7470\n",
       "H     4385\n",
       "A     1983\n",
       "Name: body_appraisal, dtype: int64"
      ]
     },
     "execution_count": 185,
     "metadata": {},
     "output_type": "execute_result"
    }
   ],
   "source": [
    "df.body_appraisal.value_counts()"
   ]
  },
  {
   "cell_type": "code",
   "execution_count": 353,
   "id": "14d61847",
   "metadata": {},
   "outputs": [],
   "source": [
    "#checking difference b/w Body preferences of Sold and purchased cars"
   ]
  },
  {
   "cell_type": "code",
   "execution_count": 345,
   "id": "1935bdb3",
   "metadata": {},
   "outputs": [],
   "source": [
    "body_df= pd.DataFrame(pd.concat([df.body,df.body_appraisal], axis=1))\n",
    "body_df.loc[(body_df.body == body_df.body_appraisal),'difference']= 'no'\n",
    "body_df.difference.replace(np.nan, 'yes', inplace= True)"
   ]
  },
  {
   "cell_type": "code",
   "execution_count": 351,
   "id": "04414a70",
   "metadata": {},
   "outputs": [
    {
     "data": {
      "text/plain": [
       "Text(0.5, 1.0, 'Difference b/w Sold Car Body and Purchased Car body')"
      ]
     },
     "execution_count": 351,
     "metadata": {},
     "output_type": "execute_result"
    },
    {
     "data": {
      "image/png": "[encoded data removed]",
      "text/plain": [
       "<Figure size 360x720 with 1 Axes>"
      ]
     },
     "metadata": {
      "needs_background": "light"
     },
     "output_type": "display_data"
    }
   ],
   "source": [
    "plt.figure(figsize=(5,10))\n",
    "plt.hist(body_df.difference, bins=3)\n",
    "plt.title('Difference b/w Sold Car Body and Purchased Car body', fontsize= 20)"
   ]
  },
  {
   "cell_type": "code",
   "execution_count": 188,
   "id": "d9cd8bf8",
   "metadata": {
    "scrolled": false
   },
   "outputs": [
    {
     "data": {
      "text/plain": [
       "Text(0.5, 0, 'Body-types of Sold cars vs Bought cars')"
      ]
     },
     "execution_count": 188,
     "metadata": {},
     "output_type": "execute_result"
    },
    {
     "data": {
      "image/png": "[encoded data removed]",
      "text/plain": [
       "<Figure size 1440x720 with 2 Axes>"
      ]
     },
     "metadata": {},
     "output_type": "display_data"
    }
   ],
   "source": [
    "fig= plt.figure(figsize=(20,10))\n",
    "ax1= fig.add_axes([0,0,1,1])\n",
    "ax1.pie(df.body.value_counts(), labels= df.body.unique(), radius=0.75, textprops={'fontsize': 15})\n",
    "ax1.set_title('Bought Cars', fontdict={'fontsize':20})\n",
    "ax2=fig.add_axes([.5,0,1,1])\n",
    "ax2.pie(df.body_appraisal.value_counts(), labels= df.body_appraisal.unique(), radius=0.75, textprops={'fontsize':15})\n",
    "ax2.set_title('Sold Cars', fontdict={'fontsize': 20})\n",
    "plt.xlabel('Body-types of Sold cars vs Bought cars', fontsize= 30)"
   ]
  },
  {
   "cell_type": "code",
   "execution_count": null,
   "id": "c9aef721",
   "metadata": {},
   "outputs": [],
   "source": []
  },
  {
   "cell_type": "markdown",
   "id": "74b3ec7e",
   "metadata": {},
   "source": [
    "#### engine and engine_appraisal"
   ]
  },
  {
   "cell_type": "code",
   "execution_count": 189,
   "id": "244712ab",
   "metadata": {
    "scrolled": true
   },
   "outputs": [
    {
     "data": {
      "text/plain": [
       "0"
      ]
     },
     "execution_count": 189,
     "metadata": {},
     "output_type": "execute_result"
    }
   ],
   "source": [
    "df.engine.isna().sum()"
   ]
  },
  {
   "cell_type": "code",
   "execution_count": 190,
   "id": "6b5f00b4",
   "metadata": {
    "scrolled": true
   },
   "outputs": [
    {
     "data": {
      "text/plain": [
       "2.0L    36654\n",
       "2.5L    28306\n",
       "3.5L    27826\n",
       "3.6L    21817\n",
       "2.4L    18957\n",
       "1.5L    14351\n",
       "1.8L     9130\n",
       "5.7L     6022\n",
       "5.3L     5620\n",
       "1.4L     4629\n",
       "1.6L     3835\n",
       "3.0L     3515\n",
       "4.0L     2967\n",
       "2.7L     2215\n",
       "5.0L     1948\n",
       "6.2L     1752\n",
       "2.3L     1587\n",
       "3.2L     1584\n",
       "3.3L     1348\n",
       "3.7L     1187\n",
       "4.6L     1056\n",
       "6.4L      921\n",
       "5.6L      828\n",
       "4.3L      559\n",
       "3.8L      395\n",
       "4.4L      149\n",
       "1.3L      112\n",
       "1.0L      107\n",
       "6.7L      103\n",
       "1.2L       88\n",
       "5.4L       81\n",
       "6.6L       73\n",
       "4.7L       68\n",
       "2.8L       54\n",
       "5.2L       39\n",
       "6.0L       28\n",
       "4.8L       27\n",
       "2.9L       14\n",
       "2.2L       11\n",
       "5.5L       10\n",
       "0.6L        8\n",
       "3.4L        4\n",
       "6.1L        4\n",
       "2.1L        3\n",
       "6.3L        2\n",
       "3.9L        2\n",
       "5.8L        2\n",
       "7.0L        1\n",
       "0           1\n",
       "Name: engine, dtype: int64"
      ]
     },
     "execution_count": 190,
     "metadata": {},
     "output_type": "execute_result"
    }
   ],
   "source": [
    "df.engine.value_counts()"
   ]
  },
  {
   "cell_type": "code",
   "execution_count": 191,
   "id": "8bd53aa6",
   "metadata": {},
   "outputs": [],
   "source": [
    "index = df[df.engine=='0'].index\n",
    "df.drop(index, inplace= True)"
   ]
  },
  {
   "cell_type": "code",
   "execution_count": 501,
   "id": "026578ac",
   "metadata": {
    "scrolled": true
   },
   "outputs": [
    {
     "data": {
      "text/plain": [
       "(array([    0.,  5000., 10000., 15000., 20000., 25000., 30000., 35000.,\n",
       "        40000.]),\n",
       " [Text(0, 0, ''),\n",
       "  Text(0, 0, ''),\n",
       "  Text(0, 0, ''),\n",
       "  Text(0, 0, ''),\n",
       "  Text(0, 0, ''),\n",
       "  Text(0, 0, ''),\n",
       "  Text(0, 0, ''),\n",
       "  Text(0, 0, ''),\n",
       "  Text(0, 0, '')])"
      ]
     },
     "execution_count": 501,
     "metadata": {},
     "output_type": "execute_result"
    },
    {
     "data": {
      "image/png": "[encoded data removed]",
      "text/plain": [
       "<Figure size 2160x720 with 1 Axes>"
      ]
     },
     "metadata": {
      "needs_background": "light"
     },
     "output_type": "display_data"
    }
   ],
   "source": [
    "plt.figure(figsize=(30,10))\n",
    "plt.hist(df.engine, bins=95)\n",
    "plt.xticks(fontsize=20, rotation=90)\n",
    "plt.yticks(fontsize=20)"
   ]
  },
  {
   "cell_type": "code",
   "execution_count": 206,
   "id": "1f6d6ec2",
   "metadata": {},
   "outputs": [
    {
     "data": {
      "text/plain": [
       "0"
      ]
     },
     "execution_count": 206,
     "metadata": {},
     "output_type": "execute_result"
    }
   ],
   "source": [
    "df.engine_appraisal.isna().sum()"
   ]
  },
  {
   "cell_type": "code",
   "execution_count": 193,
   "id": "b2eff106",
   "metadata": {
    "scrolled": true
   },
   "outputs": [
    {
     "data": {
      "text/plain": [
       "2.4L    27269\n",
       "2.0L    25842\n",
       "3.5L    23787\n",
       "2.5L    22471\n",
       "3.6L    17223\n",
       "1.8L    13874\n",
       "3.0L     7358\n",
       "1.6L     7055\n",
       "1.5L     6001\n",
       "5.3L     4957\n",
       "1.4L     4837\n",
       "4.0L     4280\n",
       "5.7L     4253\n",
       "3.7L     3934\n",
       "3.3L     2870\n",
       "3.8L     2483\n",
       "2.3L     2153\n",
       "2.7L     2103\n",
       "4.6L     1820\n",
       "5.0L     1636\n",
       "3.2L     1572\n",
       "2.2L     1313\n",
       "5.4L     1290\n",
       "4.7L     1245\n",
       "6.2L     1216\n",
       "5.6L     1062\n",
       "4.2L      873\n",
       "3.4L      733\n",
       "4.3L      705\n",
       "4.8L      505\n",
       "1.2L      472\n",
       "1.7L      436\n",
       "4.4L      328\n",
       "6.4L      309\n",
       "3.9L      288\n",
       "1.3L      283\n",
       "3.1L      208\n",
       "1.0L      198\n",
       "6.0L      172\n",
       "2.8L      131\n",
       "5.5L      130\n",
       "2.9L       98\n",
       "1.9L       72\n",
       "5.2L       46\n",
       "4.5L       31\n",
       "2.6L       24\n",
       "6.1L       23\n",
       "6.3L        9\n",
       "2.1L        8\n",
       "7.0L        4\n",
       "4.1L        3\n",
       "5.8L        2\n",
       "8.3L        1\n",
       "5.9L        1\n",
       "6.6L        1\n",
       "6.8L        1\n",
       "Name: engine_appraisal, dtype: int64"
      ]
     },
     "execution_count": 193,
     "metadata": {},
     "output_type": "execute_result"
    }
   ],
   "source": [
    "df.engine_appraisal.value_counts()"
   ]
  },
  {
   "cell_type": "code",
   "execution_count": 231,
   "id": "d49fc52a",
   "metadata": {},
   "outputs": [
    {
     "data": {
      "text/plain": [
       "(array([    0.,  5000., 10000., 15000., 20000., 25000., 30000.]),\n",
       " [Text(0, 0, ''),\n",
       "  Text(0, 0, ''),\n",
       "  Text(0, 0, ''),\n",
       "  Text(0, 0, ''),\n",
       "  Text(0, 0, ''),\n",
       "  Text(0, 0, ''),\n",
       "  Text(0, 0, '')])"
      ]
     },
     "execution_count": 231,
     "metadata": {},
     "output_type": "execute_result"
    },
    {
     "data": {
      "image/png": "[encoded data removed]",
      "text/plain": [
       "<Figure size 2160x720 with 1 Axes>"
      ]
     },
     "metadata": {
      "needs_background": "light"
     },
     "output_type": "display_data"
    }
   ],
   "source": [
    "plt.subplots(figsize=(30,10))\n",
    "plt.hist(df.engine_appraisal, bins= 110)\n",
    "plt.xticks(rotation=90, fontsize=20)\n",
    "plt.yticks(fontsize=20)"
   ]
  },
  {
   "cell_type": "markdown",
   "id": "1e24acfc",
   "metadata": {},
   "source": [
    "######  converting engine and engine_appraisal to integers to check the difference between sold and bought cars"
   ]
  },
  {
   "cell_type": "code",
   "execution_count": 261,
   "id": "fd54ac85",
   "metadata": {},
   "outputs": [],
   "source": [
    "engines= pd.DataFrame(pd.concat([df.engine.str.strip('L'), df.engine_appraisal.str.strip('L')], axis=1))"
   ]
  },
  {
   "cell_type": "code",
   "execution_count": 279,
   "id": "5c051598",
   "metadata": {},
   "outputs": [],
   "source": [
    "engines= engines.astype('float')"
   ]
  },
  {
   "cell_type": "code",
   "execution_count": 286,
   "id": "2bc0c910",
   "metadata": {},
   "outputs": [],
   "source": [
    "engines['dif']= engines.engine_appraisal- engines.engine"
   ]
  },
  {
   "cell_type": "code",
   "execution_count": 314,
   "id": "8ce9cba4",
   "metadata": {},
   "outputs": [
    {
     "data": {
      "text/plain": [
       "(0.03639368196840984,\n",
       " 0.0,\n",
       " 0    0.0\n",
       " dtype: float64,\n",
       " 1.3244397298258845)"
      ]
     },
     "execution_count": 314,
     "metadata": {},
     "output_type": "execute_result"
    }
   ],
   "source": [
    "engines.dif.mean(), engines.dif.median(), engines.dif.mode(), engines.dif.std()"
   ]
  },
  {
   "cell_type": "code",
   "execution_count": 315,
   "id": "5163ad54",
   "metadata": {},
   "outputs": [
    {
     "data": {
      "text/plain": [
       "(array([  592.,  3277.,  4939., 28667., 46255., 70247., 33464.,  8332.,\n",
       "         3553.,   673.]),\n",
       " array([-5.2 , -4.17, -3.14, -2.11, -1.08, -0.05,  0.98,  2.01,  3.04,\n",
       "         4.07,  5.1 ]),\n",
       " <BarContainer object of 10 artists>)"
      ]
     },
     "execution_count": 315,
     "metadata": {},
     "output_type": "execute_result"
    },
    {
     "data": {
      "image/png": "[encoded data removed]",
      "text/plain": [
       "<Figure size 360x360 with 1 Axes>"
      ]
     },
     "metadata": {
      "needs_background": "light"
     },
     "output_type": "display_data"
    }
   ],
   "source": [
    "plt.subplots(figsize=(5,5))\n",
    "plt.hist(engines.dif)"
   ]
  },
  {
   "cell_type": "markdown",
   "id": "c4307c6d",
   "metadata": {},
   "source": [
    "###### Above graph shows that: \n",
    "###### 68.2% out of 200,000 customers buy a car with an engine difference of 1.32L \n",
    "###### 27.2% out of 200,000 customers buy a car with an engine difference of 2.64L "
   ]
  },
  {
   "cell_type": "markdown",
   "id": "6298d6a4",
   "metadata": {},
   "source": [
    "### make and make_appraisal"
   ]
  },
  {
   "cell_type": "code",
   "execution_count": 316,
   "id": "39e593cf",
   "metadata": {},
   "outputs": [
    {
     "data": {
      "text/plain": [
       "0"
      ]
     },
     "execution_count": 316,
     "metadata": {},
     "output_type": "execute_result"
    }
   ],
   "source": [
    "df.make.isna().sum()"
   ]
  },
  {
   "cell_type": "code",
   "execution_count": 317,
   "id": "260ce7a5",
   "metadata": {
    "scrolled": true
   },
   "outputs": [
    {
     "data": {
      "text/plain": [
       "AIH    26201\n",
       "HXQ    20836\n",
       "KQZ    17586\n",
       "LTX    16396\n",
       "ARU    16272\n",
       "CFK    16016\n",
       "OFW     9270\n",
       "HDT     8598\n",
       "BGZ     7163\n",
       "FJE     6328\n",
       "CIP     6184\n",
       "JHO     5504\n",
       "CZV     5163\n",
       "JDZ     5073\n",
       "FVQ     4891\n",
       "BZQ     4683\n",
       "IZA     4345\n",
       "LYP     3324\n",
       "HAE     3078\n",
       "NHY     2856\n",
       "BXO     2636\n",
       "NKR     1955\n",
       "BDP     1641\n",
       "GUK     1118\n",
       "JJQ      828\n",
       "FPH      784\n",
       "JGV      337\n",
       "HYS      267\n",
       "MBN      193\n",
       "NYP      188\n",
       "NAJ      116\n",
       "HAN       93\n",
       "IZN       62\n",
       "DVE        8\n",
       "KDM        4\n",
       "FJR        1\n",
       "BIS        1\n",
       "Name: make, dtype: int64"
      ]
     },
     "execution_count": 317,
     "metadata": {},
     "output_type": "execute_result"
    }
   ],
   "source": [
    "df.make.value_counts()"
   ]
  },
  {
   "cell_type": "code",
   "execution_count": 318,
   "id": "534d49e0",
   "metadata": {},
   "outputs": [
    {
     "data": {
      "text/plain": [
       "0"
      ]
     },
     "execution_count": 318,
     "metadata": {},
     "output_type": "execute_result"
    }
   ],
   "source": [
    "df.make_appraisal.isna().sum()"
   ]
  },
  {
   "cell_type": "code",
   "execution_count": 319,
   "id": "cd2fd124",
   "metadata": {},
   "outputs": [
    {
     "data": {
      "text/plain": [
       "KQZ    21886\n",
       "LTX    21124\n",
       "AIH    20919\n",
       "ARU    19890\n",
       "HXQ    17656\n",
       "CFK    11930\n",
       "OFW    11459\n",
       "FJE     8911\n",
       "BGZ     8485\n",
       "JHO     5021\n",
       "FVQ     4539\n",
       "BXO     4257\n",
       "HDT     4116\n",
       "CZV     4073\n",
       "IZA     3835\n",
       "CIP     3778\n",
       "JDZ     3658\n",
       "NKR     2815\n",
       "HAE     2579\n",
       "BZQ     2487\n",
       "NHY     2444\n",
       "BDP     2176\n",
       "LYP     2022\n",
       "GUK     1617\n",
       "JGV     1186\n",
       "FPH     1182\n",
       "JJQ      846\n",
       "IZN      846\n",
       "BIS      722\n",
       "FJR      716\n",
       "HYS      701\n",
       "KDM      574\n",
       "HAN      512\n",
       "NYP      389\n",
       "MBN      272\n",
       "CJM      209\n",
       "NAJ       92\n",
       "DVE       75\n",
       "Name: make_appraisal, dtype: int64"
      ]
     },
     "execution_count": 319,
     "metadata": {},
     "output_type": "execute_result"
    }
   ],
   "source": [
    "df.make_appraisal.value_counts()"
   ]
  },
  {
   "cell_type": "code",
   "execution_count": 326,
   "id": "6e13acab",
   "metadata": {},
   "outputs": [],
   "source": [
    "make_df= pd.DataFrame(pd.concat([df.make,df.make_appraisal], axis=1))"
   ]
  },
  {
   "cell_type": "code",
   "execution_count": 334,
   "id": "14cf834c",
   "metadata": {},
   "outputs": [],
   "source": [
    "make_df.loc[(make_df.make == make_df.make_appraisal),'difference']= 'no'\n",
    "make_df.difference.replace(np.nan, 'yes', inplace= True)"
   ]
  },
  {
   "cell_type": "code",
   "execution_count": 335,
   "id": "ae883e5d",
   "metadata": {},
   "outputs": [
    {
     "data": {
      "text/html": [
       "<div>\n",
       "<style scoped>\n",
       "    .dataframe tbody tr th:only-of-type {\n",
       "        vertical-align: middle;\n",
       "    }\n",
       "\n",
       "    .dataframe tbody tr th {\n",
       "        vertical-align: top;\n",
       "    }\n",
       "\n",
       "    .dataframe thead th {\n",
       "        text-align: right;\n",
       "    }\n",
       "</style>\n",
       "<table border=\"1\" class=\"dataframe\">\n",
       "  <thead>\n",
       "    <tr style=\"text-align: right;\">\n",
       "      <th></th>\n",
       "      <th>make</th>\n",
       "      <th>make_appraisal</th>\n",
       "      <th>difference</th>\n",
       "    </tr>\n",
       "  </thead>\n",
       "  <tbody>\n",
       "    <tr>\n",
       "      <th>0</th>\n",
       "      <td>HDT</td>\n",
       "      <td>AIH</td>\n",
       "      <td>yes</td>\n",
       "    </tr>\n",
       "    <tr>\n",
       "      <th>1</th>\n",
       "      <td>KQZ</td>\n",
       "      <td>KQZ</td>\n",
       "      <td>no</td>\n",
       "    </tr>\n",
       "    <tr>\n",
       "      <th>2</th>\n",
       "      <td>CZV</td>\n",
       "      <td>CIP</td>\n",
       "      <td>yes</td>\n",
       "    </tr>\n",
       "    <tr>\n",
       "      <th>3</th>\n",
       "      <td>IZA</td>\n",
       "      <td>IZA</td>\n",
       "      <td>no</td>\n",
       "    </tr>\n",
       "    <tr>\n",
       "      <th>4</th>\n",
       "      <td>HDT</td>\n",
       "      <td>LTX</td>\n",
       "      <td>yes</td>\n",
       "    </tr>\n",
       "    <tr>\n",
       "      <th>...</th>\n",
       "      <td>...</td>\n",
       "      <td>...</td>\n",
       "      <td>...</td>\n",
       "    </tr>\n",
       "    <tr>\n",
       "      <th>199995</th>\n",
       "      <td>OFW</td>\n",
       "      <td>LTX</td>\n",
       "      <td>yes</td>\n",
       "    </tr>\n",
       "    <tr>\n",
       "      <th>199996</th>\n",
       "      <td>ARU</td>\n",
       "      <td>HXQ</td>\n",
       "      <td>yes</td>\n",
       "    </tr>\n",
       "    <tr>\n",
       "      <th>199997</th>\n",
       "      <td>AIH</td>\n",
       "      <td>HXQ</td>\n",
       "      <td>yes</td>\n",
       "    </tr>\n",
       "    <tr>\n",
       "      <th>199998</th>\n",
       "      <td>KQZ</td>\n",
       "      <td>BZQ</td>\n",
       "      <td>yes</td>\n",
       "    </tr>\n",
       "    <tr>\n",
       "      <th>199999</th>\n",
       "      <td>CIP</td>\n",
       "      <td>FJE</td>\n",
       "      <td>yes</td>\n",
       "    </tr>\n",
       "  </tbody>\n",
       "</table>\n",
       "<p>199999 rows × 3 columns</p>\n",
       "</div>"
      ],
      "text/plain": [
       "       make make_appraisal difference\n",
       "0       HDT            AIH        yes\n",
       "1       KQZ            KQZ         no\n",
       "2       CZV            CIP        yes\n",
       "3       IZA            IZA         no\n",
       "4       HDT            LTX        yes\n",
       "...     ...            ...        ...\n",
       "199995  OFW            LTX        yes\n",
       "199996  ARU            HXQ        yes\n",
       "199997  AIH            HXQ        yes\n",
       "199998  KQZ            BZQ        yes\n",
       "199999  CIP            FJE        yes\n",
       "\n",
       "[199999 rows x 3 columns]"
      ]
     },
     "execution_count": 335,
     "metadata": {},
     "output_type": "execute_result"
    }
   ],
   "source": [
    "make_df"
   ]
  },
  {
   "cell_type": "code",
   "execution_count": 499,
   "id": "eb4cfd0f",
   "metadata": {
    "scrolled": false
   },
   "outputs": [
    {
     "data": {
      "text/plain": [
       "Text(0.5, 1.0, 'Difference b/w Sold and Purchased Car Makes')"
      ]
     },
     "execution_count": 499,
     "metadata": {},
     "output_type": "execute_result"
    },
    {
     "data": {
      "image/png": "[encoded data removed]",
      "text/plain": [
       "<Figure size 360x720 with 1 Axes>"
      ]
     },
     "metadata": {
      "needs_background": "light"
     },
     "output_type": "display_data"
    }
   ],
   "source": [
    "plt.figure(figsize=(5,10))\n",
    "plt.hist(make_df.difference, bins=3)\n",
    "plt.title('Difference b/w Sold and Purchased Car Makes', fontsize= 20)"
   ]
  },
  {
   "cell_type": "markdown",
   "id": "91a1c251",
   "metadata": {},
   "source": [
    "#### model and model_appraisal"
   ]
  },
  {
   "cell_type": "code",
   "execution_count": null,
   "id": "baefe7e9",
   "metadata": {},
   "outputs": [],
   "source": []
  },
  {
   "cell_type": "code",
   "execution_count": null,
   "id": "075812aa",
   "metadata": {},
   "outputs": [],
   "source": [
    "df.model.isna().sum()"
   ]
  },
  {
   "cell_type": "code",
   "execution_count": null,
   "id": "25cfbdef",
   "metadata": {},
   "outputs": [],
   "source": [
    "df.model.value_counts()"
   ]
  },
  {
   "cell_type": "code",
   "execution_count": null,
   "id": "976ec900",
   "metadata": {},
   "outputs": [],
   "source": [
    "df.model_appraisal.isna().sum()"
   ]
  },
  {
   "cell_type": "code",
   "execution_count": null,
   "id": "e738a6c4",
   "metadata": {},
   "outputs": [],
   "source": [
    "df.model_appraisal.value_counts()"
   ]
  },
  {
   "cell_type": "code",
   "execution_count": null,
   "id": "9fb9fd75",
   "metadata": {},
   "outputs": [],
   "source": [
    "df.model_appraisal = df.model_appraisal.replace(np.nan,'unknown')"
   ]
  },
  {
   "cell_type": "markdown",
   "id": "06d57a59",
   "metadata": {},
   "source": [
    "#### df.trim_descrip and df.trim_descrip_appraisal"
   ]
  },
  {
   "cell_type": "code",
   "execution_count": null,
   "id": "f104e3d7",
   "metadata": {
    "scrolled": false
   },
   "outputs": [],
   "source": [
    "df.trim_descrip.value_counts()"
   ]
  },
  {
   "cell_type": "code",
   "execution_count": null,
   "id": "e8feff4e",
   "metadata": {},
   "outputs": [],
   "source": [
    "df.trim_descrip.isna().sum()"
   ]
  },
  {
   "cell_type": "code",
   "execution_count": null,
   "id": "5ab4f4da",
   "metadata": {},
   "outputs": [],
   "source": [
    "df.trim_descrip.replace(np.nan, 'Unknown', inplace= True)"
   ]
  },
  {
   "cell_type": "code",
   "execution_count": null,
   "id": "82f7b433",
   "metadata": {},
   "outputs": [],
   "source": []
  },
  {
   "cell_type": "code",
   "execution_count": null,
   "id": "008d7315",
   "metadata": {
    "scrolled": true
   },
   "outputs": [],
   "source": [
    "df.trim_descrip_appraisal.value_counts()"
   ]
  },
  {
   "cell_type": "code",
   "execution_count": null,
   "id": "38fda746",
   "metadata": {},
   "outputs": [],
   "source": [
    "df.trim_descrip_appraisal.isna().sum()"
   ]
  },
  {
   "cell_type": "code",
   "execution_count": null,
   "id": "5ba0fb78",
   "metadata": {},
   "outputs": [],
   "source": [
    "df.trim_descrip_appraisal= df.trim_descrip_appraisal.replace(np.nan, 'Unknown')"
   ]
  },
  {
   "cell_type": "markdown",
   "id": "e584ce27",
   "metadata": {},
   "source": [
    "#### model_year and model_year_appraisal"
   ]
  },
  {
   "cell_type": "code",
   "execution_count": null,
   "id": "066c740b",
   "metadata": {},
   "outputs": [],
   "source": [
    "df.model_year.value_counts()"
   ]
  },
  {
   "cell_type": "code",
   "execution_count": null,
   "id": "f48eebd4",
   "metadata": {},
   "outputs": [],
   "source": [
    "df.model_year_appraisal.value_counts()"
   ]
  },
  {
   "cell_type": "code",
   "execution_count": null,
   "id": "4fdc218a",
   "metadata": {},
   "outputs": [],
   "source": [
    "df.model_year.value_counts()"
   ]
  },
  {
   "cell_type": "code",
   "execution_count": null,
   "id": "68554dfd",
   "metadata": {},
   "outputs": [],
   "source": [
    "df.model_year_appraisal.value_counts()"
   ]
  },
  {
   "cell_type": "code",
   "execution_count": null,
   "id": "8bd5ff94",
   "metadata": {},
   "outputs": [],
   "source": [
    "df.isnull().sum()"
   ]
  },
  {
   "cell_type": "code",
   "execution_count": 471,
   "id": "59c360d8",
   "metadata": {},
   "outputs": [],
   "source": [
    "car_bought_per_model_year= pd.DataFrame()"
   ]
  },
  {
   "cell_type": "code",
   "execution_count": 472,
   "id": "cccb39d3",
   "metadata": {},
   "outputs": [],
   "source": [
    "car_bought_per_model_year['freq']= (df.groupby(['model_year'])['price'].count())\n",
    "car_bought_per_model_year.reset_index(inplace=True)"
   ]
  },
  {
   "cell_type": "code",
   "execution_count": 489,
   "id": "b309cf4f",
   "metadata": {
    "scrolled": false
   },
   "outputs": [
    {
     "data": {
      "text/plain": [
       "Text(0.5, 1.0, 'Frequency of cars bought vs Model year')"
      ]
     },
     "execution_count": 489,
     "metadata": {},
     "output_type": "execute_result"
    },
    {
     "data": {
      "image/png": "[encoded data removed]",
      "text/plain": [
       "<Figure size 1440x720 with 1 Axes>"
      ]
     },
     "metadata": {
      "needs_background": "light"
     },
     "output_type": "display_data"
    }
   ],
   "source": [
    "plt.figure(figsize=(20,10))\n",
    "plt.bar(car_bought_per_model_year.model_year, car_bought_per_model_year.freq)\n",
    "plt.title(label = 'Frequency of cars bought vs Model year', fontsize= 20)"
   ]
  },
  {
   "cell_type": "code",
   "execution_count": 475,
   "id": "49a9649d",
   "metadata": {},
   "outputs": [],
   "source": [
    "car_sold_per_model_year= pd.DataFrame()"
   ]
  },
  {
   "cell_type": "code",
   "execution_count": 476,
   "id": "e0575a5d",
   "metadata": {},
   "outputs": [],
   "source": [
    "car_sold_per_model_year['freq']= (df.groupby(['model_year_appraisal'])['appraisal_offer'].count())\n",
    "car_sold_per_model_year.reset_index(inplace=True)"
   ]
  },
  {
   "cell_type": "code",
   "execution_count": 488,
   "id": "e4b259ea",
   "metadata": {
    "scrolled": false
   },
   "outputs": [
    {
     "data": {
      "text/plain": [
       "Text(0.5, 1.0, 'Frequency of cars sold vs Model year')"
      ]
     },
     "execution_count": 488,
     "metadata": {},
     "output_type": "execute_result"
    },
    {
     "data": {
      "image/png": "[encoded data removed]",
      "text/plain": [
       "<Figure size 1440x720 with 1 Axes>"
      ]
     },
     "metadata": {
      "needs_background": "light"
     },
     "output_type": "display_data"
    }
   ],
   "source": [
    "\n",
    "plt.figure(figsize=(20,10))\n",
    "plt.bar(car_sold_per_model_year.model_year_appraisal, car_sold_per_model_year.freq)\n",
    "plt.title(label = 'Frequency of cars sold vs Model year', fontsize= 20)\n"
   ]
  },
  {
   "cell_type": "markdown",
   "id": "bf0b2fcc",
   "metadata": {},
   "source": [
    "#### we replace all NaNs in Categorical features by a new category 'unknown' \n",
    "#### and we drop all NaNs in Numerical features as they at most 589+312 which is a small number!"
   ]
  },
  {
   "cell_type": "code",
   "execution_count": null,
   "id": "a19b8611",
   "metadata": {},
   "outputs": [],
   "source": []
  },
  {
   "cell_type": "code",
   "execution_count": null,
   "id": "03a0fe1a",
   "metadata": {},
   "outputs": [],
   "source": []
  },
  {
   "cell_type": "code",
   "execution_count": null,
   "id": "7dbde89e",
   "metadata": {},
   "outputs": [],
   "source": []
  },
  {
   "cell_type": "code",
   "execution_count": null,
   "id": "d814da9c",
   "metadata": {},
   "outputs": [],
   "source": []
  },
  {
   "cell_type": "markdown",
   "id": "f752fe6e",
   "metadata": {},
   "source": [
    "# ------------------------------- "
   ]
  },
  {
   "cell_type": "markdown",
   "id": "aa84ec65",
   "metadata": {},
   "source": [
    "#### (for now) color is not a good indicator so remove"
   ]
  },
  {
   "cell_type": "code",
   "execution_count": null,
   "id": "e790419e",
   "metadata": {},
   "outputs": [],
   "source": [
    "#syntax for frequency encoding:"
   ]
  },
  {
   "cell_type": "code",
   "execution_count": null,
   "id": "e009b85e",
   "metadata": {},
   "outputs": [],
   "source": [
    "#value_counts = df.price.value_counts().to_dict()\n",
    "#value_counts\n",
    "#df.price= df.price. map(value_counts)"
   ]
  },
  {
   "cell_type": "markdown",
   "id": "726ecc38",
   "metadata": {},
   "source": [
    "### one-hot encoding or label encoding or frequency coding string features as the need be"
   ]
  },
  {
   "cell_type": "code",
   "execution_count": null,
   "id": "b1b4474f",
   "metadata": {},
   "outputs": [],
   "source": [
    "from sklearn.preprocessing import LabelEncoder"
   ]
  },
  {
   "cell_type": "code",
   "execution_count": null,
   "id": "2af81dac",
   "metadata": {},
   "outputs": [],
   "source": [
    "labelencoder = LabelEncoder()"
   ]
  },
  {
   "cell_type": "markdown",
   "id": "a8322b3d",
   "metadata": {},
   "source": [
    "#### price and appraised_offer"
   ]
  },
  {
   "cell_type": "code",
   "execution_count": null,
   "id": "498abaae",
   "metadata": {},
   "outputs": [],
   "source": [
    "df.price.isnull().value_counts()"
   ]
  },
  {
   "cell_type": "code",
   "execution_count": null,
   "id": "5a35fd0d",
   "metadata": {
    "scrolled": false
   },
   "outputs": [],
   "source": [
    "df.price.value_counts()"
   ]
  },
  {
   "cell_type": "code",
   "execution_count": 352,
   "id": "c1224ca9",
   "metadata": {},
   "outputs": [
    {
     "data": {
      "text/plain": [
       "dtype('O')"
      ]
     },
     "execution_count": 352,
     "metadata": {},
     "output_type": "execute_result"
    }
   ],
   "source": [
    "df.price.dtype"
   ]
  },
  {
   "cell_type": "code",
   "execution_count": null,
   "id": "6b59c4bf",
   "metadata": {},
   "outputs": [],
   "source": [
    "# value_counts = df.price.value_counts().to_dict()"
   ]
  },
  {
   "cell_type": "code",
   "execution_count": null,
   "id": "2934983d",
   "metadata": {},
   "outputs": [],
   "source": [
    "# df.price= df.price.map(value_counts)"
   ]
  },
  {
   "cell_type": "code",
   "execution_count": null,
   "id": "890a6d28",
   "metadata": {},
   "outputs": [],
   "source": [
    "df.price = labelencoder.fit_transform(df.price)"
   ]
  },
  {
   "cell_type": "code",
   "execution_count": null,
   "id": "25e0cb73",
   "metadata": {},
   "outputs": [],
   "source": [
    "df.appraisal_offer.value_counts()"
   ]
  },
  {
   "cell_type": "code",
   "execution_count": null,
   "id": "a4024fa2",
   "metadata": {},
   "outputs": [],
   "source": [
    "# value_counts = df.appraisal_offer.value_counts().to_dict()"
   ]
  },
  {
   "cell_type": "code",
   "execution_count": null,
   "id": "ebe5e3d8",
   "metadata": {},
   "outputs": [],
   "source": [
    "# df.appraisal_offer= df.appraisal_offer.map(value_counts)"
   ]
  },
  {
   "cell_type": "code",
   "execution_count": null,
   "id": "f9dce13f",
   "metadata": {},
   "outputs": [],
   "source": [
    "df.appraisal_offer = labelencoder.fit_transform(df.appraisal_offer)"
   ]
  },
  {
   "cell_type": "markdown",
   "id": "fd821730",
   "metadata": {},
   "source": [
    "#### online appraisal flag "
   ]
  },
  {
   "cell_type": "code",
   "execution_count": null,
   "id": "f255bd57",
   "metadata": {},
   "outputs": [],
   "source": [
    "df.online_appraisal_flag.value_counts()"
   ]
  },
  {
   "cell_type": "code",
   "execution_count": null,
   "id": "58daff74",
   "metadata": {},
   "outputs": [],
   "source": [
    "df.online_appraisal_flag.isnull().value_counts()"
   ]
  },
  {
   "cell_type": "code",
   "execution_count": null,
   "id": "12e1efe1",
   "metadata": {},
   "outputs": [],
   "source": [
    "# online appraisal flag- converting NANs into '2' and 0.0 and 1.0 into integer "
   ]
  },
  {
   "cell_type": "code",
   "execution_count": null,
   "id": "6eaeefa4",
   "metadata": {},
   "outputs": [],
   "source": [
    "df.online_appraisal_flag= df.online_appraisal_flag.replace(np.nan, '2')"
   ]
  },
  {
   "cell_type": "code",
   "execution_count": null,
   "id": "2791a542",
   "metadata": {},
   "outputs": [],
   "source": [
    "df.online_appraisal_flag= df.online_appraisal_flag.astype(int)"
   ]
  },
  {
   "cell_type": "code",
   "execution_count": null,
   "id": "751c0ecf",
   "metadata": {},
   "outputs": [],
   "source": [
    "# df.online_appraisal_flag= df.online_appraisal_flag.replace(1.0, '1')"
   ]
  },
  {
   "cell_type": "code",
   "execution_count": null,
   "id": "605174ba",
   "metadata": {},
   "outputs": [],
   "source": [
    "# df.online_appraisal_flag= df.online_appraisal_flag.replace(0.0, '0')"
   ]
  },
  {
   "cell_type": "code",
   "execution_count": null,
   "id": "1cf5a847",
   "metadata": {},
   "outputs": [],
   "source": [
    "# df = pd.concat([df,pd.get_dummies(df.online_appraisal_flag, prefix= 'online_appraisal', drop_first= True)],axis=1)"
   ]
  },
  {
   "cell_type": "code",
   "execution_count": null,
   "id": "2aac7b25",
   "metadata": {
    "scrolled": true
   },
   "outputs": [],
   "source": [
    "# df.drop(columns=['online_appraisal_flag'], inplace=True)"
   ]
  },
  {
   "cell_type": "code",
   "execution_count": null,
   "id": "0f277881",
   "metadata": {
    "scrolled": true
   },
   "outputs": [],
   "source": [
    "df"
   ]
  },
  {
   "cell_type": "markdown",
   "id": "c278f0c5",
   "metadata": {},
   "source": [
    "#### df.mileage and df.mileage_appraisal"
   ]
  },
  {
   "cell_type": "code",
   "execution_count": null,
   "id": "a7e9f638",
   "metadata": {
    "scrolled": false
   },
   "outputs": [],
   "source": [
    "df.mileage.value_counts()"
   ]
  },
  {
   "cell_type": "code",
   "execution_count": null,
   "id": "8fde4573",
   "metadata": {},
   "outputs": [],
   "source": [
    "# value_counts = df.mileage.value_counts().to_dict()\n",
    "# df.mileage= df.mileage. map(value_counts)"
   ]
  },
  {
   "cell_type": "code",
   "execution_count": null,
   "id": "13646498",
   "metadata": {},
   "outputs": [],
   "source": [
    "df.mileage = labelencoder.fit_transform(df.mileage)"
   ]
  },
  {
   "cell_type": "code",
   "execution_count": null,
   "id": "d1dac816",
   "metadata": {},
   "outputs": [],
   "source": [
    "df.mileage_appraisal.value_counts()"
   ]
  },
  {
   "cell_type": "code",
   "execution_count": null,
   "id": "52156fef",
   "metadata": {},
   "outputs": [],
   "source": [
    "# value_counts = df.mileage_appraisal.value_counts().to_dict()\n",
    "# df.mileage_appraisal= df.mileage_appraisal. map(value_counts)"
   ]
  },
  {
   "cell_type": "code",
   "execution_count": null,
   "id": "cc2f726b",
   "metadata": {},
   "outputs": [],
   "source": [
    "df.mileage_appraisal = labelencoder.fit_transform(df.mileage_appraisal)"
   ]
  },
  {
   "cell_type": "markdown",
   "id": "8361ce3e",
   "metadata": {},
   "source": [
    "# attention !!!!!!!!!!!!!!!!!!!!!!!!!!!!!!!!"
   ]
  },
  {
   "cell_type": "markdown",
   "id": "5b654d23",
   "metadata": {},
   "source": [
    "#### df.color and df.color_appraisal"
   ]
  },
  {
   "cell_type": "code",
   "execution_count": null,
   "id": "5de51416",
   "metadata": {},
   "outputs": [],
   "source": [
    "df.color.isna().sum()"
   ]
  },
  {
   "cell_type": "code",
   "execution_count": null,
   "id": "700e81ef",
   "metadata": {},
   "outputs": [],
   "source": [
    "df.color_appraisal.isna().sum()"
   ]
  },
  {
   "cell_type": "code",
   "execution_count": null,
   "id": "6564de1f",
   "metadata": {},
   "outputs": [],
   "source": [
    "#df.dropna(subset=['color_appraisal','color'], inplace= True)"
   ]
  },
  {
   "cell_type": "code",
   "execution_count": null,
   "id": "2b4e6c5d",
   "metadata": {},
   "outputs": [],
   "source": [
    "df.color= df.color.replace(np.nan, 'Unknown')\n",
    "df.color_appraisal= df.color_appraisal.replace(np.nan, 'Unknown')"
   ]
  },
  {
   "cell_type": "code",
   "execution_count": null,
   "id": "c4674c14",
   "metadata": {},
   "outputs": [],
   "source": [
    "df.color.value_counts()"
   ]
  },
  {
   "cell_type": "code",
   "execution_count": null,
   "id": "f76d2a8a",
   "metadata": {},
   "outputs": [],
   "source": [
    "value_counts = df.color.value_counts().to_dict()"
   ]
  },
  {
   "cell_type": "code",
   "execution_count": null,
   "id": "24fdea1f",
   "metadata": {},
   "outputs": [],
   "source": [
    "value_counts"
   ]
  },
  {
   "cell_type": "code",
   "execution_count": null,
   "id": "4b019a8d",
   "metadata": {},
   "outputs": [],
   "source": [
    "df.color= df.color. map(value_counts)"
   ]
  },
  {
   "cell_type": "code",
   "execution_count": null,
   "id": "41379fcd",
   "metadata": {},
   "outputs": [],
   "source": []
  },
  {
   "cell_type": "code",
   "execution_count": null,
   "id": "bec82c8a",
   "metadata": {},
   "outputs": [],
   "source": [
    "df.color_appraisal.value_counts()"
   ]
  },
  {
   "cell_type": "code",
   "execution_count": null,
   "id": "7734a302",
   "metadata": {},
   "outputs": [],
   "source": [
    "value_counts = df.color_appraisal.value_counts().to_dict()"
   ]
  },
  {
   "cell_type": "code",
   "execution_count": null,
   "id": "8addfc81",
   "metadata": {},
   "outputs": [],
   "source": [
    "value_counts"
   ]
  },
  {
   "cell_type": "code",
   "execution_count": null,
   "id": "8935c200",
   "metadata": {},
   "outputs": [],
   "source": [
    "df.color_appraisal= df.color_appraisal. map(value_counts)"
   ]
  },
  {
   "cell_type": "markdown",
   "id": "f33ff4e3",
   "metadata": {},
   "source": [
    "# attention !!!!!!!!!!!!!!!!!!!!!!!!!!!"
   ]
  },
  {
   "cell_type": "markdown",
   "id": "0e4e4e98",
   "metadata": {},
   "source": [
    "#### body and body_appraisal"
   ]
  },
  {
   "cell_type": "code",
   "execution_count": null,
   "id": "9cac53c1",
   "metadata": {},
   "outputs": [],
   "source": [
    "df.body.isna().sum()"
   ]
  },
  {
   "cell_type": "code",
   "execution_count": null,
   "id": "35caedf0",
   "metadata": {
    "scrolled": true
   },
   "outputs": [],
   "source": [
    "df.body.value_counts()"
   ]
  },
  {
   "cell_type": "code",
   "execution_count": null,
   "id": "ac6688e2",
   "metadata": {},
   "outputs": [],
   "source": [
    "df.body= df.body.replace(np.nan,'unknown')"
   ]
  },
  {
   "cell_type": "code",
   "execution_count": null,
   "id": "689dc364",
   "metadata": {},
   "outputs": [],
   "source": [
    "# value_counts = df.body.value_counts().to_dict()\n",
    "# df.body= df.body. map(value_counts)"
   ]
  },
  {
   "cell_type": "code",
   "execution_count": null,
   "id": "53cccd8c",
   "metadata": {},
   "outputs": [],
   "source": [
    "#df.body = labelencoder.fit_transform(df.body)"
   ]
  },
  {
   "cell_type": "code",
   "execution_count": null,
   "id": "175a5c47",
   "metadata": {},
   "outputs": [],
   "source": [
    "df.body_appraisal.isna().sum()"
   ]
  },
  {
   "cell_type": "code",
   "execution_count": null,
   "id": "0e2b7469",
   "metadata": {},
   "outputs": [],
   "source": [
    "df.body_appraisal.value_counts()"
   ]
  },
  {
   "cell_type": "code",
   "execution_count": null,
   "id": "08c1a1ef",
   "metadata": {},
   "outputs": [],
   "source": [
    "# value_counts = df.body_appraisal.value_counts().to_dict()\n",
    "# df.body_appraisal= df.body_appraisal. map(value_counts)"
   ]
  },
  {
   "cell_type": "code",
   "execution_count": null,
   "id": "1165c9ae",
   "metadata": {},
   "outputs": [],
   "source": [
    "#df.body_appraisal = labelencoder.fit_transform(df.body_appraisal)"
   ]
  },
  {
   "cell_type": "markdown",
   "id": "5dd53bee",
   "metadata": {},
   "source": [
    "#### engine and engine_appraisal"
   ]
  },
  {
   "cell_type": "code",
   "execution_count": null,
   "id": "5858d523",
   "metadata": {},
   "outputs": [],
   "source": [
    "df.engine.value_counts()"
   ]
  },
  {
   "cell_type": "code",
   "execution_count": null,
   "id": "5c9ee307",
   "metadata": {},
   "outputs": [],
   "source": [
    "df.engine.value_counts()"
   ]
  },
  {
   "cell_type": "code",
   "execution_count": null,
   "id": "df68f679",
   "metadata": {},
   "outputs": [],
   "source": [
    "df.engine = labelencoder.fit_transform(df.engine)"
   ]
  },
  {
   "cell_type": "code",
   "execution_count": null,
   "id": "ac607ca7",
   "metadata": {},
   "outputs": [],
   "source": [
    "df.engine_appraisal.value_counts()"
   ]
  },
  {
   "cell_type": "code",
   "execution_count": null,
   "id": "68344633",
   "metadata": {},
   "outputs": [],
   "source": [
    "df.engine_appraisal = labelencoder.fit_transform(df.engine_appraisal)"
   ]
  },
  {
   "cell_type": "code",
   "execution_count": null,
   "id": "0f7ec792",
   "metadata": {},
   "outputs": [],
   "source": [
    "df.engine_appraisal.value_counts()"
   ]
  },
  {
   "cell_type": "markdown",
   "id": "4e4234d5",
   "metadata": {},
   "source": [
    "# attention !!!!!!!!!!!!!!!!!!!!!!!!!!!!!!!!!!!!!"
   ]
  },
  {
   "cell_type": "markdown",
   "id": "e9676a66",
   "metadata": {},
   "source": [
    "### make and make_appraisal"
   ]
  },
  {
   "cell_type": "code",
   "execution_count": null,
   "id": "20970780",
   "metadata": {
    "scrolled": true
   },
   "outputs": [],
   "source": [
    "df.make.value_counts()"
   ]
  },
  {
   "cell_type": "code",
   "execution_count": null,
   "id": "dac74825",
   "metadata": {},
   "outputs": [],
   "source": [
    "value_counts = df.make.value_counts().to_dict()\n",
    "df.make= df.make. map(value_counts)"
   ]
  },
  {
   "cell_type": "code",
   "execution_count": null,
   "id": "839b82ab",
   "metadata": {},
   "outputs": [],
   "source": [
    "#df.make = labelencoder.fit_transform(df.make)"
   ]
  },
  {
   "cell_type": "code",
   "execution_count": null,
   "id": "e315ac61",
   "metadata": {},
   "outputs": [],
   "source": [
    "df.make_appraisal.value_counts()"
   ]
  },
  {
   "cell_type": "code",
   "execution_count": null,
   "id": "88d9ff58",
   "metadata": {},
   "outputs": [],
   "source": [
    "value_counts = df.make_appraisal.value_counts().to_dict()\n",
    "df.make_appraisal= df.make_appraisal. map(value_counts)"
   ]
  },
  {
   "cell_type": "code",
   "execution_count": null,
   "id": "a1522cbe",
   "metadata": {},
   "outputs": [],
   "source": [
    "#df.make_appraisal = labelencoder.fit_transform(df.make_appraisal)"
   ]
  },
  {
   "cell_type": "markdown",
   "id": "d8c578bd",
   "metadata": {},
   "source": [
    "# attention !!!!!!!!!!!!!!!!!!!!!!!!!!!!!!!!"
   ]
  },
  {
   "cell_type": "markdown",
   "id": "cdc6f3ed",
   "metadata": {},
   "source": [
    "#### model and model_appraisal"
   ]
  },
  {
   "cell_type": "code",
   "execution_count": null,
   "id": "fa088eac",
   "metadata": {},
   "outputs": [],
   "source": [
    "#have to encode these two features better"
   ]
  },
  {
   "cell_type": "code",
   "execution_count": null,
   "id": "10472a40",
   "metadata": {},
   "outputs": [],
   "source": [
    "df.model.value_counts()"
   ]
  },
  {
   "cell_type": "code",
   "execution_count": null,
   "id": "5940f011",
   "metadata": {},
   "outputs": [],
   "source": [
    "df.model = labelencoder.fit_transform(df.model)"
   ]
  },
  {
   "cell_type": "code",
   "execution_count": null,
   "id": "1dbf0d75",
   "metadata": {},
   "outputs": [],
   "source": [
    "df.model_appraisal.value_counts()"
   ]
  },
  {
   "cell_type": "code",
   "execution_count": null,
   "id": "6c513578",
   "metadata": {},
   "outputs": [],
   "source": [
    "df.model_appraisal = labelencoder.fit_transform(df.model_appraisal)"
   ]
  },
  {
   "cell_type": "markdown",
   "id": "722dcdef",
   "metadata": {},
   "source": [
    "#### df.trim_descrip and df.trim_descrip_appraisal"
   ]
  },
  {
   "cell_type": "code",
   "execution_count": null,
   "id": "c921b9a4",
   "metadata": {
    "scrolled": false
   },
   "outputs": [],
   "source": [
    "df.trim_descrip.value_counts()"
   ]
  },
  {
   "cell_type": "code",
   "execution_count": null,
   "id": "2f25d8f6",
   "metadata": {},
   "outputs": [],
   "source": [
    "df.trim_descrip.isna().sum()"
   ]
  },
  {
   "cell_type": "code",
   "execution_count": null,
   "id": "f0eeca74",
   "metadata": {},
   "outputs": [],
   "source": [
    "#df.trim_descrip= df.trim_descrip.replace('Premium', 0)"
   ]
  },
  {
   "cell_type": "code",
   "execution_count": null,
   "id": "df7bee98",
   "metadata": {},
   "outputs": [],
   "source": [
    "#df.trim_descrip= df.trim_descrip.replace('Not Premium', 1)"
   ]
  },
  {
   "cell_type": "code",
   "execution_count": null,
   "id": "a6c2604e",
   "metadata": {},
   "outputs": [],
   "source": [
    "df.trim_descrip= df.trim_descrip.replace(np.nan, 'Unknown')"
   ]
  },
  {
   "cell_type": "code",
   "execution_count": null,
   "id": "6e470e71",
   "metadata": {},
   "outputs": [],
   "source": []
  },
  {
   "cell_type": "code",
   "execution_count": null,
   "id": "394e0665",
   "metadata": {},
   "outputs": [],
   "source": [
    "df = pd.concat([df,pd.get_dummies(df.trim_descrip, prefix= 'trim_descrip')],axis=1)"
   ]
  },
  {
   "cell_type": "code",
   "execution_count": null,
   "id": "8701109d",
   "metadata": {
    "scrolled": true
   },
   "outputs": [],
   "source": [
    "df.drop(columns=['trim_descrip'], inplace=True)"
   ]
  },
  {
   "cell_type": "code",
   "execution_count": null,
   "id": "c23b7348",
   "metadata": {},
   "outputs": [],
   "source": []
  },
  {
   "cell_type": "code",
   "execution_count": null,
   "id": "6e4e7b3a",
   "metadata": {
    "scrolled": true
   },
   "outputs": [],
   "source": [
    "df.trim_descrip_appraisal.value_counts()"
   ]
  },
  {
   "cell_type": "code",
   "execution_count": null,
   "id": "b7280aab",
   "metadata": {},
   "outputs": [],
   "source": [
    "df.trim_descrip_appraisal.isna().sum()"
   ]
  },
  {
   "cell_type": "code",
   "execution_count": null,
   "id": "cac52870",
   "metadata": {},
   "outputs": [],
   "source": [
    "##df.trim_descrip_appraisal= df.trim_descrip_appraisal.replace('Premium', 0)"
   ]
  },
  {
   "cell_type": "code",
   "execution_count": null,
   "id": "71987165",
   "metadata": {},
   "outputs": [],
   "source": [
    "#df.trim_descrip_appraisal= df.trim_descrip_appraisal.replace('Not Premium', 1)"
   ]
  },
  {
   "cell_type": "code",
   "execution_count": null,
   "id": "1aaff02c",
   "metadata": {},
   "outputs": [],
   "source": [
    "df.trim_descrip_appraisal= df.trim_descrip_appraisal.replace(np.nan, 'Unknown')"
   ]
  },
  {
   "cell_type": "code",
   "execution_count": null,
   "id": "5483a3d7",
   "metadata": {},
   "outputs": [],
   "source": [
    "df = pd.concat([df,pd.get_dummies(df.trim_descrip_appraisal, prefix= 'trim_descrip_appraisal')],axis=1)"
   ]
  },
  {
   "cell_type": "code",
   "execution_count": null,
   "id": "a6a0a9ad",
   "metadata": {
    "scrolled": true
   },
   "outputs": [],
   "source": [
    "df.drop(columns=['trim_descrip_appraisal'], inplace=True)"
   ]
  },
  {
   "cell_type": "code",
   "execution_count": null,
   "id": "31e658e9",
   "metadata": {},
   "outputs": [],
   "source": []
  },
  {
   "cell_type": "markdown",
   "id": "db6ae149",
   "metadata": {},
   "source": [
    "# attention !!!!!!!!!!!!!!!!!!!!!!!!!!!! "
   ]
  },
  {
   "cell_type": "markdown",
   "id": "76cd1f98",
   "metadata": {},
   "source": [
    "#### model_year and model_year_appraisal"
   ]
  },
  {
   "cell_type": "code",
   "execution_count": null,
   "id": "4e892604",
   "metadata": {},
   "outputs": [],
   "source": [
    "df.model_year.value_counts()"
   ]
  },
  {
   "cell_type": "code",
   "execution_count": null,
   "id": "ccba55b8",
   "metadata": {},
   "outputs": [],
   "source": [
    "df.model_year_appraisal.value_counts()"
   ]
  },
  {
   "cell_type": "code",
   "execution_count": null,
   "id": "0f384621",
   "metadata": {},
   "outputs": [],
   "source": []
  },
  {
   "cell_type": "code",
   "execution_count": null,
   "id": "1cb20e93",
   "metadata": {},
   "outputs": [],
   "source": [
    "df.isnull().sum()"
   ]
  },
  {
   "cell_type": "markdown",
   "id": "30d7e00b",
   "metadata": {},
   "source": [
    "### filling missing values "
   ]
  },
  {
   "cell_type": "markdown",
   "id": "d3017fbe",
   "metadata": {},
   "source": [
    "##### using knn imputer to fill NANs "
   ]
  },
  {
   "cell_type": "code",
   "execution_count": null,
   "id": "a5d56749",
   "metadata": {},
   "outputs": [],
   "source": [
    "df"
   ]
  },
  {
   "cell_type": "code",
   "execution_count": null,
   "id": "01215da8",
   "metadata": {},
   "outputs": [],
   "source": [
    "from sklearn.impute import KNNImputer"
   ]
  },
  {
   "cell_type": "code",
   "execution_count": null,
   "id": "41081b45",
   "metadata": {},
   "outputs": [],
   "source": [
    "df.isna().sum()"
   ]
  },
  {
   "cell_type": "code",
   "execution_count": null,
   "id": "4bdf2ea4",
   "metadata": {},
   "outputs": [],
   "source": []
  },
  {
   "cell_type": "code",
   "execution_count": null,
   "id": "c3574ca7",
   "metadata": {},
   "outputs": [],
   "source": [
    "knn = KNNImputer(n_neighbors=6)"
   ]
  },
  {
   "cell_type": "code",
   "execution_count": null,
   "id": "4b5da4ed",
   "metadata": {},
   "outputs": [],
   "source": [
    "imputer = KNNImputer(weights=\"distance\")\n",
    "data= pd.DataFrame(imputer.fit_transform(df))"
   ]
  },
  {
   "cell_type": "code",
   "execution_count": null,
   "id": "08d4cc57",
   "metadata": {},
   "outputs": [],
   "source": [
    "data.columns= df.columns\n",
    "data.index= df.index"
   ]
  },
  {
   "cell_type": "code",
   "execution_count": null,
   "id": "3be92038",
   "metadata": {},
   "outputs": [],
   "source": [
    "data"
   ]
  },
  {
   "cell_type": "code",
   "execution_count": null,
   "id": "695373a7",
   "metadata": {},
   "outputs": [],
   "source": [
    "data.isna().sum()"
   ]
  },
  {
   "cell_type": "code",
   "execution_count": null,
   "id": "44bb64ec",
   "metadata": {},
   "outputs": [],
   "source": []
  },
  {
   "cell_type": "code",
   "execution_count": null,
   "id": "1c29d6a9",
   "metadata": {},
   "outputs": [],
   "source": []
  },
  {
   "cell_type": "code",
   "execution_count": null,
   "id": "27c503b8",
   "metadata": {},
   "outputs": [],
   "source": []
  },
  {
   "cell_type": "code",
   "execution_count": null,
   "id": "314bee28",
   "metadata": {},
   "outputs": [],
   "source": []
  },
  {
   "cell_type": "code",
   "execution_count": null,
   "id": "ec3189d1",
   "metadata": {},
   "outputs": [],
   "source": [
    "corr = data.corr()"
   ]
  },
  {
   "cell_type": "code",
   "execution_count": null,
   "id": "a7b34313",
   "metadata": {
    "scrolled": false
   },
   "outputs": [],
   "source": [
    "plt.figure(figsize=(20,15))\n",
    "sns.heatmap(corr, annot= True, cmap= sns.diverging_palette(220,10, as_cmap= True))"
   ]
  },
  {
   "cell_type": "markdown",
   "id": "67517565",
   "metadata": {},
   "source": [
    "####  asuming 'model' as target class and predicting the correct class using all features "
   ]
  },
  {
   "cell_type": "code",
   "execution_count": null,
   "id": "1ee0e358",
   "metadata": {},
   "outputs": [],
   "source": [
    "# spliting into x and y"
   ]
  },
  {
   "cell_type": "code",
   "execution_count": null,
   "id": "06b40e64",
   "metadata": {},
   "outputs": [],
   "source": [
    "x= data.drop(columns= ['model'])"
   ]
  },
  {
   "cell_type": "code",
   "execution_count": null,
   "id": "4232a46d",
   "metadata": {},
   "outputs": [],
   "source": [
    "y = data.model"
   ]
  },
  {
   "cell_type": "code",
   "execution_count": null,
   "id": "49c25cd0",
   "metadata": {},
   "outputs": [],
   "source": [
    "from sklearn.model_selection import train_test_split "
   ]
  },
  {
   "cell_type": "code",
   "execution_count": null,
   "id": "c8760c5c",
   "metadata": {},
   "outputs": [],
   "source": [
    "x_train, x_test, y_train, y_test= train_test_split(x,y, random_state= 0)"
   ]
  },
  {
   "cell_type": "code",
   "execution_count": null,
   "id": "f29f7a04",
   "metadata": {},
   "outputs": [],
   "source": []
  },
  {
   "cell_type": "code",
   "execution_count": null,
   "id": "ae764b55",
   "metadata": {},
   "outputs": [],
   "source": []
  },
  {
   "cell_type": "code",
   "execution_count": null,
   "id": "2cd5f1f1",
   "metadata": {},
   "outputs": [],
   "source": []
  },
  {
   "cell_type": "code",
   "execution_count": null,
   "id": "99ef235f",
   "metadata": {},
   "outputs": [],
   "source": []
  }
 ],
 "metadata": {
  "kernelspec": {
   "display_name": "Python 3 (ipykernel)",
   "language": "python",
   "name": "python3"
  },
  "language_info": {
   "codemirror_mode": {
    "name": "ipython",
    "version": 3
   },
   "file_extension": ".py",
   "mimetype": "text/x-python",
   "name": "python",
   "nbconvert_exporter": "python",
   "pygments_lexer": "ipython3",
   "version": "3.9.1"
  }
 },
 "nbformat": 4,
 "nbformat_minor": 5
}
