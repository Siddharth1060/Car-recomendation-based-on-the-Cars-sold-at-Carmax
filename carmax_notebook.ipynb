{
 "cells": [
  {
   "cell_type": "code",
   "execution_count": null,
   "id": "ad55504c",
   "metadata": {},
   "outputs": [],
   "source": []
  },
  {
   "cell_type": "code",
   "execution_count": 1,
   "id": "74bc6bb1",
   "metadata": {},
   "outputs": [],
   "source": [
    "import pandas as pd\n",
    "import numpy as np\n",
    "import matplotlib.pyplot as plt\n",
    "import seaborn as sns"
   ]
  },
  {
   "cell_type": "code",
   "execution_count": 2,
   "id": "8b54a0d8",
   "metadata": {},
   "outputs": [],
   "source": [
    "df= pd.read_csv('ShowcaseDataWinter2023.csv')"
   ]
  },
  {
   "cell_type": "code",
   "execution_count": 3,
   "id": "d6f6e9d6",
   "metadata": {},
   "outputs": [],
   "source": [
    "df_dict= pd.read_excel('Winter 2023 Showcase Data Dictionary.xlsx')"
   ]
  },
  {
   "cell_type": "code",
   "execution_count": 9,
   "id": "a838e85a",
   "metadata": {
    "scrolled": true
   },
   "outputs": [
    {
     "data": {
      "text/html": [
       "<div>\n",
       "<style scoped>\n",
       "    .dataframe tbody tr th:only-of-type {\n",
       "        vertical-align: middle;\n",
       "    }\n",
       "\n",
       "    .dataframe tbody tr th {\n",
       "        vertical-align: top;\n",
       "    }\n",
       "\n",
       "    .dataframe thead th {\n",
       "        text-align: right;\n",
       "    }\n",
       "</style>\n",
       "<table border=\"1\" class=\"dataframe\">\n",
       "  <thead>\n",
       "    <tr style=\"text-align: right;\">\n",
       "      <th></th>\n",
       "      <th>Problem Statement</th>\n",
       "      <th>Unnamed: 1</th>\n",
       "      <th>Unnamed: 2</th>\n",
       "      <th>Unnamed: 3</th>\n",
       "    </tr>\n",
       "  </thead>\n",
       "  <tbody>\n",
       "    <tr>\n",
       "      <th>0</th>\n",
       "      <td>Many customers decide to trade-in their curren...</td>\n",
       "      <td>NaN</td>\n",
       "      <td>NaN</td>\n",
       "      <td>NaN</td>\n",
       "    </tr>\n",
       "    <tr>\n",
       "      <th>1</th>\n",
       "      <td>NaN</td>\n",
       "      <td>NaN</td>\n",
       "      <td>NaN</td>\n",
       "      <td>NaN</td>\n",
       "    </tr>\n",
       "    <tr>\n",
       "      <th>2</th>\n",
       "      <td>NaN</td>\n",
       "      <td>NaN</td>\n",
       "      <td>NaN</td>\n",
       "      <td>NaN</td>\n",
       "    </tr>\n",
       "    <tr>\n",
       "      <th>3</th>\n",
       "      <td>NaN</td>\n",
       "      <td>NaN</td>\n",
       "      <td>NaN</td>\n",
       "      <td>NaN</td>\n",
       "    </tr>\n",
       "    <tr>\n",
       "      <th>4</th>\n",
       "      <td>Data set description</td>\n",
       "      <td>NaN</td>\n",
       "      <td>NaN</td>\n",
       "      <td>NaN</td>\n",
       "    </tr>\n",
       "    <tr>\n",
       "      <th>5</th>\n",
       "      <td>The data is composed of vehicle attributes vis...</td>\n",
       "      <td>NaN</td>\n",
       "      <td>NaN</td>\n",
       "      <td>NaN</td>\n",
       "    </tr>\n",
       "    <tr>\n",
       "      <th>6</th>\n",
       "      <td>NaN</td>\n",
       "      <td>NaN</td>\n",
       "      <td>NaN</td>\n",
       "      <td>NaN</td>\n",
       "    </tr>\n",
       "    <tr>\n",
       "      <th>7</th>\n",
       "      <td>NaN</td>\n",
       "      <td>NaN</td>\n",
       "      <td>NaN</td>\n",
       "      <td>NaN</td>\n",
       "    </tr>\n",
       "    <tr>\n",
       "      <th>8</th>\n",
       "      <td>Column Name</td>\n",
       "      <td>Data Type</td>\n",
       "      <td>Description</td>\n",
       "      <td>NaN</td>\n",
       "    </tr>\n",
       "    <tr>\n",
       "      <th>9</th>\n",
       "      <td>price</td>\n",
       "      <td>String</td>\n",
       "      <td>The price of the customer's purchased vehicle,...</td>\n",
       "      <td>NaN</td>\n",
       "    </tr>\n",
       "    <tr>\n",
       "      <th>10</th>\n",
       "      <td>appraisal_offer</td>\n",
       "      <td>String</td>\n",
       "      <td>The appraisal offer of the customer's appraise...</td>\n",
       "      <td>NaN</td>\n",
       "    </tr>\n",
       "    <tr>\n",
       "      <th>11</th>\n",
       "      <td>online_appraisal_flag</td>\n",
       "      <td>Integer</td>\n",
       "      <td>A \"1\" in this column indicates an online appra...</td>\n",
       "      <td>NaN</td>\n",
       "    </tr>\n",
       "    <tr>\n",
       "      <th>12</th>\n",
       "      <td>model_year</td>\n",
       "      <td>Numeric</td>\n",
       "      <td>The model year of the customer's purchased veh...</td>\n",
       "      <td>NaN</td>\n",
       "    </tr>\n",
       "    <tr>\n",
       "      <th>13</th>\n",
       "      <td>mileage</td>\n",
       "      <td>String</td>\n",
       "      <td>The mileage of the customer's purchased vehicl...</td>\n",
       "      <td>NaN</td>\n",
       "    </tr>\n",
       "    <tr>\n",
       "      <th>14</th>\n",
       "      <td>make</td>\n",
       "      <td>String</td>\n",
       "      <td>The make of the customer's purchased vehicle</td>\n",
       "      <td>NaN</td>\n",
       "    </tr>\n",
       "    <tr>\n",
       "      <th>15</th>\n",
       "      <td>model</td>\n",
       "      <td>String</td>\n",
       "      <td>The model of the customer's purchased vehicle</td>\n",
       "      <td>NaN</td>\n",
       "    </tr>\n",
       "    <tr>\n",
       "      <th>16</th>\n",
       "      <td>trim_descrip</td>\n",
       "      <td>String</td>\n",
       "      <td>The trim description of the customer's purchas...</td>\n",
       "      <td>NaN</td>\n",
       "    </tr>\n",
       "    <tr>\n",
       "      <th>17</th>\n",
       "      <td>body</td>\n",
       "      <td>String</td>\n",
       "      <td>The body description of the customer's purchas...</td>\n",
       "      <td>NaN</td>\n",
       "    </tr>\n",
       "    <tr>\n",
       "      <th>18</th>\n",
       "      <td>color</td>\n",
       "      <td>String</td>\n",
       "      <td>The color of the customer's purchased vehicle</td>\n",
       "      <td>NaN</td>\n",
       "    </tr>\n",
       "    <tr>\n",
       "      <th>19</th>\n",
       "      <td>engine</td>\n",
       "      <td>String</td>\n",
       "      <td>The engine type of the customer's purchased ve...</td>\n",
       "      <td>NaN</td>\n",
       "    </tr>\n",
       "    <tr>\n",
       "      <th>20</th>\n",
       "      <td>cylinders</td>\n",
       "      <td>Numeric</td>\n",
       "      <td>The number of cylinders of the customer's purc...</td>\n",
       "      <td>NaN</td>\n",
       "    </tr>\n",
       "    <tr>\n",
       "      <th>21</th>\n",
       "      <td>mpg_city</td>\n",
       "      <td>Numeric</td>\n",
       "      <td>The city miles per gallon of the customer's pu...</td>\n",
       "      <td>NaN</td>\n",
       "    </tr>\n",
       "    <tr>\n",
       "      <th>22</th>\n",
       "      <td>mpg_highway</td>\n",
       "      <td>Numeric</td>\n",
       "      <td>The highway miles per gallon of the customer's...</td>\n",
       "      <td>NaN</td>\n",
       "    </tr>\n",
       "    <tr>\n",
       "      <th>23</th>\n",
       "      <td>horsepower</td>\n",
       "      <td>Numeric</td>\n",
       "      <td>The horsepower of the customer's purchased veh...</td>\n",
       "      <td>NaN</td>\n",
       "    </tr>\n",
       "    <tr>\n",
       "      <th>24</th>\n",
       "      <td>fuel_capacity</td>\n",
       "      <td>Numeric</td>\n",
       "      <td>The fuel capacity of the customer's purchased ...</td>\n",
       "      <td>NaN</td>\n",
       "    </tr>\n",
       "    <tr>\n",
       "      <th>25</th>\n",
       "      <td>model_year_appraisal</td>\n",
       "      <td>Numeric</td>\n",
       "      <td>The model year of the customer's appraised veh...</td>\n",
       "      <td>NaN</td>\n",
       "    </tr>\n",
       "    <tr>\n",
       "      <th>26</th>\n",
       "      <td>mileage_appraisal</td>\n",
       "      <td>String</td>\n",
       "      <td>The mileage of the customer's appraised vehicl...</td>\n",
       "      <td>NaN</td>\n",
       "    </tr>\n",
       "    <tr>\n",
       "      <th>27</th>\n",
       "      <td>make_appraisal</td>\n",
       "      <td>String</td>\n",
       "      <td>The make of the customer's appraised vehicle</td>\n",
       "      <td>NaN</td>\n",
       "    </tr>\n",
       "    <tr>\n",
       "      <th>28</th>\n",
       "      <td>model_appraisal</td>\n",
       "      <td>String</td>\n",
       "      <td>The model of the customer's appraised vehicle</td>\n",
       "      <td>NaN</td>\n",
       "    </tr>\n",
       "    <tr>\n",
       "      <th>29</th>\n",
       "      <td>trim_descrip_appraisal</td>\n",
       "      <td>String</td>\n",
       "      <td>The trim description of the customer's apprais...</td>\n",
       "      <td>NaN</td>\n",
       "    </tr>\n",
       "    <tr>\n",
       "      <th>30</th>\n",
       "      <td>body_appraisal</td>\n",
       "      <td>String</td>\n",
       "      <td>The body description of the customer's apprais...</td>\n",
       "      <td>NaN</td>\n",
       "    </tr>\n",
       "    <tr>\n",
       "      <th>31</th>\n",
       "      <td>color_appraisal</td>\n",
       "      <td>String</td>\n",
       "      <td>The color of the customer's appraised vehicle</td>\n",
       "      <td>NaN</td>\n",
       "    </tr>\n",
       "    <tr>\n",
       "      <th>32</th>\n",
       "      <td>engine_appraisal</td>\n",
       "      <td>String</td>\n",
       "      <td>The engine type of the customer's appraised ve...</td>\n",
       "      <td>NaN</td>\n",
       "    </tr>\n",
       "    <tr>\n",
       "      <th>33</th>\n",
       "      <td>cylinders_appraisal</td>\n",
       "      <td>Numeric</td>\n",
       "      <td>The number of cylinders of the customer's appr...</td>\n",
       "      <td>NaN</td>\n",
       "    </tr>\n",
       "    <tr>\n",
       "      <th>34</th>\n",
       "      <td>mpg_city_appraisal</td>\n",
       "      <td>Numeric</td>\n",
       "      <td>The city miles per gallon of the customer's ap...</td>\n",
       "      <td>NaN</td>\n",
       "    </tr>\n",
       "    <tr>\n",
       "      <th>35</th>\n",
       "      <td>mpg_highway_appraisal</td>\n",
       "      <td>Numeric</td>\n",
       "      <td>The highway miles per gallon of the customer's...</td>\n",
       "      <td>NaN</td>\n",
       "    </tr>\n",
       "    <tr>\n",
       "      <th>36</th>\n",
       "      <td>horsepower_appraisal</td>\n",
       "      <td>Numeric</td>\n",
       "      <td>The horsepower of the customer's appraised veh...</td>\n",
       "      <td>NaN</td>\n",
       "    </tr>\n",
       "    <tr>\n",
       "      <th>37</th>\n",
       "      <td>fuel_capacity_appraisal</td>\n",
       "      <td>Numeric</td>\n",
       "      <td>The fuel capacity of the customer's appraised ...</td>\n",
       "      <td>NaN</td>\n",
       "    </tr>\n",
       "    <tr>\n",
       "      <th>38</th>\n",
       "      <td>market</td>\n",
       "      <td>String</td>\n",
       "      <td>The market where the transaction occurred</td>\n",
       "      <td>NaN</td>\n",
       "    </tr>\n",
       "  </tbody>\n",
       "</table>\n",
       "</div>"
      ],
      "text/plain": [
       "                                    Problem Statement Unnamed: 1  \\\n",
       "0   Many customers decide to trade-in their curren...        NaN   \n",
       "1                                                 NaN        NaN   \n",
       "2                                                 NaN        NaN   \n",
       "3                                                 NaN        NaN   \n",
       "4                                Data set description        NaN   \n",
       "5   The data is composed of vehicle attributes vis...        NaN   \n",
       "6                                                 NaN        NaN   \n",
       "7                                                 NaN        NaN   \n",
       "8                                         Column Name  Data Type   \n",
       "9                                               price     String   \n",
       "10                                    appraisal_offer     String   \n",
       "11                              online_appraisal_flag    Integer   \n",
       "12                                         model_year    Numeric   \n",
       "13                                            mileage     String   \n",
       "14                                               make     String   \n",
       "15                                              model     String   \n",
       "16                                       trim_descrip     String   \n",
       "17                                               body     String   \n",
       "18                                              color     String   \n",
       "19                                             engine     String   \n",
       "20                                          cylinders    Numeric   \n",
       "21                                           mpg_city    Numeric   \n",
       "22                                        mpg_highway    Numeric   \n",
       "23                                         horsepower    Numeric   \n",
       "24                                      fuel_capacity    Numeric   \n",
       "25                               model_year_appraisal    Numeric   \n",
       "26                                  mileage_appraisal     String   \n",
       "27                                     make_appraisal     String   \n",
       "28                                    model_appraisal     String   \n",
       "29                             trim_descrip_appraisal     String   \n",
       "30                                     body_appraisal     String   \n",
       "31                                    color_appraisal     String   \n",
       "32                                   engine_appraisal     String   \n",
       "33                                cylinders_appraisal    Numeric   \n",
       "34                                 mpg_city_appraisal    Numeric   \n",
       "35                              mpg_highway_appraisal    Numeric   \n",
       "36                               horsepower_appraisal    Numeric   \n",
       "37                            fuel_capacity_appraisal    Numeric   \n",
       "38                                             market     String   \n",
       "\n",
       "                                           Unnamed: 2  Unnamed: 3  \n",
       "0                                                 NaN         NaN  \n",
       "1                                                 NaN         NaN  \n",
       "2                                                 NaN         NaN  \n",
       "3                                                 NaN         NaN  \n",
       "4                                                 NaN         NaN  \n",
       "5                                                 NaN         NaN  \n",
       "6                                                 NaN         NaN  \n",
       "7                                                 NaN         NaN  \n",
       "8                                         Description         NaN  \n",
       "9   The price of the customer's purchased vehicle,...         NaN  \n",
       "10  The appraisal offer of the customer's appraise...         NaN  \n",
       "11  A \"1\" in this column indicates an online appra...         NaN  \n",
       "12  The model year of the customer's purchased veh...         NaN  \n",
       "13  The mileage of the customer's purchased vehicl...         NaN  \n",
       "14       The make of the customer's purchased vehicle         NaN  \n",
       "15      The model of the customer's purchased vehicle         NaN  \n",
       "16  The trim description of the customer's purchas...         NaN  \n",
       "17  The body description of the customer's purchas...         NaN  \n",
       "18      The color of the customer's purchased vehicle         NaN  \n",
       "19  The engine type of the customer's purchased ve...         NaN  \n",
       "20  The number of cylinders of the customer's purc...         NaN  \n",
       "21  The city miles per gallon of the customer's pu...         NaN  \n",
       "22  The highway miles per gallon of the customer's...         NaN  \n",
       "23  The horsepower of the customer's purchased veh...         NaN  \n",
       "24  The fuel capacity of the customer's purchased ...         NaN  \n",
       "25  The model year of the customer's appraised veh...         NaN  \n",
       "26  The mileage of the customer's appraised vehicl...         NaN  \n",
       "27       The make of the customer's appraised vehicle         NaN  \n",
       "28      The model of the customer's appraised vehicle         NaN  \n",
       "29  The trim description of the customer's apprais...         NaN  \n",
       "30  The body description of the customer's apprais...         NaN  \n",
       "31      The color of the customer's appraised vehicle         NaN  \n",
       "32  The engine type of the customer's appraised ve...         NaN  \n",
       "33  The number of cylinders of the customer's appr...         NaN  \n",
       "34  The city miles per gallon of the customer's ap...         NaN  \n",
       "35  The highway miles per gallon of the customer's...         NaN  \n",
       "36  The horsepower of the customer's appraised veh...         NaN  \n",
       "37  The fuel capacity of the customer's appraised ...         NaN  \n",
       "38          The market where the transaction occurred         NaN  "
      ]
     },
     "execution_count": 9,
     "metadata": {},
     "output_type": "execute_result"
    }
   ],
   "source": [
    "df_dict"
   ]
  },
  {
   "cell_type": "code",
   "execution_count": 272,
   "id": "43e04abf",
   "metadata": {},
   "outputs": [
    {
     "data": {
      "text/html": [
       "<div>\n",
       "<style scoped>\n",
       "    .dataframe tbody tr th:only-of-type {\n",
       "        vertical-align: middle;\n",
       "    }\n",
       "\n",
       "    .dataframe tbody tr th {\n",
       "        vertical-align: top;\n",
       "    }\n",
       "\n",
       "    .dataframe thead th {\n",
       "        text-align: right;\n",
       "    }\n",
       "</style>\n",
       "<table border=\"1\" class=\"dataframe\">\n",
       "  <thead>\n",
       "    <tr style=\"text-align: right;\">\n",
       "      <th></th>\n",
       "      <th>price</th>\n",
       "      <th>appraisal_offer</th>\n",
       "      <th>online_appraisal_flag</th>\n",
       "      <th>model_year</th>\n",
       "      <th>mileage</th>\n",
       "      <th>make</th>\n",
       "      <th>model</th>\n",
       "      <th>trim_descrip</th>\n",
       "      <th>body</th>\n",
       "      <th>color</th>\n",
       "      <th>...</th>\n",
       "      <th>trim_descrip_appraisal</th>\n",
       "      <th>body_appraisal</th>\n",
       "      <th>color_appraisal</th>\n",
       "      <th>engine_appraisal</th>\n",
       "      <th>cylinders_appraisal</th>\n",
       "      <th>mpg_city_appraisal</th>\n",
       "      <th>mpg_highway_appraisal</th>\n",
       "      <th>horsepower_appraisal</th>\n",
       "      <th>fuel_capacity_appraisal</th>\n",
       "      <th>market</th>\n",
       "    </tr>\n",
       "  </thead>\n",
       "  <tbody>\n",
       "    <tr>\n",
       "      <th>0</th>\n",
       "      <td>$20k to $25k</td>\n",
       "      <td>$0k to $5k</td>\n",
       "      <td>1.0</td>\n",
       "      <td>2014</td>\n",
       "      <td>15k to 20k miles</td>\n",
       "      <td>HDT</td>\n",
       "      <td>HDT_12</td>\n",
       "      <td>Premium</td>\n",
       "      <td>E</td>\n",
       "      <td>Red</td>\n",
       "      <td>...</td>\n",
       "      <td>NaN</td>\n",
       "      <td>D</td>\n",
       "      <td>Silver</td>\n",
       "      <td>4.0L</td>\n",
       "      <td>6</td>\n",
       "      <td>17.0</td>\n",
       "      <td>21</td>\n",
       "      <td>236</td>\n",
       "      <td>21.0</td>\n",
       "      <td>13</td>\n",
       "    </tr>\n",
       "    <tr>\n",
       "      <th>1</th>\n",
       "      <td>$15k to $20k</td>\n",
       "      <td>$0k to $5k</td>\n",
       "      <td>0.0</td>\n",
       "      <td>2006</td>\n",
       "      <td>100k+ miles</td>\n",
       "      <td>KQZ</td>\n",
       "      <td>KQZ_23</td>\n",
       "      <td>Premium</td>\n",
       "      <td>E</td>\n",
       "      <td>Silver</td>\n",
       "      <td>...</td>\n",
       "      <td>Not Premium</td>\n",
       "      <td>D</td>\n",
       "      <td>Gold</td>\n",
       "      <td>4.2L</td>\n",
       "      <td>6</td>\n",
       "      <td>16.0</td>\n",
       "      <td>21</td>\n",
       "      <td>205</td>\n",
       "      <td>25.0</td>\n",
       "      <td>11</td>\n",
       "    </tr>\n",
       "    <tr>\n",
       "      <th>2</th>\n",
       "      <td>$30k to $35k</td>\n",
       "      <td>$35k to $40k</td>\n",
       "      <td>1.0</td>\n",
       "      <td>2014</td>\n",
       "      <td>5k to 10k miles</td>\n",
       "      <td>CZV</td>\n",
       "      <td>CZV_10</td>\n",
       "      <td>Premium</td>\n",
       "      <td>E</td>\n",
       "      <td>Black</td>\n",
       "      <td>...</td>\n",
       "      <td>NaN</td>\n",
       "      <td>E</td>\n",
       "      <td>Red</td>\n",
       "      <td>2.0L</td>\n",
       "      <td>4</td>\n",
       "      <td>41.0</td>\n",
       "      <td>38</td>\n",
       "      <td>181</td>\n",
       "      <td>10.0</td>\n",
       "      <td>13</td>\n",
       "    </tr>\n",
       "    <tr>\n",
       "      <th>3</th>\n",
       "      <td>$35k to $40k</td>\n",
       "      <td>$5k to $10k</td>\n",
       "      <td>1.0</td>\n",
       "      <td>2014</td>\n",
       "      <td>15k to 20k miles</td>\n",
       "      <td>IZA</td>\n",
       "      <td>IZA_19</td>\n",
       "      <td>Premium</td>\n",
       "      <td>F</td>\n",
       "      <td>Silver</td>\n",
       "      <td>...</td>\n",
       "      <td>Premium</td>\n",
       "      <td>F</td>\n",
       "      <td>Blue</td>\n",
       "      <td>3.0L</td>\n",
       "      <td>6</td>\n",
       "      <td>17.0</td>\n",
       "      <td>25</td>\n",
       "      <td>230</td>\n",
       "      <td>16.0</td>\n",
       "      <td>13</td>\n",
       "    </tr>\n",
       "    <tr>\n",
       "      <th>4</th>\n",
       "      <td>$30k to $35k</td>\n",
       "      <td>$15k to $20k</td>\n",
       "      <td>1.0</td>\n",
       "      <td>2011</td>\n",
       "      <td>35k to 40k miles</td>\n",
       "      <td>HDT</td>\n",
       "      <td>HDT_8</td>\n",
       "      <td>Premium</td>\n",
       "      <td>F</td>\n",
       "      <td>Blue</td>\n",
       "      <td>...</td>\n",
       "      <td>Not Premium</td>\n",
       "      <td>E</td>\n",
       "      <td>Black</td>\n",
       "      <td>2.4L</td>\n",
       "      <td>4</td>\n",
       "      <td>20.0</td>\n",
       "      <td>29</td>\n",
       "      <td>182</td>\n",
       "      <td>18.0</td>\n",
       "      <td>16</td>\n",
       "    </tr>\n",
       "    <tr>\n",
       "      <th>...</th>\n",
       "      <td>...</td>\n",
       "      <td>...</td>\n",
       "      <td>...</td>\n",
       "      <td>...</td>\n",
       "      <td>...</td>\n",
       "      <td>...</td>\n",
       "      <td>...</td>\n",
       "      <td>...</td>\n",
       "      <td>...</td>\n",
       "      <td>...</td>\n",
       "      <td>...</td>\n",
       "      <td>...</td>\n",
       "      <td>...</td>\n",
       "      <td>...</td>\n",
       "      <td>...</td>\n",
       "      <td>...</td>\n",
       "      <td>...</td>\n",
       "      <td>...</td>\n",
       "      <td>...</td>\n",
       "      <td>...</td>\n",
       "      <td>...</td>\n",
       "    </tr>\n",
       "    <tr>\n",
       "      <th>199995</th>\n",
       "      <td>$15k to $20k</td>\n",
       "      <td>$15k to $20k</td>\n",
       "      <td>1.0</td>\n",
       "      <td>2013</td>\n",
       "      <td>10k to 15k miles</td>\n",
       "      <td>OFW</td>\n",
       "      <td>OFW_6</td>\n",
       "      <td>Premium</td>\n",
       "      <td>F</td>\n",
       "      <td>Black</td>\n",
       "      <td>...</td>\n",
       "      <td>Not Premium</td>\n",
       "      <td>E</td>\n",
       "      <td>Black</td>\n",
       "      <td>1.4L</td>\n",
       "      <td>4</td>\n",
       "      <td>26.0</td>\n",
       "      <td>31</td>\n",
       "      <td>138</td>\n",
       "      <td>14.0</td>\n",
       "      <td>1</td>\n",
       "    </tr>\n",
       "    <tr>\n",
       "      <th>199996</th>\n",
       "      <td>$20k to $25k</td>\n",
       "      <td>$10k to $15k</td>\n",
       "      <td>0.0</td>\n",
       "      <td>2014</td>\n",
       "      <td>55k to 60k miles</td>\n",
       "      <td>ARU</td>\n",
       "      <td>ARU_12</td>\n",
       "      <td>Not Premium</td>\n",
       "      <td>F</td>\n",
       "      <td>White</td>\n",
       "      <td>...</td>\n",
       "      <td>Not Premium</td>\n",
       "      <td>B</td>\n",
       "      <td>Black</td>\n",
       "      <td>1.8L</td>\n",
       "      <td>4</td>\n",
       "      <td>30.0</td>\n",
       "      <td>39</td>\n",
       "      <td>143</td>\n",
       "      <td>13.0</td>\n",
       "      <td>8</td>\n",
       "    </tr>\n",
       "    <tr>\n",
       "      <th>199997</th>\n",
       "      <td>$30k to $35k</td>\n",
       "      <td>$0k to $5k</td>\n",
       "      <td>0.0</td>\n",
       "      <td>2014</td>\n",
       "      <td>10k to 15k miles</td>\n",
       "      <td>AIH</td>\n",
       "      <td>AIH_13</td>\n",
       "      <td>Premium</td>\n",
       "      <td>F</td>\n",
       "      <td>Silver</td>\n",
       "      <td>...</td>\n",
       "      <td>Not Premium</td>\n",
       "      <td>F</td>\n",
       "      <td>Gray</td>\n",
       "      <td>2.4L</td>\n",
       "      <td>4</td>\n",
       "      <td>21.0</td>\n",
       "      <td>30</td>\n",
       "      <td>177</td>\n",
       "      <td>18.0</td>\n",
       "      <td>3</td>\n",
       "    </tr>\n",
       "    <tr>\n",
       "      <th>199998</th>\n",
       "      <td>$30k to $35k</td>\n",
       "      <td>$10k to $15k</td>\n",
       "      <td>0.0</td>\n",
       "      <td>2012</td>\n",
       "      <td>50k to 55k miles</td>\n",
       "      <td>KQZ</td>\n",
       "      <td>KQZ_3</td>\n",
       "      <td>Not Premium</td>\n",
       "      <td>D</td>\n",
       "      <td>Black</td>\n",
       "      <td>...</td>\n",
       "      <td>Premium</td>\n",
       "      <td>D</td>\n",
       "      <td>White</td>\n",
       "      <td>5.7L</td>\n",
       "      <td>8</td>\n",
       "      <td>13.0</td>\n",
       "      <td>19</td>\n",
       "      <td>390</td>\n",
       "      <td>26.0</td>\n",
       "      <td>11</td>\n",
       "    </tr>\n",
       "    <tr>\n",
       "      <th>199999</th>\n",
       "      <td>$50k to $55k</td>\n",
       "      <td>$15k to $20k</td>\n",
       "      <td>0.0</td>\n",
       "      <td>2014</td>\n",
       "      <td>5k to 10k miles</td>\n",
       "      <td>CIP</td>\n",
       "      <td>CIP_22</td>\n",
       "      <td>Premium</td>\n",
       "      <td>E</td>\n",
       "      <td>Black</td>\n",
       "      <td>...</td>\n",
       "      <td>Premium</td>\n",
       "      <td>E</td>\n",
       "      <td>Blue</td>\n",
       "      <td>5.7L</td>\n",
       "      <td>8</td>\n",
       "      <td>18.0</td>\n",
       "      <td>25</td>\n",
       "      <td>360</td>\n",
       "      <td>24.0</td>\n",
       "      <td>14</td>\n",
       "    </tr>\n",
       "  </tbody>\n",
       "</table>\n",
       "<p>200000 rows × 30 columns</p>\n",
       "</div>"
      ],
      "text/plain": [
       "               price appraisal_offer  online_appraisal_flag  model_year  \\\n",
       "0       $20k to $25k      $0k to $5k                    1.0        2014   \n",
       "1       $15k to $20k      $0k to $5k                    0.0        2006   \n",
       "2       $30k to $35k    $35k to $40k                    1.0        2014   \n",
       "3       $35k to $40k     $5k to $10k                    1.0        2014   \n",
       "4       $30k to $35k    $15k to $20k                    1.0        2011   \n",
       "...              ...             ...                    ...         ...   \n",
       "199995  $15k to $20k    $15k to $20k                    1.0        2013   \n",
       "199996  $20k to $25k    $10k to $15k                    0.0        2014   \n",
       "199997  $30k to $35k      $0k to $5k                    0.0        2014   \n",
       "199998  $30k to $35k    $10k to $15k                    0.0        2012   \n",
       "199999  $50k to $55k    $15k to $20k                    0.0        2014   \n",
       "\n",
       "                 mileage make   model trim_descrip body   color  ...  \\\n",
       "0       15k to 20k miles  HDT  HDT_12      Premium    E     Red  ...   \n",
       "1            100k+ miles  KQZ  KQZ_23      Premium    E  Silver  ...   \n",
       "2        5k to 10k miles  CZV  CZV_10      Premium    E   Black  ...   \n",
       "3       15k to 20k miles  IZA  IZA_19      Premium    F  Silver  ...   \n",
       "4       35k to 40k miles  HDT   HDT_8      Premium    F    Blue  ...   \n",
       "...                  ...  ...     ...          ...  ...     ...  ...   \n",
       "199995  10k to 15k miles  OFW   OFW_6      Premium    F   Black  ...   \n",
       "199996  55k to 60k miles  ARU  ARU_12  Not Premium    F   White  ...   \n",
       "199997  10k to 15k miles  AIH  AIH_13      Premium    F  Silver  ...   \n",
       "199998  50k to 55k miles  KQZ   KQZ_3  Not Premium    D   Black  ...   \n",
       "199999   5k to 10k miles  CIP  CIP_22      Premium    E   Black  ...   \n",
       "\n",
       "       trim_descrip_appraisal  body_appraisal  color_appraisal  \\\n",
       "0                         NaN               D           Silver   \n",
       "1                 Not Premium               D             Gold   \n",
       "2                         NaN               E              Red   \n",
       "3                     Premium               F             Blue   \n",
       "4                 Not Premium               E            Black   \n",
       "...                       ...             ...              ...   \n",
       "199995            Not Premium               E            Black   \n",
       "199996            Not Premium               B            Black   \n",
       "199997            Not Premium               F             Gray   \n",
       "199998                Premium               D            White   \n",
       "199999                Premium               E             Blue   \n",
       "\n",
       "        engine_appraisal  cylinders_appraisal  mpg_city_appraisal  \\\n",
       "0                   4.0L                    6                17.0   \n",
       "1                   4.2L                    6                16.0   \n",
       "2                   2.0L                    4                41.0   \n",
       "3                   3.0L                    6                17.0   \n",
       "4                   2.4L                    4                20.0   \n",
       "...                  ...                  ...                 ...   \n",
       "199995              1.4L                    4                26.0   \n",
       "199996              1.8L                    4                30.0   \n",
       "199997              2.4L                    4                21.0   \n",
       "199998              5.7L                    8                13.0   \n",
       "199999              5.7L                    8                18.0   \n",
       "\n",
       "        mpg_highway_appraisal horsepower_appraisal fuel_capacity_appraisal  \\\n",
       "0                          21                  236                    21.0   \n",
       "1                          21                  205                    25.0   \n",
       "2                          38                  181                    10.0   \n",
       "3                          25                  230                    16.0   \n",
       "4                          29                  182                    18.0   \n",
       "...                       ...                  ...                     ...   \n",
       "199995                     31                  138                    14.0   \n",
       "199996                     39                  143                    13.0   \n",
       "199997                     30                  177                    18.0   \n",
       "199998                     19                  390                    26.0   \n",
       "199999                     25                  360                    24.0   \n",
       "\n",
       "       market  \n",
       "0          13  \n",
       "1          11  \n",
       "2          13  \n",
       "3          13  \n",
       "4          16  \n",
       "...       ...  \n",
       "199995      1  \n",
       "199996      8  \n",
       "199997      3  \n",
       "199998     11  \n",
       "199999     14  \n",
       "\n",
       "[200000 rows x 30 columns]"
      ]
     },
     "execution_count": 272,
     "metadata": {},
     "output_type": "execute_result"
    }
   ],
   "source": [
    "df"
   ]
  },
  {
   "cell_type": "code",
   "execution_count": 273,
   "id": "375a7318",
   "metadata": {},
   "outputs": [
    {
     "name": "stdout",
     "output_type": "stream",
     "text": [
      "<class 'pandas.core.frame.DataFrame'>\n",
      "RangeIndex: 200000 entries, 0 to 199999\n",
      "Data columns (total 30 columns):\n",
      " #   Column                   Non-Null Count   Dtype  \n",
      "---  ------                   --------------   -----  \n",
      " 0   price                    200000 non-null  object \n",
      " 1   appraisal_offer          200000 non-null  object \n",
      " 2   online_appraisal_flag    196166 non-null  float64\n",
      " 3   model_year               200000 non-null  int64  \n",
      " 4   mileage                  200000 non-null  object \n",
      " 5   make                     200000 non-null  object \n",
      " 6   model                    200000 non-null  object \n",
      " 7   trim_descrip             176159 non-null  object \n",
      " 8   body                     189741 non-null  object \n",
      " 9   color                    199967 non-null  object \n",
      " 10  engine                   200000 non-null  object \n",
      " 11  cylinders                200000 non-null  int64  \n",
      " 12  mpg_city                 199410 non-null  float64\n",
      " 13  mpg_highway              199410 non-null  float64\n",
      " 14  horsepower               200000 non-null  int64  \n",
      " 15  fuel_capacity            199996 non-null  float64\n",
      " 16  model_year_appraisal     200000 non-null  int64  \n",
      " 17  mileage_appraisal        200000 non-null  object \n",
      " 18  make_appraisal           200000 non-null  object \n",
      " 19  model_appraisal          178492 non-null  object \n",
      " 20  trim_descrip_appraisal   168920 non-null  object \n",
      " 21  body_appraisal           200000 non-null  object \n",
      " 22  color_appraisal          198682 non-null  object \n",
      " 23  engine_appraisal         200000 non-null  object \n",
      " 24  cylinders_appraisal      200000 non-null  int64  \n",
      " 25  mpg_city_appraisal       199999 non-null  float64\n",
      " 26  mpg_highway_appraisal    200000 non-null  int64  \n",
      " 27  horsepower_appraisal     200000 non-null  int64  \n",
      " 28  fuel_capacity_appraisal  199688 non-null  float64\n",
      " 29  market                   200000 non-null  int64  \n",
      "dtypes: float64(6), int64(8), object(16)\n",
      "memory usage: 45.8+ MB\n"
     ]
    }
   ],
   "source": [
    "df.info()"
   ]
  },
  {
   "cell_type": "code",
   "execution_count": 274,
   "id": "1bd51531",
   "metadata": {
    "scrolled": true
   },
   "outputs": [
    {
     "data": {
      "text/plain": [
       "price                          0\n",
       "appraisal_offer                0\n",
       "online_appraisal_flag       3834\n",
       "model_year                     0\n",
       "mileage                        0\n",
       "make                           0\n",
       "model                          0\n",
       "trim_descrip               23841\n",
       "body                       10259\n",
       "color                         33\n",
       "engine                         0\n",
       "cylinders                      0\n",
       "mpg_city                     590\n",
       "mpg_highway                  590\n",
       "horsepower                     0\n",
       "fuel_capacity                  4\n",
       "model_year_appraisal           0\n",
       "mileage_appraisal              0\n",
       "make_appraisal                 0\n",
       "model_appraisal            21508\n",
       "trim_descrip_appraisal     31080\n",
       "body_appraisal                 0\n",
       "color_appraisal             1318\n",
       "engine_appraisal               0\n",
       "cylinders_appraisal            0\n",
       "mpg_city_appraisal             1\n",
       "mpg_highway_appraisal          0\n",
       "horsepower_appraisal           0\n",
       "fuel_capacity_appraisal      312\n",
       "market                         0\n",
       "dtype: int64"
      ]
     },
     "execution_count": 274,
     "metadata": {},
     "output_type": "execute_result"
    }
   ],
   "source": [
    "df.isna().sum()"
   ]
  },
  {
   "cell_type": "code",
   "execution_count": null,
   "id": "ada221a0",
   "metadata": {},
   "outputs": [],
   "source": []
  },
  {
   "cell_type": "code",
   "execution_count": null,
   "id": "cc8ca6bd",
   "metadata": {},
   "outputs": [],
   "source": [
    "#syntax for frequency encoding:"
   ]
  },
  {
   "cell_type": "code",
   "execution_count": 275,
   "id": "698390f2",
   "metadata": {},
   "outputs": [],
   "source": [
    "#value_counts = df.price.value_counts().to_dict()\n",
    "#value_counts\n",
    "#df.price= df.price. map(value_counts)"
   ]
  },
  {
   "cell_type": "markdown",
   "id": "1cf398eb",
   "metadata": {},
   "source": [
    "### one-hot encoding or label encoding or frequency coding string features as the need be"
   ]
  },
  {
   "cell_type": "code",
   "execution_count": 278,
   "id": "addf2918",
   "metadata": {},
   "outputs": [],
   "source": [
    "from sklearn.preprocessing import LabelEncoder"
   ]
  },
  {
   "cell_type": "code",
   "execution_count": 279,
   "id": "45a817a7",
   "metadata": {},
   "outputs": [],
   "source": [
    "labelencoder = LabelEncoder()"
   ]
  },
  {
   "cell_type": "markdown",
   "id": "0ec1886d",
   "metadata": {},
   "source": [
    "#### price and appraised_offer"
   ]
  },
  {
   "cell_type": "code",
   "execution_count": 19,
   "id": "564e57a0",
   "metadata": {},
   "outputs": [
    {
     "data": {
      "text/plain": [
       "False    200000\n",
       "Name: price, dtype: int64"
      ]
     },
     "execution_count": 19,
     "metadata": {},
     "output_type": "execute_result"
    }
   ],
   "source": [
    "df.price.isnull().value_counts()"
   ]
  },
  {
   "cell_type": "code",
   "execution_count": 280,
   "id": "e88d676c",
   "metadata": {
    "scrolled": false
   },
   "outputs": [
    {
     "data": {
      "text/plain": [
       "$20k to $25k    46388\n",
       "$25k to $30k    40420\n",
       "$15k to $20k    34577\n",
       "$30k to $35k    28407\n",
       "$35k to $40k    20076\n",
       "$40k to $45k    10697\n",
       "$0 to $15k       8841\n",
       "$45k to $50k     5439\n",
       "$50k to $55k     2415\n",
       "$55k to $60k     1305\n",
       "$60k to $65k      590\n",
       "$70k+             486\n",
       "$65k to $70k      359\n",
       "Name: price, dtype: int64"
      ]
     },
     "execution_count": 280,
     "metadata": {},
     "output_type": "execute_result"
    }
   ],
   "source": [
    "df.price.value_counts()"
   ]
  },
  {
   "cell_type": "code",
   "execution_count": 281,
   "id": "87ddd95f",
   "metadata": {},
   "outputs": [],
   "source": [
    "# value_counts = df.price.value_counts().to_dict()"
   ]
  },
  {
   "cell_type": "code",
   "execution_count": 282,
   "id": "37dcbc80",
   "metadata": {},
   "outputs": [],
   "source": [
    "# df.price= df.price.map(value_counts)"
   ]
  },
  {
   "cell_type": "code",
   "execution_count": 283,
   "id": "fe574494",
   "metadata": {},
   "outputs": [],
   "source": [
    "df.price = labelencoder.fit_transform(df.price)"
   ]
  },
  {
   "cell_type": "code",
   "execution_count": 284,
   "id": "cced3d84",
   "metadata": {},
   "outputs": [
    {
     "data": {
      "text/plain": [
       "$0k to $5k      69180\n",
       "$5k to $10k     38688\n",
       "$10k to $15k    28387\n",
       "$15k to $20k    23102\n",
       "$20k to $25k    16791\n",
       "$25k to $30k    10374\n",
       "$30k to $35k     6093\n",
       "$40k+            3695\n",
       "$35k to $40k     3690\n",
       "Name: appraisal_offer, dtype: int64"
      ]
     },
     "execution_count": 284,
     "metadata": {},
     "output_type": "execute_result"
    }
   ],
   "source": [
    "df.appraisal_offer.value_counts()"
   ]
  },
  {
   "cell_type": "code",
   "execution_count": 285,
   "id": "60d75076",
   "metadata": {},
   "outputs": [],
   "source": [
    "# value_counts = df.appraisal_offer.value_counts().to_dict()"
   ]
  },
  {
   "cell_type": "code",
   "execution_count": 286,
   "id": "8fc441e9",
   "metadata": {},
   "outputs": [],
   "source": [
    "# df.appraisal_offer= df.appraisal_offer.map(value_counts)"
   ]
  },
  {
   "cell_type": "code",
   "execution_count": 14,
   "id": "c7b695d2",
   "metadata": {},
   "outputs": [],
   "source": [
    "df.appraisal_offer = labelencoder.fit_transform(df.appraisal_offer)"
   ]
  },
  {
   "cell_type": "markdown",
   "id": "9fb80016",
   "metadata": {},
   "source": [
    "#### online appraisal flag "
   ]
  },
  {
   "cell_type": "code",
   "execution_count": 35,
   "id": "ee25c1fa",
   "metadata": {},
   "outputs": [
    {
     "data": {
      "text/plain": [
       "0    146546\n",
       "1     49620\n",
       "2      3834\n",
       "Name: online_appraisal_flag, dtype: int64"
      ]
     },
     "execution_count": 35,
     "metadata": {},
     "output_type": "execute_result"
    }
   ],
   "source": [
    "df.online_appraisal_flag.value_counts()"
   ]
  },
  {
   "cell_type": "code",
   "execution_count": 24,
   "id": "68bda432",
   "metadata": {},
   "outputs": [
    {
     "data": {
      "text/plain": [
       "False    196166\n",
       "True       3834\n",
       "Name: online_appraisal_flag, dtype: int64"
      ]
     },
     "execution_count": 24,
     "metadata": {},
     "output_type": "execute_result"
    }
   ],
   "source": [
    "df.online_appraisal_flag.isnull().value_counts()"
   ]
  },
  {
   "cell_type": "code",
   "execution_count": 288,
   "id": "a604ea8a",
   "metadata": {},
   "outputs": [],
   "source": [
    "# online appraisal flag- converting NANs into '2' and 0.0 and 1.0 into integer "
   ]
  },
  {
   "cell_type": "code",
   "execution_count": 33,
   "id": "53ebdb78",
   "metadata": {},
   "outputs": [],
   "source": [
    "df.online_appraisal_flag= df.online_appraisal_flag.replace(np.nan, '2')"
   ]
  },
  {
   "cell_type": "code",
   "execution_count": 34,
   "id": "1b5f2c62",
   "metadata": {},
   "outputs": [],
   "source": [
    "df.online_appraisal_flag= df.online_appraisal_flag.astype(int)"
   ]
  },
  {
   "cell_type": "code",
   "execution_count": 290,
   "id": "8692fce2",
   "metadata": {},
   "outputs": [],
   "source": [
    "# df.online_appraisal_flag= df.online_appraisal_flag.replace(1.0, '1')"
   ]
  },
  {
   "cell_type": "code",
   "execution_count": 291,
   "id": "7602ab05",
   "metadata": {},
   "outputs": [],
   "source": [
    "# df.online_appraisal_flag= df.online_appraisal_flag.replace(0.0, '0')"
   ]
  },
  {
   "cell_type": "code",
   "execution_count": 294,
   "id": "a443da46",
   "metadata": {},
   "outputs": [],
   "source": [
    "# df = pd.concat([df,pd.get_dummies(df.online_appraisal_flag, prefix= 'online_appraisal', drop_first= True)],axis=1)"
   ]
  },
  {
   "cell_type": "code",
   "execution_count": 295,
   "id": "b2df827f",
   "metadata": {
    "scrolled": true
   },
   "outputs": [],
   "source": [
    "# df.drop(columns=['online_appraisal_flag'], inplace=True)"
   ]
  },
  {
   "cell_type": "code",
   "execution_count": 296,
   "id": "88458784",
   "metadata": {
    "scrolled": true
   },
   "outputs": [
    {
     "data": {
      "text/html": [
       "<div>\n",
       "<style scoped>\n",
       "    .dataframe tbody tr th:only-of-type {\n",
       "        vertical-align: middle;\n",
       "    }\n",
       "\n",
       "    .dataframe tbody tr th {\n",
       "        vertical-align: top;\n",
       "    }\n",
       "\n",
       "    .dataframe thead th {\n",
       "        text-align: right;\n",
       "    }\n",
       "</style>\n",
       "<table border=\"1\" class=\"dataframe\">\n",
       "  <thead>\n",
       "    <tr style=\"text-align: right;\">\n",
       "      <th></th>\n",
       "      <th>price</th>\n",
       "      <th>appraisal_offer</th>\n",
       "      <th>model_year</th>\n",
       "      <th>mileage</th>\n",
       "      <th>make</th>\n",
       "      <th>model</th>\n",
       "      <th>trim_descrip</th>\n",
       "      <th>body</th>\n",
       "      <th>color</th>\n",
       "      <th>engine</th>\n",
       "      <th>...</th>\n",
       "      <th>cylinders_appraisal</th>\n",
       "      <th>mpg_city_appraisal</th>\n",
       "      <th>mpg_highway_appraisal</th>\n",
       "      <th>horsepower_appraisal</th>\n",
       "      <th>fuel_capacity_appraisal</th>\n",
       "      <th>market</th>\n",
       "      <th>online</th>\n",
       "      <th>unknown</th>\n",
       "      <th>online_appraisal_online</th>\n",
       "      <th>online_appraisal_unknown</th>\n",
       "    </tr>\n",
       "  </thead>\n",
       "  <tbody>\n",
       "    <tr>\n",
       "      <th>0</th>\n",
       "      <td>46388</td>\n",
       "      <td>69180</td>\n",
       "      <td>2014</td>\n",
       "      <td>15k to 20k miles</td>\n",
       "      <td>HDT</td>\n",
       "      <td>HDT_12</td>\n",
       "      <td>Premium</td>\n",
       "      <td>E</td>\n",
       "      <td>Red</td>\n",
       "      <td>2.0L</td>\n",
       "      <td>...</td>\n",
       "      <td>6</td>\n",
       "      <td>17.0</td>\n",
       "      <td>21</td>\n",
       "      <td>236</td>\n",
       "      <td>21.0</td>\n",
       "      <td>13</td>\n",
       "      <td>1</td>\n",
       "      <td>0</td>\n",
       "      <td>1</td>\n",
       "      <td>0</td>\n",
       "    </tr>\n",
       "    <tr>\n",
       "      <th>1</th>\n",
       "      <td>34577</td>\n",
       "      <td>69180</td>\n",
       "      <td>2006</td>\n",
       "      <td>100k+ miles</td>\n",
       "      <td>KQZ</td>\n",
       "      <td>KQZ_23</td>\n",
       "      <td>Premium</td>\n",
       "      <td>E</td>\n",
       "      <td>Silver</td>\n",
       "      <td>3.5L</td>\n",
       "      <td>...</td>\n",
       "      <td>6</td>\n",
       "      <td>16.0</td>\n",
       "      <td>21</td>\n",
       "      <td>205</td>\n",
       "      <td>25.0</td>\n",
       "      <td>11</td>\n",
       "      <td>0</td>\n",
       "      <td>0</td>\n",
       "      <td>0</td>\n",
       "      <td>0</td>\n",
       "    </tr>\n",
       "    <tr>\n",
       "      <th>2</th>\n",
       "      <td>28407</td>\n",
       "      <td>3690</td>\n",
       "      <td>2014</td>\n",
       "      <td>5k to 10k miles</td>\n",
       "      <td>CZV</td>\n",
       "      <td>CZV_10</td>\n",
       "      <td>Premium</td>\n",
       "      <td>E</td>\n",
       "      <td>Black</td>\n",
       "      <td>2.5L</td>\n",
       "      <td>...</td>\n",
       "      <td>4</td>\n",
       "      <td>41.0</td>\n",
       "      <td>38</td>\n",
       "      <td>181</td>\n",
       "      <td>10.0</td>\n",
       "      <td>13</td>\n",
       "      <td>1</td>\n",
       "      <td>0</td>\n",
       "      <td>1</td>\n",
       "      <td>0</td>\n",
       "    </tr>\n",
       "    <tr>\n",
       "      <th>3</th>\n",
       "      <td>20076</td>\n",
       "      <td>38688</td>\n",
       "      <td>2014</td>\n",
       "      <td>15k to 20k miles</td>\n",
       "      <td>IZA</td>\n",
       "      <td>IZA_19</td>\n",
       "      <td>Premium</td>\n",
       "      <td>F</td>\n",
       "      <td>Silver</td>\n",
       "      <td>2.0L</td>\n",
       "      <td>...</td>\n",
       "      <td>6</td>\n",
       "      <td>17.0</td>\n",
       "      <td>25</td>\n",
       "      <td>230</td>\n",
       "      <td>16.0</td>\n",
       "      <td>13</td>\n",
       "      <td>1</td>\n",
       "      <td>0</td>\n",
       "      <td>1</td>\n",
       "      <td>0</td>\n",
       "    </tr>\n",
       "    <tr>\n",
       "      <th>4</th>\n",
       "      <td>28407</td>\n",
       "      <td>23102</td>\n",
       "      <td>2011</td>\n",
       "      <td>35k to 40k miles</td>\n",
       "      <td>HDT</td>\n",
       "      <td>HDT_8</td>\n",
       "      <td>Premium</td>\n",
       "      <td>F</td>\n",
       "      <td>Blue</td>\n",
       "      <td>2.5L</td>\n",
       "      <td>...</td>\n",
       "      <td>4</td>\n",
       "      <td>20.0</td>\n",
       "      <td>29</td>\n",
       "      <td>182</td>\n",
       "      <td>18.0</td>\n",
       "      <td>16</td>\n",
       "      <td>1</td>\n",
       "      <td>0</td>\n",
       "      <td>1</td>\n",
       "      <td>0</td>\n",
       "    </tr>\n",
       "    <tr>\n",
       "      <th>...</th>\n",
       "      <td>...</td>\n",
       "      <td>...</td>\n",
       "      <td>...</td>\n",
       "      <td>...</td>\n",
       "      <td>...</td>\n",
       "      <td>...</td>\n",
       "      <td>...</td>\n",
       "      <td>...</td>\n",
       "      <td>...</td>\n",
       "      <td>...</td>\n",
       "      <td>...</td>\n",
       "      <td>...</td>\n",
       "      <td>...</td>\n",
       "      <td>...</td>\n",
       "      <td>...</td>\n",
       "      <td>...</td>\n",
       "      <td>...</td>\n",
       "      <td>...</td>\n",
       "      <td>...</td>\n",
       "      <td>...</td>\n",
       "      <td>...</td>\n",
       "    </tr>\n",
       "    <tr>\n",
       "      <th>199995</th>\n",
       "      <td>34577</td>\n",
       "      <td>23102</td>\n",
       "      <td>2013</td>\n",
       "      <td>10k to 15k miles</td>\n",
       "      <td>OFW</td>\n",
       "      <td>OFW_6</td>\n",
       "      <td>Premium</td>\n",
       "      <td>F</td>\n",
       "      <td>Black</td>\n",
       "      <td>2.0L</td>\n",
       "      <td>...</td>\n",
       "      <td>4</td>\n",
       "      <td>26.0</td>\n",
       "      <td>31</td>\n",
       "      <td>138</td>\n",
       "      <td>14.0</td>\n",
       "      <td>1</td>\n",
       "      <td>1</td>\n",
       "      <td>0</td>\n",
       "      <td>1</td>\n",
       "      <td>0</td>\n",
       "    </tr>\n",
       "    <tr>\n",
       "      <th>199996</th>\n",
       "      <td>46388</td>\n",
       "      <td>28387</td>\n",
       "      <td>2014</td>\n",
       "      <td>55k to 60k miles</td>\n",
       "      <td>ARU</td>\n",
       "      <td>ARU_12</td>\n",
       "      <td>Not Premium</td>\n",
       "      <td>F</td>\n",
       "      <td>White</td>\n",
       "      <td>2.5L</td>\n",
       "      <td>...</td>\n",
       "      <td>4</td>\n",
       "      <td>30.0</td>\n",
       "      <td>39</td>\n",
       "      <td>143</td>\n",
       "      <td>13.0</td>\n",
       "      <td>8</td>\n",
       "      <td>0</td>\n",
       "      <td>0</td>\n",
       "      <td>0</td>\n",
       "      <td>0</td>\n",
       "    </tr>\n",
       "    <tr>\n",
       "      <th>199997</th>\n",
       "      <td>28407</td>\n",
       "      <td>69180</td>\n",
       "      <td>2014</td>\n",
       "      <td>10k to 15k miles</td>\n",
       "      <td>AIH</td>\n",
       "      <td>AIH_13</td>\n",
       "      <td>Premium</td>\n",
       "      <td>F</td>\n",
       "      <td>Silver</td>\n",
       "      <td>2.5L</td>\n",
       "      <td>...</td>\n",
       "      <td>4</td>\n",
       "      <td>21.0</td>\n",
       "      <td>30</td>\n",
       "      <td>177</td>\n",
       "      <td>18.0</td>\n",
       "      <td>3</td>\n",
       "      <td>0</td>\n",
       "      <td>0</td>\n",
       "      <td>0</td>\n",
       "      <td>0</td>\n",
       "    </tr>\n",
       "    <tr>\n",
       "      <th>199998</th>\n",
       "      <td>28407</td>\n",
       "      <td>28387</td>\n",
       "      <td>2012</td>\n",
       "      <td>50k to 55k miles</td>\n",
       "      <td>KQZ</td>\n",
       "      <td>KQZ_3</td>\n",
       "      <td>Not Premium</td>\n",
       "      <td>D</td>\n",
       "      <td>Black</td>\n",
       "      <td>3.5L</td>\n",
       "      <td>...</td>\n",
       "      <td>8</td>\n",
       "      <td>13.0</td>\n",
       "      <td>19</td>\n",
       "      <td>390</td>\n",
       "      <td>26.0</td>\n",
       "      <td>11</td>\n",
       "      <td>0</td>\n",
       "      <td>0</td>\n",
       "      <td>0</td>\n",
       "      <td>0</td>\n",
       "    </tr>\n",
       "    <tr>\n",
       "      <th>199999</th>\n",
       "      <td>2415</td>\n",
       "      <td>23102</td>\n",
       "      <td>2014</td>\n",
       "      <td>5k to 10k miles</td>\n",
       "      <td>CIP</td>\n",
       "      <td>CIP_22</td>\n",
       "      <td>Premium</td>\n",
       "      <td>E</td>\n",
       "      <td>Black</td>\n",
       "      <td>4.6L</td>\n",
       "      <td>...</td>\n",
       "      <td>8</td>\n",
       "      <td>18.0</td>\n",
       "      <td>25</td>\n",
       "      <td>360</td>\n",
       "      <td>24.0</td>\n",
       "      <td>14</td>\n",
       "      <td>0</td>\n",
       "      <td>0</td>\n",
       "      <td>0</td>\n",
       "      <td>0</td>\n",
       "    </tr>\n",
       "  </tbody>\n",
       "</table>\n",
       "<p>200000 rows × 33 columns</p>\n",
       "</div>"
      ],
      "text/plain": [
       "        price  appraisal_offer  model_year           mileage make   model  \\\n",
       "0       46388            69180        2014  15k to 20k miles  HDT  HDT_12   \n",
       "1       34577            69180        2006       100k+ miles  KQZ  KQZ_23   \n",
       "2       28407             3690        2014   5k to 10k miles  CZV  CZV_10   \n",
       "3       20076            38688        2014  15k to 20k miles  IZA  IZA_19   \n",
       "4       28407            23102        2011  35k to 40k miles  HDT   HDT_8   \n",
       "...       ...              ...         ...               ...  ...     ...   \n",
       "199995  34577            23102        2013  10k to 15k miles  OFW   OFW_6   \n",
       "199996  46388            28387        2014  55k to 60k miles  ARU  ARU_12   \n",
       "199997  28407            69180        2014  10k to 15k miles  AIH  AIH_13   \n",
       "199998  28407            28387        2012  50k to 55k miles  KQZ   KQZ_3   \n",
       "199999   2415            23102        2014   5k to 10k miles  CIP  CIP_22   \n",
       "\n",
       "       trim_descrip body   color engine  ...  cylinders_appraisal  \\\n",
       "0           Premium    E     Red   2.0L  ...                    6   \n",
       "1           Premium    E  Silver   3.5L  ...                    6   \n",
       "2           Premium    E   Black   2.5L  ...                    4   \n",
       "3           Premium    F  Silver   2.0L  ...                    6   \n",
       "4           Premium    F    Blue   2.5L  ...                    4   \n",
       "...             ...  ...     ...    ...  ...                  ...   \n",
       "199995      Premium    F   Black   2.0L  ...                    4   \n",
       "199996  Not Premium    F   White   2.5L  ...                    4   \n",
       "199997      Premium    F  Silver   2.5L  ...                    4   \n",
       "199998  Not Premium    D   Black   3.5L  ...                    8   \n",
       "199999      Premium    E   Black   4.6L  ...                    8   \n",
       "\n",
       "        mpg_city_appraisal  mpg_highway_appraisal  horsepower_appraisal  \\\n",
       "0                     17.0                     21                   236   \n",
       "1                     16.0                     21                   205   \n",
       "2                     41.0                     38                   181   \n",
       "3                     17.0                     25                   230   \n",
       "4                     20.0                     29                   182   \n",
       "...                    ...                    ...                   ...   \n",
       "199995                26.0                     31                   138   \n",
       "199996                30.0                     39                   143   \n",
       "199997                21.0                     30                   177   \n",
       "199998                13.0                     19                   390   \n",
       "199999                18.0                     25                   360   \n",
       "\n",
       "        fuel_capacity_appraisal  market online unknown  \\\n",
       "0                          21.0      13      1       0   \n",
       "1                          25.0      11      0       0   \n",
       "2                          10.0      13      1       0   \n",
       "3                          16.0      13      1       0   \n",
       "4                          18.0      16      1       0   \n",
       "...                         ...     ...    ...     ...   \n",
       "199995                     14.0       1      1       0   \n",
       "199996                     13.0       8      0       0   \n",
       "199997                     18.0       3      0       0   \n",
       "199998                     26.0      11      0       0   \n",
       "199999                     24.0      14      0       0   \n",
       "\n",
       "       online_appraisal_online online_appraisal_unknown  \n",
       "0                            1                        0  \n",
       "1                            0                        0  \n",
       "2                            1                        0  \n",
       "3                            1                        0  \n",
       "4                            1                        0  \n",
       "...                        ...                      ...  \n",
       "199995                       1                        0  \n",
       "199996                       0                        0  \n",
       "199997                       0                        0  \n",
       "199998                       0                        0  \n",
       "199999                       0                        0  \n",
       "\n",
       "[200000 rows x 33 columns]"
      ]
     },
     "execution_count": 296,
     "metadata": {},
     "output_type": "execute_result"
    }
   ],
   "source": [
    "df"
   ]
  },
  {
   "cell_type": "markdown",
   "id": "e5415d38",
   "metadata": {},
   "source": [
    "#### df.mileage and df.mileage_appraisal"
   ]
  },
  {
   "cell_type": "code",
   "execution_count": 297,
   "id": "61cb2811",
   "metadata": {
    "scrolled": false
   },
   "outputs": [
    {
     "data": {
      "text/plain": [
       "25k to 30k miles     18740\n",
       "30k to 35k miles     17391\n",
       "20k to 25k miles     17181\n",
       "35k to 40k miles     16536\n",
       "15k to 20k miles     16437\n",
       "40k to 45k miles     14372\n",
       "45k to 50k miles     13680\n",
       "10k to 15k miles     13485\n",
       "50k to 55k miles     11843\n",
       "5k to 10k miles      11233\n",
       "55k to 60k miles     10803\n",
       "0 to 5k miles         6211\n",
       "100k+ miles           6003\n",
       "60k to 65k miles      4807\n",
       "65k to 70k miles      4158\n",
       "70k to 75k miles      3689\n",
       "75k to 80k miles      3382\n",
       "80k to 85k miles      3104\n",
       "85k to 90k miles      2696\n",
       "90k to 95k miles      2236\n",
       "95k to 100k miles     2013\n",
       "Name: mileage, dtype: int64"
      ]
     },
     "execution_count": 297,
     "metadata": {},
     "output_type": "execute_result"
    }
   ],
   "source": [
    "df.mileage.value_counts()"
   ]
  },
  {
   "cell_type": "code",
   "execution_count": 298,
   "id": "7fdcb5d9",
   "metadata": {},
   "outputs": [],
   "source": [
    "# value_counts = df.mileage.value_counts().to_dict()\n",
    "# df.mileage= df.mileage. map(value_counts)"
   ]
  },
  {
   "cell_type": "code",
   "execution_count": 299,
   "id": "a2837ace",
   "metadata": {},
   "outputs": [],
   "source": [
    "df.mileage = labelencoder.fit_transform(df.mileage)"
   ]
  },
  {
   "cell_type": "code",
   "execution_count": 300,
   "id": "87a07f79",
   "metadata": {},
   "outputs": [
    {
     "data": {
      "text/plain": [
       "50k to 60k miles      14163\n",
       "200k+ miles           13889\n",
       "40k to 50k miles      12872\n",
       "90k to 100k miles     12802\n",
       "80k to 90k miles      12693\n",
       "70k to 80k miles      12393\n",
       "100k to 110k miles    12068\n",
       "60k to 70k miles      11830\n",
       "110k to 120k miles    11371\n",
       "120k to 130k miles    10681\n",
       "30k to 40k miles      10389\n",
       "130k to 140k miles     9688\n",
       "140k to 150k miles     8617\n",
       "20k to 30k miles       7866\n",
       "150k to 160k miles     7630\n",
       "160k to 170k miles     6853\n",
       "170k to 180k miles     6030\n",
       "10k to 20k miles       5519\n",
       "180k to 190k miles     5045\n",
       "190k to 200k miles     4318\n",
       "0 to 10k miles         3283\n",
       "Name: mileage_appraisal, dtype: int64"
      ]
     },
     "execution_count": 300,
     "metadata": {},
     "output_type": "execute_result"
    }
   ],
   "source": [
    "df.mileage_appraisal.value_counts()"
   ]
  },
  {
   "cell_type": "code",
   "execution_count": 301,
   "id": "af386312",
   "metadata": {},
   "outputs": [],
   "source": [
    "# value_counts = df.mileage_appraisal.value_counts().to_dict()\n",
    "# df.mileage_appraisal= df.mileage_appraisal. map(value_counts)"
   ]
  },
  {
   "cell_type": "code",
   "execution_count": 266,
   "id": "580e6371",
   "metadata": {},
   "outputs": [],
   "source": [
    "df.mileage_appraisal = labelencoder.fit_transform(df.mileage_appraisal)"
   ]
  },
  {
   "cell_type": "markdown",
   "id": "7e7227eb",
   "metadata": {},
   "source": [
    "# attention !!!!!!!!!!!!!!!!!!!!!!!!!!!!!!!!"
   ]
  },
  {
   "cell_type": "markdown",
   "id": "659e97ed",
   "metadata": {},
   "source": [
    "#### df.color and df.color_appraisal"
   ]
  },
  {
   "cell_type": "code",
   "execution_count": 303,
   "id": "ee2c76f5",
   "metadata": {},
   "outputs": [
    {
     "data": {
      "text/plain": [
       "33"
      ]
     },
     "execution_count": 303,
     "metadata": {},
     "output_type": "execute_result"
    }
   ],
   "source": [
    "df.color.isna().sum()"
   ]
  },
  {
   "cell_type": "code",
   "execution_count": 304,
   "id": "d79fd585",
   "metadata": {},
   "outputs": [
    {
     "data": {
      "text/plain": [
       "1318"
      ]
     },
     "execution_count": 304,
     "metadata": {},
     "output_type": "execute_result"
    }
   ],
   "source": [
    "df.color_appraisal.isna().sum()"
   ]
  },
  {
   "cell_type": "code",
   "execution_count": 34,
   "id": "7a020d49",
   "metadata": {},
   "outputs": [],
   "source": [
    "#df.dropna(subset=['color_appraisal','color'], inplace= True)"
   ]
  },
  {
   "cell_type": "code",
   "execution_count": 305,
   "id": "ec61e6f6",
   "metadata": {},
   "outputs": [],
   "source": [
    "df.color= df.color.replace(np.nan, 'Unknown')\n",
    "df.color_appraisal= df.color_appraisal.replace(np.nan, 'Unknown')"
   ]
  },
  {
   "cell_type": "code",
   "execution_count": 306,
   "id": "25f937b4",
   "metadata": {},
   "outputs": [
    {
     "data": {
      "text/plain": [
       "White       45198\n",
       "Black       42936\n",
       "Gray        39395\n",
       "Silver      24654\n",
       "Blue        19745\n",
       "Red         14240\n",
       "Burgundy     3609\n",
       "Brown        2674\n",
       "Green        2133\n",
       "Gold         1278\n",
       "Orange       1177\n",
       "Tan          1109\n",
       "Pearl        1045\n",
       "Purple        497\n",
       "Yellow        273\n",
       "Unknown        37\n",
       "Name: color, dtype: int64"
      ]
     },
     "execution_count": 306,
     "metadata": {},
     "output_type": "execute_result"
    }
   ],
   "source": [
    "df.color.value_counts()"
   ]
  },
  {
   "cell_type": "code",
   "execution_count": 307,
   "id": "d971a846",
   "metadata": {},
   "outputs": [],
   "source": [
    "value_counts = df.color.value_counts().to_dict()"
   ]
  },
  {
   "cell_type": "code",
   "execution_count": 308,
   "id": "35bf5b57",
   "metadata": {},
   "outputs": [
    {
     "data": {
      "text/plain": [
       "{'White': 45198,\n",
       " 'Black': 42936,\n",
       " 'Gray': 39395,\n",
       " 'Silver': 24654,\n",
       " 'Blue': 19745,\n",
       " 'Red': 14240,\n",
       " 'Burgundy': 3609,\n",
       " 'Brown': 2674,\n",
       " 'Green': 2133,\n",
       " 'Gold': 1278,\n",
       " 'Orange': 1177,\n",
       " 'Tan': 1109,\n",
       " 'Pearl': 1045,\n",
       " 'Purple': 497,\n",
       " 'Yellow': 273,\n",
       " 'Unknown': 37}"
      ]
     },
     "execution_count": 308,
     "metadata": {},
     "output_type": "execute_result"
    }
   ],
   "source": [
    "value_counts"
   ]
  },
  {
   "cell_type": "code",
   "execution_count": 309,
   "id": "732c3964",
   "metadata": {},
   "outputs": [],
   "source": [
    "df.color= df.color. map(value_counts)"
   ]
  },
  {
   "cell_type": "code",
   "execution_count": null,
   "id": "6ba7ecc8",
   "metadata": {},
   "outputs": [],
   "source": []
  },
  {
   "cell_type": "code",
   "execution_count": 310,
   "id": "d9938f5a",
   "metadata": {},
   "outputs": [
    {
     "data": {
      "text/plain": [
       "Black       41534\n",
       "White       36738\n",
       "Gray        32686\n",
       "Silver      30226\n",
       "Blue        20707\n",
       "Red         14546\n",
       "Burgundy     4913\n",
       "Gold         4247\n",
       "Green        3815\n",
       "Brown        2916\n",
       "Tan          2767\n",
       "Unknown      2417\n",
       "Orange        986\n",
       "Pearl         623\n",
       "Purple        461\n",
       "Yellow        418\n",
       "Name: color_appraisal, dtype: int64"
      ]
     },
     "execution_count": 310,
     "metadata": {},
     "output_type": "execute_result"
    }
   ],
   "source": [
    "df.color_appraisal.value_counts()"
   ]
  },
  {
   "cell_type": "code",
   "execution_count": 311,
   "id": "ea383635",
   "metadata": {},
   "outputs": [],
   "source": [
    "value_counts = df.color_appraisal.value_counts().to_dict()"
   ]
  },
  {
   "cell_type": "code",
   "execution_count": 312,
   "id": "92aec986",
   "metadata": {},
   "outputs": [
    {
     "data": {
      "text/plain": [
       "{'Black': 41534,\n",
       " 'White': 36738,\n",
       " 'Gray': 32686,\n",
       " 'Silver': 30226,\n",
       " 'Blue': 20707,\n",
       " 'Red': 14546,\n",
       " 'Burgundy': 4913,\n",
       " 'Gold': 4247,\n",
       " 'Green': 3815,\n",
       " 'Brown': 2916,\n",
       " 'Tan': 2767,\n",
       " 'Unknown': 2417,\n",
       " 'Orange': 986,\n",
       " 'Pearl': 623,\n",
       " 'Purple': 461,\n",
       " 'Yellow': 418}"
      ]
     },
     "execution_count": 312,
     "metadata": {},
     "output_type": "execute_result"
    }
   ],
   "source": [
    "value_counts"
   ]
  },
  {
   "cell_type": "code",
   "execution_count": 313,
   "id": "ac281174",
   "metadata": {},
   "outputs": [],
   "source": [
    "df.color_appraisal= df.color_appraisal. map(value_counts)"
   ]
  },
  {
   "cell_type": "markdown",
   "id": "4d049752",
   "metadata": {},
   "source": [
    "# attention !!!!!!!!!!!!!!!!!!!!!!!!!!!"
   ]
  },
  {
   "cell_type": "markdown",
   "id": "85632921",
   "metadata": {},
   "source": [
    "#### body and body_appraisal"
   ]
  },
  {
   "cell_type": "code",
   "execution_count": 37,
   "id": "e28f11c1",
   "metadata": {},
   "outputs": [
    {
     "data": {
      "text/plain": [
       "10259"
      ]
     },
     "execution_count": 37,
     "metadata": {},
     "output_type": "execute_result"
    }
   ],
   "source": [
    "df.body.isna().sum()"
   ]
  },
  {
   "cell_type": "code",
   "execution_count": 38,
   "id": "701f598e",
   "metadata": {
    "scrolled": true
   },
   "outputs": [
    {
     "data": {
      "text/plain": [
       "E    106730\n",
       "F     50578\n",
       "D     20001\n",
       "G      6246\n",
       "B      5265\n",
       "A       921\n",
       "Name: body, dtype: int64"
      ]
     },
     "execution_count": 38,
     "metadata": {},
     "output_type": "execute_result"
    }
   ],
   "source": [
    "df.body.value_counts()"
   ]
  },
  {
   "cell_type": "code",
   "execution_count": null,
   "id": "17833cda",
   "metadata": {},
   "outputs": [],
   "source": []
  },
  {
   "cell_type": "code",
   "execution_count": 315,
   "id": "b54e5b12",
   "metadata": {},
   "outputs": [],
   "source": [
    "value_counts = df.body.value_counts().to_dict()\n",
    "df.body= df.body. map(value_counts)"
   ]
  },
  {
   "cell_type": "code",
   "execution_count": 44,
   "id": "2bf02b6f",
   "metadata": {},
   "outputs": [],
   "source": [
    "#df.body = labelencoder.fit_transform(df.body)"
   ]
  },
  {
   "cell_type": "code",
   "execution_count": 351,
   "id": "93d07ae3",
   "metadata": {},
   "outputs": [
    {
     "data": {
      "text/plain": [
       "0"
      ]
     },
     "execution_count": 351,
     "metadata": {},
     "output_type": "execute_result"
    }
   ],
   "source": [
    "df.body_appraisal.isna().sum()"
   ]
  },
  {
   "cell_type": "code",
   "execution_count": 316,
   "id": "b39d3b9c",
   "metadata": {},
   "outputs": [
    {
     "data": {
      "text/plain": [
       "E    77597\n",
       "F    75146\n",
       "D    15626\n",
       "C    10252\n",
       "B     7541\n",
       "G     7470\n",
       "H     4385\n",
       "A     1983\n",
       "Name: body_appraisal, dtype: int64"
      ]
     },
     "execution_count": 316,
     "metadata": {},
     "output_type": "execute_result"
    }
   ],
   "source": [
    "df.body_appraisal.value_counts()"
   ]
  },
  {
   "cell_type": "code",
   "execution_count": 317,
   "id": "33d7fb22",
   "metadata": {},
   "outputs": [],
   "source": [
    "value_counts = df.body_appraisal.value_counts().to_dict()\n",
    "df.body_appraisal= df.body_appraisal. map(value_counts)"
   ]
  },
  {
   "cell_type": "code",
   "execution_count": 46,
   "id": "d5c21ef0",
   "metadata": {},
   "outputs": [],
   "source": [
    "#df.body_appraisal = labelencoder.fit_transform(df.body_appraisal)"
   ]
  },
  {
   "cell_type": "markdown",
   "id": "9649185f",
   "metadata": {},
   "source": [
    "#### engine and engine_appraisal"
   ]
  },
  {
   "cell_type": "code",
   "execution_count": 319,
   "id": "267d78f2",
   "metadata": {},
   "outputs": [
    {
     "data": {
      "text/plain": [
       "2.0L    36654\n",
       "2.5L    28306\n",
       "3.5L    27826\n",
       "3.6L    21817\n",
       "2.4L    18957\n",
       "1.5L    14351\n",
       "1.8L     9130\n",
       "5.7L     6022\n",
       "5.3L     5620\n",
       "1.4L     4629\n",
       "1.6L     3835\n",
       "3.0L     3515\n",
       "4.0L     2967\n",
       "2.7L     2215\n",
       "5.0L     1948\n",
       "6.2L     1752\n",
       "2.3L     1587\n",
       "3.2L     1584\n",
       "3.3L     1348\n",
       "3.7L     1187\n",
       "4.6L     1056\n",
       "6.4L      921\n",
       "5.6L      828\n",
       "4.3L      559\n",
       "3.8L      395\n",
       "4.4L      149\n",
       "1.3L      112\n",
       "1.0L      107\n",
       "6.7L      103\n",
       "1.2L       88\n",
       "5.4L       81\n",
       "6.6L       73\n",
       "4.7L       68\n",
       "2.8L       54\n",
       "5.2L       39\n",
       "6.0L       28\n",
       "4.8L       27\n",
       "2.9L       14\n",
       "2.2L       11\n",
       "5.5L       10\n",
       "0.6L        8\n",
       "3.4L        4\n",
       "6.1L        4\n",
       "2.1L        3\n",
       "3.9L        2\n",
       "5.8L        2\n",
       "6.3L        2\n",
       "0           1\n",
       "7.0L        1\n",
       "Name: engine, dtype: int64"
      ]
     },
     "execution_count": 319,
     "metadata": {},
     "output_type": "execute_result"
    }
   ],
   "source": [
    "df.engine.value_counts()"
   ]
  },
  {
   "cell_type": "code",
   "execution_count": 13,
   "id": "35830b5c",
   "metadata": {},
   "outputs": [
    {
     "data": {
      "text/plain": [
       "2.0L    36654\n",
       "2.5L    28306\n",
       "3.5L    27826\n",
       "3.6L    21817\n",
       "2.4L    18957\n",
       "1.5L    14351\n",
       "1.8L     9130\n",
       "5.7L     6022\n",
       "5.3L     5620\n",
       "1.4L     4629\n",
       "1.6L     3835\n",
       "3.0L     3515\n",
       "4.0L     2967\n",
       "2.7L     2215\n",
       "5.0L     1948\n",
       "6.2L     1752\n",
       "2.3L     1587\n",
       "3.2L     1584\n",
       "3.3L     1348\n",
       "3.7L     1187\n",
       "4.6L     1056\n",
       "6.4L      921\n",
       "5.6L      828\n",
       "4.3L      559\n",
       "3.8L      395\n",
       "4.4L      149\n",
       "1.3L      112\n",
       "1.0L      107\n",
       "6.7L      103\n",
       "1.2L       88\n",
       "5.4L       81\n",
       "6.6L       73\n",
       "4.7L       68\n",
       "2.8L       54\n",
       "5.2L       39\n",
       "6.0L       28\n",
       "4.8L       27\n",
       "2.9L       14\n",
       "2.2L       11\n",
       "5.5L       10\n",
       "0.6L        8\n",
       "6.1L        4\n",
       "3.4L        4\n",
       "2.1L        3\n",
       "3.9L        2\n",
       "6.3L        2\n",
       "5.8L        2\n",
       "7.0L        1\n",
       "0           1\n",
       "Name: engine, dtype: int64"
      ]
     },
     "execution_count": 13,
     "metadata": {},
     "output_type": "execute_result"
    }
   ],
   "source": [
    "df.engine.value_counts()"
   ]
  },
  {
   "cell_type": "code",
   "execution_count": 320,
   "id": "6b243818",
   "metadata": {},
   "outputs": [],
   "source": [
    "df.engine = labelencoder.fit_transform(df.engine)"
   ]
  },
  {
   "cell_type": "code",
   "execution_count": 41,
   "id": "3e1ff0a1",
   "metadata": {},
   "outputs": [
    {
     "data": {
      "text/plain": [
       "2.4L    27269\n",
       "2.0L    25842\n",
       "3.5L    23787\n",
       "2.5L    22471\n",
       "3.6L    17223\n",
       "1.8L    13874\n",
       "3.0L     7358\n",
       "1.6L     7055\n",
       "1.5L     6001\n",
       "5.3L     4957\n",
       "1.4L     4838\n",
       "4.0L     4280\n",
       "5.7L     4253\n",
       "3.7L     3934\n",
       "3.3L     2870\n",
       "3.8L     2483\n",
       "2.3L     2153\n",
       "2.7L     2103\n",
       "4.6L     1820\n",
       "5.0L     1636\n",
       "3.2L     1572\n",
       "2.2L     1313\n",
       "5.4L     1290\n",
       "4.7L     1245\n",
       "6.2L     1216\n",
       "5.6L     1062\n",
       "4.2L      873\n",
       "3.4L      733\n",
       "4.3L      705\n",
       "4.8L      505\n",
       "1.2L      472\n",
       "1.7L      436\n",
       "4.4L      328\n",
       "6.4L      309\n",
       "3.9L      288\n",
       "1.3L      283\n",
       "3.1L      208\n",
       "1.0L      198\n",
       "6.0L      172\n",
       "2.8L      131\n",
       "5.5L      130\n",
       "2.9L       98\n",
       "1.9L       72\n",
       "5.2L       46\n",
       "4.5L       31\n",
       "2.6L       24\n",
       "6.1L       23\n",
       "6.3L        9\n",
       "2.1L        8\n",
       "7.0L        4\n",
       "4.1L        3\n",
       "5.8L        2\n",
       "8.3L        1\n",
       "6.6L        1\n",
       "5.9L        1\n",
       "6.8L        1\n",
       "Name: engine_appraisal, dtype: int64"
      ]
     },
     "execution_count": 41,
     "metadata": {},
     "output_type": "execute_result"
    }
   ],
   "source": [
    "df.engine_appraisal.value_counts()"
   ]
  },
  {
   "cell_type": "code",
   "execution_count": 322,
   "id": "0f0c9249",
   "metadata": {},
   "outputs": [],
   "source": [
    "df.engine_appraisal = labelencoder.fit_transform(df.engine_appraisal)"
   ]
  },
  {
   "cell_type": "code",
   "execution_count": 369,
   "id": "738b00b6",
   "metadata": {},
   "outputs": [
    {
     "data": {
      "text/plain": [
       "13    27269\n",
       "9     25842\n",
       "24    23787\n",
       "14    22471\n",
       "25    17223\n",
       "7     13874\n",
       "19     7358\n",
       "5      7055\n",
       "4      6001\n",
       "40     4957\n",
       "3      4838\n",
       "29     4280\n",
       "44     4253\n",
       "26     3934\n",
       "22     2870\n",
       "27     2483\n",
       "12     2153\n",
       "16     2103\n",
       "35     1820\n",
       "38     1636\n",
       "21     1572\n",
       "11     1313\n",
       "41     1290\n",
       "36     1245\n",
       "49     1216\n",
       "43     1062\n",
       "31      873\n",
       "23      733\n",
       "32      705\n",
       "37      505\n",
       "1       472\n",
       "6       436\n",
       "33      328\n",
       "51      309\n",
       "28      288\n",
       "2       283\n",
       "20      208\n",
       "0       198\n",
       "47      172\n",
       "17      131\n",
       "42      130\n",
       "18       98\n",
       "8        72\n",
       "39       46\n",
       "34       31\n",
       "15       24\n",
       "48       23\n",
       "50        9\n",
       "10        8\n",
       "54        4\n",
       "30        3\n",
       "45        2\n",
       "46        1\n",
       "52        1\n",
       "53        1\n",
       "55        1\n",
       "Name: engine_appraisal, dtype: int64"
      ]
     },
     "execution_count": 369,
     "metadata": {},
     "output_type": "execute_result"
    }
   ],
   "source": [
    "df.engine_appraisal.value_counts()"
   ]
  },
  {
   "cell_type": "markdown",
   "id": "a888b366",
   "metadata": {},
   "source": [
    "# attention !!!!!!!!!!!!!!!!!!!!!!!!!!!!!!!!!!!!!"
   ]
  },
  {
   "cell_type": "markdown",
   "id": "29220710",
   "metadata": {},
   "source": [
    "### make and make_appraisal"
   ]
  },
  {
   "cell_type": "code",
   "execution_count": 323,
   "id": "48d25061",
   "metadata": {
    "scrolled": true
   },
   "outputs": [
    {
     "data": {
      "text/plain": [
       "AIH    26201\n",
       "HXQ    20836\n",
       "KQZ    17586\n",
       "LTX    16396\n",
       "ARU    16272\n",
       "CFK    16016\n",
       "OFW     9270\n",
       "HDT     8598\n",
       "BGZ     7163\n",
       "FJE     6328\n",
       "CIP     6184\n",
       "JHO     5504\n",
       "CZV     5163\n",
       "JDZ     5073\n",
       "FVQ     4891\n",
       "BZQ     4683\n",
       "IZA     4346\n",
       "LYP     3324\n",
       "HAE     3078\n",
       "NHY     2856\n",
       "BXO     2636\n",
       "NKR     1955\n",
       "BDP     1641\n",
       "GUK     1118\n",
       "JJQ      828\n",
       "FPH      784\n",
       "JGV      337\n",
       "HYS      267\n",
       "MBN      193\n",
       "NYP      188\n",
       "NAJ      116\n",
       "HAN       93\n",
       "IZN       62\n",
       "DVE        8\n",
       "KDM        4\n",
       "BIS        1\n",
       "FJR        1\n",
       "Name: make, dtype: int64"
      ]
     },
     "execution_count": 323,
     "metadata": {},
     "output_type": "execute_result"
    }
   ],
   "source": [
    "df.make.value_counts()"
   ]
  },
  {
   "cell_type": "code",
   "execution_count": 324,
   "id": "1fa13d53",
   "metadata": {},
   "outputs": [],
   "source": [
    "value_counts = df.make.value_counts().to_dict()\n",
    "df.make= df.make. map(value_counts)"
   ]
  },
  {
   "cell_type": "code",
   "execution_count": 52,
   "id": "b001d76f",
   "metadata": {},
   "outputs": [],
   "source": [
    "#df.make = labelencoder.fit_transform(df.make)"
   ]
  },
  {
   "cell_type": "code",
   "execution_count": 325,
   "id": "61410bb7",
   "metadata": {},
   "outputs": [
    {
     "data": {
      "text/plain": [
       "KQZ    21886\n",
       "LTX    21124\n",
       "AIH    20919\n",
       "ARU    19890\n",
       "HXQ    17656\n",
       "CFK    11930\n",
       "OFW    11459\n",
       "FJE     8911\n",
       "BGZ     8485\n",
       "JHO     5021\n",
       "FVQ     4539\n",
       "BXO     4257\n",
       "HDT     4116\n",
       "CZV     4073\n",
       "IZA     3835\n",
       "CIP     3778\n",
       "JDZ     3658\n",
       "NKR     2816\n",
       "HAE     2579\n",
       "BZQ     2487\n",
       "NHY     2444\n",
       "BDP     2176\n",
       "LYP     2022\n",
       "GUK     1617\n",
       "JGV     1186\n",
       "FPH     1182\n",
       "IZN      846\n",
       "JJQ      846\n",
       "BIS      722\n",
       "FJR      716\n",
       "HYS      701\n",
       "KDM      574\n",
       "HAN      512\n",
       "NYP      389\n",
       "MBN      272\n",
       "CJM      209\n",
       "NAJ       92\n",
       "DVE       75\n",
       "Name: make_appraisal, dtype: int64"
      ]
     },
     "execution_count": 325,
     "metadata": {},
     "output_type": "execute_result"
    }
   ],
   "source": [
    "df.make_appraisal.value_counts()"
   ]
  },
  {
   "cell_type": "code",
   "execution_count": 326,
   "id": "4694e97a",
   "metadata": {},
   "outputs": [],
   "source": [
    "value_counts = df.make_appraisal.value_counts().to_dict()\n",
    "df.make_appraisal= df.make_appraisal. map(value_counts)"
   ]
  },
  {
   "cell_type": "code",
   "execution_count": 327,
   "id": "e8ca99a7",
   "metadata": {},
   "outputs": [],
   "source": [
    "#df.make_appraisal = labelencoder.fit_transform(df.make_appraisal)"
   ]
  },
  {
   "cell_type": "markdown",
   "id": "2e48b3b5",
   "metadata": {},
   "source": [
    "# attention !!!!!!!!!!!!!!!!!!!!!!!!!!!!!!!!"
   ]
  },
  {
   "cell_type": "markdown",
   "id": "93b42949",
   "metadata": {},
   "source": [
    "#### model and model_appraisal"
   ]
  },
  {
   "cell_type": "code",
   "execution_count": 367,
   "id": "d63e81d8",
   "metadata": {},
   "outputs": [],
   "source": [
    "#have to encode these two features better"
   ]
  },
  {
   "cell_type": "code",
   "execution_count": 329,
   "id": "d35ac8eb",
   "metadata": {},
   "outputs": [
    {
     "data": {
      "text/plain": [
       "HXQ_8     5528\n",
       "ARU_4     4950\n",
       "AIH_13    4909\n",
       "CFK_8     4848\n",
       "HXQ_14    4616\n",
       "          ... \n",
       "BIS_1        1\n",
       "JDZ_61       1\n",
       "IZA_29       1\n",
       "IZA_13       1\n",
       "ARU_1        1\n",
       "Name: model, Length: 575, dtype: int64"
      ]
     },
     "execution_count": 329,
     "metadata": {},
     "output_type": "execute_result"
    }
   ],
   "source": [
    "df.model.value_counts()"
   ]
  },
  {
   "cell_type": "code",
   "execution_count": 330,
   "id": "b5be8d95",
   "metadata": {},
   "outputs": [],
   "source": [
    "df.model = labelencoder.fit_transform(df.model)"
   ]
  },
  {
   "cell_type": "code",
   "execution_count": 331,
   "id": "bd5df84a",
   "metadata": {},
   "outputs": [
    {
     "data": {
      "text/plain": [
       "HXQ_14     4845\n",
       "ARU_12     4839\n",
       "HXQ_8      4794\n",
       "AIH_13     4490\n",
       "AIH_25     3434\n",
       "           ... \n",
       "IZA_102       1\n",
       "KDM_105       1\n",
       "JDZ_35        1\n",
       "JDZ_43        1\n",
       "JDZ_104       1\n",
       "Name: model_appraisal, Length: 675, dtype: int64"
      ]
     },
     "execution_count": 331,
     "metadata": {},
     "output_type": "execute_result"
    }
   ],
   "source": [
    "df.model_appraisal.value_counts()"
   ]
  },
  {
   "cell_type": "code",
   "execution_count": 332,
   "id": "a3464a71",
   "metadata": {},
   "outputs": [],
   "source": [
    "df.model_appraisal = labelencoder.fit_transform(df.model_appraisal)"
   ]
  },
  {
   "cell_type": "markdown",
   "id": "78ff95f8",
   "metadata": {},
   "source": [
    "#### df.trim_descrip and df.trim_descrip_appraisal"
   ]
  },
  {
   "cell_type": "code",
   "execution_count": 48,
   "id": "92e7bb79",
   "metadata": {
    "scrolled": false
   },
   "outputs": [
    {
     "ename": "AttributeError",
     "evalue": "'DataFrame' object has no attribute 'trim_descrip'",
     "output_type": "error",
     "traceback": [
      "\u001b[1;31m---------------------------------------------------------------------------\u001b[0m",
      "\u001b[1;31mAttributeError\u001b[0m                            Traceback (most recent call last)",
      "\u001b[1;32mC:\\Users\\SIDYBO~1\\AppData\\Local\\Temp/ipykernel_3180/1990503562.py\u001b[0m in \u001b[0;36m<module>\u001b[1;34m\u001b[0m\n\u001b[1;32m----> 1\u001b[1;33m \u001b[0mdf\u001b[0m\u001b[1;33m.\u001b[0m\u001b[0mtrim_descrip\u001b[0m\u001b[1;33m.\u001b[0m\u001b[0mvalue_counts\u001b[0m\u001b[1;33m(\u001b[0m\u001b[1;33m)\u001b[0m\u001b[1;33m\u001b[0m\u001b[1;33m\u001b[0m\u001b[0m\n\u001b[0m",
      "\u001b[1;32mc:\\users\\sidy boy!\\appdata\\local\\programs\\python\\python39\\lib\\site-packages\\pandas\\core\\generic.py\u001b[0m in \u001b[0;36m__getattr__\u001b[1;34m(self, name)\u001b[0m\n\u001b[0;32m   5463\u001b[0m             \u001b[1;32mif\u001b[0m \u001b[0mself\u001b[0m\u001b[1;33m.\u001b[0m\u001b[0m_info_axis\u001b[0m\u001b[1;33m.\u001b[0m\u001b[0m_can_hold_identifiers_and_holds_name\u001b[0m\u001b[1;33m(\u001b[0m\u001b[0mname\u001b[0m\u001b[1;33m)\u001b[0m\u001b[1;33m:\u001b[0m\u001b[1;33m\u001b[0m\u001b[1;33m\u001b[0m\u001b[0m\n\u001b[0;32m   5464\u001b[0m                 \u001b[1;32mreturn\u001b[0m \u001b[0mself\u001b[0m\u001b[1;33m[\u001b[0m\u001b[0mname\u001b[0m\u001b[1;33m]\u001b[0m\u001b[1;33m\u001b[0m\u001b[1;33m\u001b[0m\u001b[0m\n\u001b[1;32m-> 5465\u001b[1;33m             \u001b[1;32mreturn\u001b[0m \u001b[0mobject\u001b[0m\u001b[1;33m.\u001b[0m\u001b[0m__getattribute__\u001b[0m\u001b[1;33m(\u001b[0m\u001b[0mself\u001b[0m\u001b[1;33m,\u001b[0m \u001b[0mname\u001b[0m\u001b[1;33m)\u001b[0m\u001b[1;33m\u001b[0m\u001b[1;33m\u001b[0m\u001b[0m\n\u001b[0m\u001b[0;32m   5466\u001b[0m \u001b[1;33m\u001b[0m\u001b[0m\n\u001b[0;32m   5467\u001b[0m     \u001b[1;32mdef\u001b[0m \u001b[0m__setattr__\u001b[0m\u001b[1;33m(\u001b[0m\u001b[0mself\u001b[0m\u001b[1;33m,\u001b[0m \u001b[0mname\u001b[0m\u001b[1;33m:\u001b[0m \u001b[0mstr\u001b[0m\u001b[1;33m,\u001b[0m \u001b[0mvalue\u001b[0m\u001b[1;33m)\u001b[0m \u001b[1;33m->\u001b[0m \u001b[1;32mNone\u001b[0m\u001b[1;33m:\u001b[0m\u001b[1;33m\u001b[0m\u001b[1;33m\u001b[0m\u001b[0m\n",
      "\u001b[1;31mAttributeError\u001b[0m: 'DataFrame' object has no attribute 'trim_descrip'"
     ]
    }
   ],
   "source": [
    "df.trim_descrip.value_counts()"
   ]
  },
  {
   "cell_type": "code",
   "execution_count": 43,
   "id": "26e3390c",
   "metadata": {},
   "outputs": [
    {
     "data": {
      "text/plain": [
       "23841"
      ]
     },
     "execution_count": 43,
     "metadata": {},
     "output_type": "execute_result"
    }
   ],
   "source": [
    "df.trim_descrip.isna().sum()"
   ]
  },
  {
   "cell_type": "code",
   "execution_count": 61,
   "id": "ae55a103",
   "metadata": {},
   "outputs": [],
   "source": [
    "#df.trim_descrip= df.trim_descrip.replace('Premium', 0)"
   ]
  },
  {
   "cell_type": "code",
   "execution_count": 335,
   "id": "374b977c",
   "metadata": {},
   "outputs": [],
   "source": [
    "#df.trim_descrip= df.trim_descrip.replace('Not Premium', 1)"
   ]
  },
  {
   "cell_type": "code",
   "execution_count": 44,
   "id": "60baee6a",
   "metadata": {},
   "outputs": [],
   "source": [
    "df.trim_descrip= df.trim_descrip.replace(np.nan, 'Unknown')"
   ]
  },
  {
   "cell_type": "code",
   "execution_count": null,
   "id": "5ea2c5ad",
   "metadata": {},
   "outputs": [],
   "source": []
  },
  {
   "cell_type": "code",
   "execution_count": 46,
   "id": "6dde21f0",
   "metadata": {},
   "outputs": [],
   "source": [
    "df = pd.concat([df,pd.get_dummies(df.trim_descrip, prefix= 'trim_descrip')],axis=1)"
   ]
  },
  {
   "cell_type": "code",
   "execution_count": 47,
   "id": "96857380",
   "metadata": {
    "scrolled": true
   },
   "outputs": [],
   "source": [
    "df.drop(columns=['trim_descrip'], inplace=True)"
   ]
  },
  {
   "cell_type": "code",
   "execution_count": null,
   "id": "ce731c5a",
   "metadata": {},
   "outputs": [],
   "source": []
  },
  {
   "cell_type": "code",
   "execution_count": 339,
   "id": "a67bf215",
   "metadata": {
    "scrolled": true
   },
   "outputs": [
    {
     "data": {
      "text/plain": [
       "Not Premium    111567\n",
       "Premium         57353\n",
       "Name: trim_descrip_appraisal, dtype: int64"
      ]
     },
     "execution_count": 339,
     "metadata": {},
     "output_type": "execute_result"
    }
   ],
   "source": [
    "df.trim_descrip_appraisal.value_counts()"
   ]
  },
  {
   "cell_type": "code",
   "execution_count": 340,
   "id": "a1bb518b",
   "metadata": {},
   "outputs": [
    {
     "data": {
      "text/plain": [
       "31080"
      ]
     },
     "execution_count": 340,
     "metadata": {},
     "output_type": "execute_result"
    }
   ],
   "source": [
    "df.trim_descrip_appraisal.isna().sum()"
   ]
  },
  {
   "cell_type": "code",
   "execution_count": 66,
   "id": "bab259be",
   "metadata": {},
   "outputs": [],
   "source": [
    "##df.trim_descrip_appraisal= df.trim_descrip_appraisal.replace('Premium', 0)"
   ]
  },
  {
   "cell_type": "code",
   "execution_count": 67,
   "id": "578cf3a1",
   "metadata": {},
   "outputs": [],
   "source": [
    "#df.trim_descrip_appraisal= df.trim_descrip_appraisal.replace('Not Premium', 1)"
   ]
  },
  {
   "cell_type": "code",
   "execution_count": 49,
   "id": "56af8f04",
   "metadata": {},
   "outputs": [],
   "source": [
    "df.trim_descrip_appraisal= df.trim_descrip_appraisal.replace(np.nan, 'Unknown')"
   ]
  },
  {
   "cell_type": "code",
   "execution_count": 50,
   "id": "f41f11ca",
   "metadata": {},
   "outputs": [],
   "source": [
    "df = pd.concat([df,pd.get_dummies(df.trim_descrip_appraisal, prefix= 'trim_descrip_appraisal')],axis=1)"
   ]
  },
  {
   "cell_type": "code",
   "execution_count": 51,
   "id": "c94ee316",
   "metadata": {
    "scrolled": true
   },
   "outputs": [],
   "source": [
    "df.drop(columns=['trim_descrip_appraisal'], inplace=True)"
   ]
  },
  {
   "cell_type": "code",
   "execution_count": null,
   "id": "5ae9b5c2",
   "metadata": {},
   "outputs": [],
   "source": []
  },
  {
   "cell_type": "markdown",
   "id": "6cd6298f",
   "metadata": {},
   "source": [
    "# attention !!!!!!!!!!!!!!!!!!!!!!!!!!!! "
   ]
  },
  {
   "cell_type": "markdown",
   "id": "50166a14",
   "metadata": {},
   "source": [
    "#### model_year and model_year_appraisal"
   ]
  },
  {
   "cell_type": "code",
   "execution_count": 344,
   "id": "8403cca0",
   "metadata": {},
   "outputs": [
    {
     "data": {
      "text/plain": [
       "2013    50502\n",
       "2014    40116\n",
       "2012    32616\n",
       "2015    20325\n",
       "2011    18897\n",
       "2010    11605\n",
       "2016     7739\n",
       "2009     6354\n",
       "2008     4611\n",
       "2007     2967\n",
       "2006     1830\n",
       "2017     1080\n",
       "2005     1080\n",
       "2004      245\n",
       "2000        8\n",
       "2002        7\n",
       "1998        5\n",
       "2003        4\n",
       "2001        4\n",
       "1993        1\n",
       "1999        1\n",
       "1996        1\n",
       "1994        1\n",
       "1991        1\n",
       "Name: model_year, dtype: int64"
      ]
     },
     "execution_count": 344,
     "metadata": {},
     "output_type": "execute_result"
    }
   ],
   "source": [
    "df.model_year.value_counts()"
   ]
  },
  {
   "cell_type": "code",
   "execution_count": 345,
   "id": "2e39bd91",
   "metadata": {},
   "outputs": [
    {
     "data": {
      "text/plain": [
       "2012    17933\n",
       "2011    17832\n",
       "2010    17597\n",
       "2009    16114\n",
       "2008    15888\n",
       "2013    14018\n",
       "2007    13269\n",
       "2006    11102\n",
       "2014    10899\n",
       "2005     9050\n",
       "2003     8646\n",
       "2002     8072\n",
       "2004     6808\n",
       "2001     6065\n",
       "2015     5676\n",
       "2000     4912\n",
       "1999     3890\n",
       "1998     2932\n",
       "2016     2647\n",
       "1997     2093\n",
       "1996     1379\n",
       "1995     1107\n",
       "1994      740\n",
       "1993      417\n",
       "2017      397\n",
       "1992      295\n",
       "1991      123\n",
       "1990       75\n",
       "1989       12\n",
       "1987        6\n",
       "1988        5\n",
       "1986        1\n",
       "Name: model_year_appraisal, dtype: int64"
      ]
     },
     "execution_count": 345,
     "metadata": {},
     "output_type": "execute_result"
    }
   ],
   "source": [
    "df.model_year_appraisal.value_counts()"
   ]
  },
  {
   "cell_type": "code",
   "execution_count": null,
   "id": "a136742b",
   "metadata": {},
   "outputs": [],
   "source": []
  },
  {
   "cell_type": "markdown",
   "id": "8ffd2052",
   "metadata": {},
   "source": [
    "### filling missing values "
   ]
  },
  {
   "cell_type": "markdown",
   "id": "1a0916d2",
   "metadata": {},
   "source": [
    "##### using knn imputer to fill NANs "
   ]
  },
  {
   "cell_type": "code",
   "execution_count": 346,
   "id": "11b808b0",
   "metadata": {},
   "outputs": [
    {
     "data": {
      "text/html": [
       "<div>\n",
       "<style scoped>\n",
       "    .dataframe tbody tr th:only-of-type {\n",
       "        vertical-align: middle;\n",
       "    }\n",
       "\n",
       "    .dataframe tbody tr th {\n",
       "        vertical-align: top;\n",
       "    }\n",
       "\n",
       "    .dataframe thead th {\n",
       "        text-align: right;\n",
       "    }\n",
       "</style>\n",
       "<table border=\"1\" class=\"dataframe\">\n",
       "  <thead>\n",
       "    <tr style=\"text-align: right;\">\n",
       "      <th></th>\n",
       "      <th>price</th>\n",
       "      <th>appraisal_offer</th>\n",
       "      <th>model_year</th>\n",
       "      <th>mileage</th>\n",
       "      <th>make</th>\n",
       "      <th>model</th>\n",
       "      <th>body</th>\n",
       "      <th>color</th>\n",
       "      <th>engine</th>\n",
       "      <th>cylinders</th>\n",
       "      <th>...</th>\n",
       "      <th>fuel_capacity_appraisal</th>\n",
       "      <th>market</th>\n",
       "      <th>online</th>\n",
       "      <th>unknown</th>\n",
       "      <th>online_appraisal_online</th>\n",
       "      <th>online_appraisal_unknown</th>\n",
       "      <th>trim_descrip_Premium</th>\n",
       "      <th>trim_descrip_Unknown</th>\n",
       "      <th>trim_descrip_appraisal_Premium</th>\n",
       "      <th>trim_descrip_appraisal_Unknown</th>\n",
       "    </tr>\n",
       "  </thead>\n",
       "  <tbody>\n",
       "    <tr>\n",
       "      <th>0</th>\n",
       "      <td>46388</td>\n",
       "      <td>69180</td>\n",
       "      <td>2014</td>\n",
       "      <td>16437</td>\n",
       "      <td>8598</td>\n",
       "      <td>230</td>\n",
       "      <td>106730.0</td>\n",
       "      <td>14240</td>\n",
       "      <td>9</td>\n",
       "      <td>4</td>\n",
       "      <td>...</td>\n",
       "      <td>21.0</td>\n",
       "      <td>13</td>\n",
       "      <td>1</td>\n",
       "      <td>0</td>\n",
       "      <td>1</td>\n",
       "      <td>0</td>\n",
       "      <td>1</td>\n",
       "      <td>0</td>\n",
       "      <td>0</td>\n",
       "      <td>1</td>\n",
       "    </tr>\n",
       "    <tr>\n",
       "      <th>1</th>\n",
       "      <td>34577</td>\n",
       "      <td>69180</td>\n",
       "      <td>2006</td>\n",
       "      <td>6003</td>\n",
       "      <td>17586</td>\n",
       "      <td>442</td>\n",
       "      <td>106730.0</td>\n",
       "      <td>24654</td>\n",
       "      <td>22</td>\n",
       "      <td>6</td>\n",
       "      <td>...</td>\n",
       "      <td>25.0</td>\n",
       "      <td>11</td>\n",
       "      <td>0</td>\n",
       "      <td>0</td>\n",
       "      <td>0</td>\n",
       "      <td>0</td>\n",
       "      <td>1</td>\n",
       "      <td>0</td>\n",
       "      <td>0</td>\n",
       "      <td>0</td>\n",
       "    </tr>\n",
       "    <tr>\n",
       "      <th>2</th>\n",
       "      <td>28407</td>\n",
       "      <td>3690</td>\n",
       "      <td>2014</td>\n",
       "      <td>11233</td>\n",
       "      <td>5163</td>\n",
       "      <td>151</td>\n",
       "      <td>106730.0</td>\n",
       "      <td>42936</td>\n",
       "      <td>14</td>\n",
       "      <td>4</td>\n",
       "      <td>...</td>\n",
       "      <td>10.0</td>\n",
       "      <td>13</td>\n",
       "      <td>1</td>\n",
       "      <td>0</td>\n",
       "      <td>1</td>\n",
       "      <td>0</td>\n",
       "      <td>1</td>\n",
       "      <td>0</td>\n",
       "      <td>0</td>\n",
       "      <td>1</td>\n",
       "    </tr>\n",
       "    <tr>\n",
       "      <th>3</th>\n",
       "      <td>20076</td>\n",
       "      <td>38688</td>\n",
       "      <td>2014</td>\n",
       "      <td>16437</td>\n",
       "      <td>4346</td>\n",
       "      <td>271</td>\n",
       "      <td>50578.0</td>\n",
       "      <td>24654</td>\n",
       "      <td>9</td>\n",
       "      <td>4</td>\n",
       "      <td>...</td>\n",
       "      <td>16.0</td>\n",
       "      <td>13</td>\n",
       "      <td>1</td>\n",
       "      <td>0</td>\n",
       "      <td>1</td>\n",
       "      <td>0</td>\n",
       "      <td>1</td>\n",
       "      <td>0</td>\n",
       "      <td>1</td>\n",
       "      <td>0</td>\n",
       "    </tr>\n",
       "    <tr>\n",
       "      <th>4</th>\n",
       "      <td>28407</td>\n",
       "      <td>23102</td>\n",
       "      <td>2011</td>\n",
       "      <td>16536</td>\n",
       "      <td>8598</td>\n",
       "      <td>237</td>\n",
       "      <td>50578.0</td>\n",
       "      <td>19745</td>\n",
       "      <td>14</td>\n",
       "      <td>4</td>\n",
       "      <td>...</td>\n",
       "      <td>18.0</td>\n",
       "      <td>16</td>\n",
       "      <td>1</td>\n",
       "      <td>0</td>\n",
       "      <td>1</td>\n",
       "      <td>0</td>\n",
       "      <td>1</td>\n",
       "      <td>0</td>\n",
       "      <td>0</td>\n",
       "      <td>0</td>\n",
       "    </tr>\n",
       "    <tr>\n",
       "      <th>...</th>\n",
       "      <td>...</td>\n",
       "      <td>...</td>\n",
       "      <td>...</td>\n",
       "      <td>...</td>\n",
       "      <td>...</td>\n",
       "      <td>...</td>\n",
       "      <td>...</td>\n",
       "      <td>...</td>\n",
       "      <td>...</td>\n",
       "      <td>...</td>\n",
       "      <td>...</td>\n",
       "      <td>...</td>\n",
       "      <td>...</td>\n",
       "      <td>...</td>\n",
       "      <td>...</td>\n",
       "      <td>...</td>\n",
       "      <td>...</td>\n",
       "      <td>...</td>\n",
       "      <td>...</td>\n",
       "      <td>...</td>\n",
       "      <td>...</td>\n",
       "    </tr>\n",
       "    <tr>\n",
       "      <th>199995</th>\n",
       "      <td>34577</td>\n",
       "      <td>23102</td>\n",
       "      <td>2013</td>\n",
       "      <td>13485</td>\n",
       "      <td>9270</td>\n",
       "      <td>571</td>\n",
       "      <td>50578.0</td>\n",
       "      <td>42936</td>\n",
       "      <td>9</td>\n",
       "      <td>4</td>\n",
       "      <td>...</td>\n",
       "      <td>14.0</td>\n",
       "      <td>1</td>\n",
       "      <td>1</td>\n",
       "      <td>0</td>\n",
       "      <td>1</td>\n",
       "      <td>0</td>\n",
       "      <td>1</td>\n",
       "      <td>0</td>\n",
       "      <td>0</td>\n",
       "      <td>0</td>\n",
       "    </tr>\n",
       "    <tr>\n",
       "      <th>199996</th>\n",
       "      <td>46388</td>\n",
       "      <td>28387</td>\n",
       "      <td>2014</td>\n",
       "      <td>10803</td>\n",
       "      <td>16272</td>\n",
       "      <td>37</td>\n",
       "      <td>50578.0</td>\n",
       "      <td>45198</td>\n",
       "      <td>14</td>\n",
       "      <td>4</td>\n",
       "      <td>...</td>\n",
       "      <td>13.0</td>\n",
       "      <td>8</td>\n",
       "      <td>0</td>\n",
       "      <td>0</td>\n",
       "      <td>0</td>\n",
       "      <td>0</td>\n",
       "      <td>0</td>\n",
       "      <td>0</td>\n",
       "      <td>0</td>\n",
       "      <td>0</td>\n",
       "    </tr>\n",
       "    <tr>\n",
       "      <th>199997</th>\n",
       "      <td>28407</td>\n",
       "      <td>69180</td>\n",
       "      <td>2014</td>\n",
       "      <td>13485</td>\n",
       "      <td>26201</td>\n",
       "      <td>4</td>\n",
       "      <td>50578.0</td>\n",
       "      <td>24654</td>\n",
       "      <td>14</td>\n",
       "      <td>4</td>\n",
       "      <td>...</td>\n",
       "      <td>18.0</td>\n",
       "      <td>3</td>\n",
       "      <td>0</td>\n",
       "      <td>0</td>\n",
       "      <td>0</td>\n",
       "      <td>0</td>\n",
       "      <td>1</td>\n",
       "      <td>0</td>\n",
       "      <td>0</td>\n",
       "      <td>0</td>\n",
       "    </tr>\n",
       "    <tr>\n",
       "      <th>199998</th>\n",
       "      <td>28407</td>\n",
       "      <td>28387</td>\n",
       "      <td>2012</td>\n",
       "      <td>11843</td>\n",
       "      <td>17586</td>\n",
       "      <td>448</td>\n",
       "      <td>20001.0</td>\n",
       "      <td>42936</td>\n",
       "      <td>22</td>\n",
       "      <td>6</td>\n",
       "      <td>...</td>\n",
       "      <td>26.0</td>\n",
       "      <td>11</td>\n",
       "      <td>0</td>\n",
       "      <td>0</td>\n",
       "      <td>0</td>\n",
       "      <td>0</td>\n",
       "      <td>0</td>\n",
       "      <td>0</td>\n",
       "      <td>1</td>\n",
       "      <td>0</td>\n",
       "    </tr>\n",
       "    <tr>\n",
       "      <th>199999</th>\n",
       "      <td>2415</td>\n",
       "      <td>23102</td>\n",
       "      <td>2014</td>\n",
       "      <td>11233</td>\n",
       "      <td>6184</td>\n",
       "      <td>133</td>\n",
       "      <td>106730.0</td>\n",
       "      <td>42936</td>\n",
       "      <td>30</td>\n",
       "      <td>8</td>\n",
       "      <td>...</td>\n",
       "      <td>24.0</td>\n",
       "      <td>14</td>\n",
       "      <td>0</td>\n",
       "      <td>0</td>\n",
       "      <td>0</td>\n",
       "      <td>0</td>\n",
       "      <td>1</td>\n",
       "      <td>0</td>\n",
       "      <td>1</td>\n",
       "      <td>0</td>\n",
       "    </tr>\n",
       "  </tbody>\n",
       "</table>\n",
       "<p>200000 rows × 35 columns</p>\n",
       "</div>"
      ],
      "text/plain": [
       "        price  appraisal_offer  model_year  mileage   make  model      body  \\\n",
       "0       46388            69180        2014    16437   8598    230  106730.0   \n",
       "1       34577            69180        2006     6003  17586    442  106730.0   \n",
       "2       28407             3690        2014    11233   5163    151  106730.0   \n",
       "3       20076            38688        2014    16437   4346    271   50578.0   \n",
       "4       28407            23102        2011    16536   8598    237   50578.0   \n",
       "...       ...              ...         ...      ...    ...    ...       ...   \n",
       "199995  34577            23102        2013    13485   9270    571   50578.0   \n",
       "199996  46388            28387        2014    10803  16272     37   50578.0   \n",
       "199997  28407            69180        2014    13485  26201      4   50578.0   \n",
       "199998  28407            28387        2012    11843  17586    448   20001.0   \n",
       "199999   2415            23102        2014    11233   6184    133  106730.0   \n",
       "\n",
       "        color  engine  cylinders  ...  fuel_capacity_appraisal  market  \\\n",
       "0       14240       9          4  ...                     21.0      13   \n",
       "1       24654      22          6  ...                     25.0      11   \n",
       "2       42936      14          4  ...                     10.0      13   \n",
       "3       24654       9          4  ...                     16.0      13   \n",
       "4       19745      14          4  ...                     18.0      16   \n",
       "...       ...     ...        ...  ...                      ...     ...   \n",
       "199995  42936       9          4  ...                     14.0       1   \n",
       "199996  45198      14          4  ...                     13.0       8   \n",
       "199997  24654      14          4  ...                     18.0       3   \n",
       "199998  42936      22          6  ...                     26.0      11   \n",
       "199999  42936      30          8  ...                     24.0      14   \n",
       "\n",
       "        online  unknown  online_appraisal_online  online_appraisal_unknown  \\\n",
       "0            1        0                        1                         0   \n",
       "1            0        0                        0                         0   \n",
       "2            1        0                        1                         0   \n",
       "3            1        0                        1                         0   \n",
       "4            1        0                        1                         0   \n",
       "...        ...      ...                      ...                       ...   \n",
       "199995       1        0                        1                         0   \n",
       "199996       0        0                        0                         0   \n",
       "199997       0        0                        0                         0   \n",
       "199998       0        0                        0                         0   \n",
       "199999       0        0                        0                         0   \n",
       "\n",
       "        trim_descrip_Premium  trim_descrip_Unknown  \\\n",
       "0                          1                     0   \n",
       "1                          1                     0   \n",
       "2                          1                     0   \n",
       "3                          1                     0   \n",
       "4                          1                     0   \n",
       "...                      ...                   ...   \n",
       "199995                     1                     0   \n",
       "199996                     0                     0   \n",
       "199997                     1                     0   \n",
       "199998                     0                     0   \n",
       "199999                     1                     0   \n",
       "\n",
       "        trim_descrip_appraisal_Premium  trim_descrip_appraisal_Unknown  \n",
       "0                                    0                               1  \n",
       "1                                    0                               0  \n",
       "2                                    0                               1  \n",
       "3                                    1                               0  \n",
       "4                                    0                               0  \n",
       "...                                ...                             ...  \n",
       "199995                               0                               0  \n",
       "199996                               0                               0  \n",
       "199997                               0                               0  \n",
       "199998                               1                               0  \n",
       "199999                               1                               0  \n",
       "\n",
       "[200000 rows x 35 columns]"
      ]
     },
     "execution_count": 346,
     "metadata": {},
     "output_type": "execute_result"
    }
   ],
   "source": [
    "df"
   ]
  },
  {
   "cell_type": "code",
   "execution_count": 357,
   "id": "8f258da6",
   "metadata": {},
   "outputs": [],
   "source": [
    "from sklearn.impute import KNNImputer"
   ]
  },
  {
   "cell_type": "code",
   "execution_count": 358,
   "id": "3a610dd3",
   "metadata": {},
   "outputs": [
    {
     "data": {
      "text/plain": [
       "price                                 0\n",
       "appraisal_offer                       0\n",
       "model_year                            0\n",
       "mileage                               0\n",
       "make                                  0\n",
       "model                                 0\n",
       "body                              10259\n",
       "color                                 0\n",
       "engine                                0\n",
       "cylinders                             0\n",
       "mpg_city                            590\n",
       "mpg_highway                         590\n",
       "horsepower                            0\n",
       "fuel_capacity                         4\n",
       "model_year_appraisal                  0\n",
       "mileage_appraisal                     0\n",
       "make_appraisal                        0\n",
       "model_appraisal                       0\n",
       "body_appraisal                        0\n",
       "color_appraisal                       0\n",
       "engine_appraisal                      0\n",
       "cylinders_appraisal                   0\n",
       "mpg_city_appraisal                    1\n",
       "mpg_highway_appraisal                 0\n",
       "horsepower_appraisal                  0\n",
       "fuel_capacity_appraisal             312\n",
       "market                                0\n",
       "online                                0\n",
       "unknown                               0\n",
       "online_appraisal_online               0\n",
       "online_appraisal_unknown              0\n",
       "trim_descrip_Premium                  0\n",
       "trim_descrip_Unknown                  0\n",
       "trim_descrip_appraisal_Premium        0\n",
       "trim_descrip_appraisal_Unknown        0\n",
       "dtype: int64"
      ]
     },
     "execution_count": 358,
     "metadata": {},
     "output_type": "execute_result"
    }
   ],
   "source": [
    "df.isna().sum()"
   ]
  },
  {
   "cell_type": "code",
   "execution_count": null,
   "id": "ea0b65a0",
   "metadata": {},
   "outputs": [],
   "source": []
  },
  {
   "cell_type": "code",
   "execution_count": 359,
   "id": "92acb726",
   "metadata": {},
   "outputs": [],
   "source": [
    "knn = KNNImputer(n_neighbors=6)"
   ]
  },
  {
   "cell_type": "code",
   "execution_count": 360,
   "id": "ce70fbd6",
   "metadata": {},
   "outputs": [],
   "source": [
    "imputer = KNNImputer(weights=\"distance\")\n",
    "data= pd.DataFrame(imputer.fit_transform(df))"
   ]
  },
  {
   "cell_type": "code",
   "execution_count": 361,
   "id": "2652830e",
   "metadata": {},
   "outputs": [],
   "source": [
    "data.columns= df.columns\n",
    "data.index= df.index"
   ]
  },
  {
   "cell_type": "code",
   "execution_count": 362,
   "id": "93f447d2",
   "metadata": {},
   "outputs": [
    {
     "data": {
      "text/html": [
       "<div>\n",
       "<style scoped>\n",
       "    .dataframe tbody tr th:only-of-type {\n",
       "        vertical-align: middle;\n",
       "    }\n",
       "\n",
       "    .dataframe tbody tr th {\n",
       "        vertical-align: top;\n",
       "    }\n",
       "\n",
       "    .dataframe thead th {\n",
       "        text-align: right;\n",
       "    }\n",
       "</style>\n",
       "<table border=\"1\" class=\"dataframe\">\n",
       "  <thead>\n",
       "    <tr style=\"text-align: right;\">\n",
       "      <th></th>\n",
       "      <th>price</th>\n",
       "      <th>appraisal_offer</th>\n",
       "      <th>model_year</th>\n",
       "      <th>mileage</th>\n",
       "      <th>make</th>\n",
       "      <th>model</th>\n",
       "      <th>body</th>\n",
       "      <th>color</th>\n",
       "      <th>engine</th>\n",
       "      <th>cylinders</th>\n",
       "      <th>...</th>\n",
       "      <th>fuel_capacity_appraisal</th>\n",
       "      <th>market</th>\n",
       "      <th>online</th>\n",
       "      <th>unknown</th>\n",
       "      <th>online_appraisal_online</th>\n",
       "      <th>online_appraisal_unknown</th>\n",
       "      <th>trim_descrip_Premium</th>\n",
       "      <th>trim_descrip_Unknown</th>\n",
       "      <th>trim_descrip_appraisal_Premium</th>\n",
       "      <th>trim_descrip_appraisal_Unknown</th>\n",
       "    </tr>\n",
       "  </thead>\n",
       "  <tbody>\n",
       "    <tr>\n",
       "      <th>0</th>\n",
       "      <td>46388.0</td>\n",
       "      <td>69180.0</td>\n",
       "      <td>2014.0</td>\n",
       "      <td>16437.0</td>\n",
       "      <td>8598.0</td>\n",
       "      <td>230.0</td>\n",
       "      <td>106730.0</td>\n",
       "      <td>14240.0</td>\n",
       "      <td>9.0</td>\n",
       "      <td>4.0</td>\n",
       "      <td>...</td>\n",
       "      <td>21.0</td>\n",
       "      <td>13.0</td>\n",
       "      <td>1.0</td>\n",
       "      <td>0.0</td>\n",
       "      <td>1.0</td>\n",
       "      <td>0.0</td>\n",
       "      <td>1.0</td>\n",
       "      <td>0.0</td>\n",
       "      <td>0.0</td>\n",
       "      <td>1.0</td>\n",
       "    </tr>\n",
       "    <tr>\n",
       "      <th>1</th>\n",
       "      <td>34577.0</td>\n",
       "      <td>69180.0</td>\n",
       "      <td>2006.0</td>\n",
       "      <td>6003.0</td>\n",
       "      <td>17586.0</td>\n",
       "      <td>442.0</td>\n",
       "      <td>106730.0</td>\n",
       "      <td>24654.0</td>\n",
       "      <td>22.0</td>\n",
       "      <td>6.0</td>\n",
       "      <td>...</td>\n",
       "      <td>25.0</td>\n",
       "      <td>11.0</td>\n",
       "      <td>0.0</td>\n",
       "      <td>0.0</td>\n",
       "      <td>0.0</td>\n",
       "      <td>0.0</td>\n",
       "      <td>1.0</td>\n",
       "      <td>0.0</td>\n",
       "      <td>0.0</td>\n",
       "      <td>0.0</td>\n",
       "    </tr>\n",
       "    <tr>\n",
       "      <th>2</th>\n",
       "      <td>28407.0</td>\n",
       "      <td>3690.0</td>\n",
       "      <td>2014.0</td>\n",
       "      <td>11233.0</td>\n",
       "      <td>5163.0</td>\n",
       "      <td>151.0</td>\n",
       "      <td>106730.0</td>\n",
       "      <td>42936.0</td>\n",
       "      <td>14.0</td>\n",
       "      <td>4.0</td>\n",
       "      <td>...</td>\n",
       "      <td>10.0</td>\n",
       "      <td>13.0</td>\n",
       "      <td>1.0</td>\n",
       "      <td>0.0</td>\n",
       "      <td>1.0</td>\n",
       "      <td>0.0</td>\n",
       "      <td>1.0</td>\n",
       "      <td>0.0</td>\n",
       "      <td>0.0</td>\n",
       "      <td>1.0</td>\n",
       "    </tr>\n",
       "    <tr>\n",
       "      <th>3</th>\n",
       "      <td>20076.0</td>\n",
       "      <td>38688.0</td>\n",
       "      <td>2014.0</td>\n",
       "      <td>16437.0</td>\n",
       "      <td>4346.0</td>\n",
       "      <td>271.0</td>\n",
       "      <td>50578.0</td>\n",
       "      <td>24654.0</td>\n",
       "      <td>9.0</td>\n",
       "      <td>4.0</td>\n",
       "      <td>...</td>\n",
       "      <td>16.0</td>\n",
       "      <td>13.0</td>\n",
       "      <td>1.0</td>\n",
       "      <td>0.0</td>\n",
       "      <td>1.0</td>\n",
       "      <td>0.0</td>\n",
       "      <td>1.0</td>\n",
       "      <td>0.0</td>\n",
       "      <td>1.0</td>\n",
       "      <td>0.0</td>\n",
       "    </tr>\n",
       "    <tr>\n",
       "      <th>4</th>\n",
       "      <td>28407.0</td>\n",
       "      <td>23102.0</td>\n",
       "      <td>2011.0</td>\n",
       "      <td>16536.0</td>\n",
       "      <td>8598.0</td>\n",
       "      <td>237.0</td>\n",
       "      <td>50578.0</td>\n",
       "      <td>19745.0</td>\n",
       "      <td>14.0</td>\n",
       "      <td>4.0</td>\n",
       "      <td>...</td>\n",
       "      <td>18.0</td>\n",
       "      <td>16.0</td>\n",
       "      <td>1.0</td>\n",
       "      <td>0.0</td>\n",
       "      <td>1.0</td>\n",
       "      <td>0.0</td>\n",
       "      <td>1.0</td>\n",
       "      <td>0.0</td>\n",
       "      <td>0.0</td>\n",
       "      <td>0.0</td>\n",
       "    </tr>\n",
       "    <tr>\n",
       "      <th>...</th>\n",
       "      <td>...</td>\n",
       "      <td>...</td>\n",
       "      <td>...</td>\n",
       "      <td>...</td>\n",
       "      <td>...</td>\n",
       "      <td>...</td>\n",
       "      <td>...</td>\n",
       "      <td>...</td>\n",
       "      <td>...</td>\n",
       "      <td>...</td>\n",
       "      <td>...</td>\n",
       "      <td>...</td>\n",
       "      <td>...</td>\n",
       "      <td>...</td>\n",
       "      <td>...</td>\n",
       "      <td>...</td>\n",
       "      <td>...</td>\n",
       "      <td>...</td>\n",
       "      <td>...</td>\n",
       "      <td>...</td>\n",
       "      <td>...</td>\n",
       "    </tr>\n",
       "    <tr>\n",
       "      <th>199995</th>\n",
       "      <td>34577.0</td>\n",
       "      <td>23102.0</td>\n",
       "      <td>2013.0</td>\n",
       "      <td>13485.0</td>\n",
       "      <td>9270.0</td>\n",
       "      <td>571.0</td>\n",
       "      <td>50578.0</td>\n",
       "      <td>42936.0</td>\n",
       "      <td>9.0</td>\n",
       "      <td>4.0</td>\n",
       "      <td>...</td>\n",
       "      <td>14.0</td>\n",
       "      <td>1.0</td>\n",
       "      <td>1.0</td>\n",
       "      <td>0.0</td>\n",
       "      <td>1.0</td>\n",
       "      <td>0.0</td>\n",
       "      <td>1.0</td>\n",
       "      <td>0.0</td>\n",
       "      <td>0.0</td>\n",
       "      <td>0.0</td>\n",
       "    </tr>\n",
       "    <tr>\n",
       "      <th>199996</th>\n",
       "      <td>46388.0</td>\n",
       "      <td>28387.0</td>\n",
       "      <td>2014.0</td>\n",
       "      <td>10803.0</td>\n",
       "      <td>16272.0</td>\n",
       "      <td>37.0</td>\n",
       "      <td>50578.0</td>\n",
       "      <td>45198.0</td>\n",
       "      <td>14.0</td>\n",
       "      <td>4.0</td>\n",
       "      <td>...</td>\n",
       "      <td>13.0</td>\n",
       "      <td>8.0</td>\n",
       "      <td>0.0</td>\n",
       "      <td>0.0</td>\n",
       "      <td>0.0</td>\n",
       "      <td>0.0</td>\n",
       "      <td>0.0</td>\n",
       "      <td>0.0</td>\n",
       "      <td>0.0</td>\n",
       "      <td>0.0</td>\n",
       "    </tr>\n",
       "    <tr>\n",
       "      <th>199997</th>\n",
       "      <td>28407.0</td>\n",
       "      <td>69180.0</td>\n",
       "      <td>2014.0</td>\n",
       "      <td>13485.0</td>\n",
       "      <td>26201.0</td>\n",
       "      <td>4.0</td>\n",
       "      <td>50578.0</td>\n",
       "      <td>24654.0</td>\n",
       "      <td>14.0</td>\n",
       "      <td>4.0</td>\n",
       "      <td>...</td>\n",
       "      <td>18.0</td>\n",
       "      <td>3.0</td>\n",
       "      <td>0.0</td>\n",
       "      <td>0.0</td>\n",
       "      <td>0.0</td>\n",
       "      <td>0.0</td>\n",
       "      <td>1.0</td>\n",
       "      <td>0.0</td>\n",
       "      <td>0.0</td>\n",
       "      <td>0.0</td>\n",
       "    </tr>\n",
       "    <tr>\n",
       "      <th>199998</th>\n",
       "      <td>28407.0</td>\n",
       "      <td>28387.0</td>\n",
       "      <td>2012.0</td>\n",
       "      <td>11843.0</td>\n",
       "      <td>17586.0</td>\n",
       "      <td>448.0</td>\n",
       "      <td>20001.0</td>\n",
       "      <td>42936.0</td>\n",
       "      <td>22.0</td>\n",
       "      <td>6.0</td>\n",
       "      <td>...</td>\n",
       "      <td>26.0</td>\n",
       "      <td>11.0</td>\n",
       "      <td>0.0</td>\n",
       "      <td>0.0</td>\n",
       "      <td>0.0</td>\n",
       "      <td>0.0</td>\n",
       "      <td>0.0</td>\n",
       "      <td>0.0</td>\n",
       "      <td>1.0</td>\n",
       "      <td>0.0</td>\n",
       "    </tr>\n",
       "    <tr>\n",
       "      <th>199999</th>\n",
       "      <td>2415.0</td>\n",
       "      <td>23102.0</td>\n",
       "      <td>2014.0</td>\n",
       "      <td>11233.0</td>\n",
       "      <td>6184.0</td>\n",
       "      <td>133.0</td>\n",
       "      <td>106730.0</td>\n",
       "      <td>42936.0</td>\n",
       "      <td>30.0</td>\n",
       "      <td>8.0</td>\n",
       "      <td>...</td>\n",
       "      <td>24.0</td>\n",
       "      <td>14.0</td>\n",
       "      <td>0.0</td>\n",
       "      <td>0.0</td>\n",
       "      <td>0.0</td>\n",
       "      <td>0.0</td>\n",
       "      <td>1.0</td>\n",
       "      <td>0.0</td>\n",
       "      <td>1.0</td>\n",
       "      <td>0.0</td>\n",
       "    </tr>\n",
       "  </tbody>\n",
       "</table>\n",
       "<p>200000 rows × 35 columns</p>\n",
       "</div>"
      ],
      "text/plain": [
       "          price  appraisal_offer  model_year  mileage     make  model  \\\n",
       "0       46388.0          69180.0      2014.0  16437.0   8598.0  230.0   \n",
       "1       34577.0          69180.0      2006.0   6003.0  17586.0  442.0   \n",
       "2       28407.0           3690.0      2014.0  11233.0   5163.0  151.0   \n",
       "3       20076.0          38688.0      2014.0  16437.0   4346.0  271.0   \n",
       "4       28407.0          23102.0      2011.0  16536.0   8598.0  237.0   \n",
       "...         ...              ...         ...      ...      ...    ...   \n",
       "199995  34577.0          23102.0      2013.0  13485.0   9270.0  571.0   \n",
       "199996  46388.0          28387.0      2014.0  10803.0  16272.0   37.0   \n",
       "199997  28407.0          69180.0      2014.0  13485.0  26201.0    4.0   \n",
       "199998  28407.0          28387.0      2012.0  11843.0  17586.0  448.0   \n",
       "199999   2415.0          23102.0      2014.0  11233.0   6184.0  133.0   \n",
       "\n",
       "            body    color  engine  cylinders  ...  fuel_capacity_appraisal  \\\n",
       "0       106730.0  14240.0     9.0        4.0  ...                     21.0   \n",
       "1       106730.0  24654.0    22.0        6.0  ...                     25.0   \n",
       "2       106730.0  42936.0    14.0        4.0  ...                     10.0   \n",
       "3        50578.0  24654.0     9.0        4.0  ...                     16.0   \n",
       "4        50578.0  19745.0    14.0        4.0  ...                     18.0   \n",
       "...          ...      ...     ...        ...  ...                      ...   \n",
       "199995   50578.0  42936.0     9.0        4.0  ...                     14.0   \n",
       "199996   50578.0  45198.0    14.0        4.0  ...                     13.0   \n",
       "199997   50578.0  24654.0    14.0        4.0  ...                     18.0   \n",
       "199998   20001.0  42936.0    22.0        6.0  ...                     26.0   \n",
       "199999  106730.0  42936.0    30.0        8.0  ...                     24.0   \n",
       "\n",
       "        market  online  unknown  online_appraisal_online  \\\n",
       "0         13.0     1.0      0.0                      1.0   \n",
       "1         11.0     0.0      0.0                      0.0   \n",
       "2         13.0     1.0      0.0                      1.0   \n",
       "3         13.0     1.0      0.0                      1.0   \n",
       "4         16.0     1.0      0.0                      1.0   \n",
       "...        ...     ...      ...                      ...   \n",
       "199995     1.0     1.0      0.0                      1.0   \n",
       "199996     8.0     0.0      0.0                      0.0   \n",
       "199997     3.0     0.0      0.0                      0.0   \n",
       "199998    11.0     0.0      0.0                      0.0   \n",
       "199999    14.0     0.0      0.0                      0.0   \n",
       "\n",
       "        online_appraisal_unknown  trim_descrip_Premium  trim_descrip_Unknown  \\\n",
       "0                            0.0                   1.0                   0.0   \n",
       "1                            0.0                   1.0                   0.0   \n",
       "2                            0.0                   1.0                   0.0   \n",
       "3                            0.0                   1.0                   0.0   \n",
       "4                            0.0                   1.0                   0.0   \n",
       "...                          ...                   ...                   ...   \n",
       "199995                       0.0                   1.0                   0.0   \n",
       "199996                       0.0                   0.0                   0.0   \n",
       "199997                       0.0                   1.0                   0.0   \n",
       "199998                       0.0                   0.0                   0.0   \n",
       "199999                       0.0                   1.0                   0.0   \n",
       "\n",
       "        trim_descrip_appraisal_Premium  trim_descrip_appraisal_Unknown  \n",
       "0                                  0.0                             1.0  \n",
       "1                                  0.0                             0.0  \n",
       "2                                  0.0                             1.0  \n",
       "3                                  1.0                             0.0  \n",
       "4                                  0.0                             0.0  \n",
       "...                                ...                             ...  \n",
       "199995                             0.0                             0.0  \n",
       "199996                             0.0                             0.0  \n",
       "199997                             0.0                             0.0  \n",
       "199998                             1.0                             0.0  \n",
       "199999                             1.0                             0.0  \n",
       "\n",
       "[200000 rows x 35 columns]"
      ]
     },
     "execution_count": 362,
     "metadata": {},
     "output_type": "execute_result"
    }
   ],
   "source": [
    "data"
   ]
  },
  {
   "cell_type": "code",
   "execution_count": 364,
   "id": "519d8aad",
   "metadata": {},
   "outputs": [
    {
     "data": {
      "text/plain": [
       "price                             0\n",
       "appraisal_offer                   0\n",
       "model_year                        0\n",
       "mileage                           0\n",
       "make                              0\n",
       "model                             0\n",
       "body                              0\n",
       "color                             0\n",
       "engine                            0\n",
       "cylinders                         0\n",
       "mpg_city                          0\n",
       "mpg_highway                       0\n",
       "horsepower                        0\n",
       "fuel_capacity                     0\n",
       "model_year_appraisal              0\n",
       "mileage_appraisal                 0\n",
       "make_appraisal                    0\n",
       "model_appraisal                   0\n",
       "body_appraisal                    0\n",
       "color_appraisal                   0\n",
       "engine_appraisal                  0\n",
       "cylinders_appraisal               0\n",
       "mpg_city_appraisal                0\n",
       "mpg_highway_appraisal             0\n",
       "horsepower_appraisal              0\n",
       "fuel_capacity_appraisal           0\n",
       "market                            0\n",
       "online                            0\n",
       "unknown                           0\n",
       "online_appraisal_online           0\n",
       "online_appraisal_unknown          0\n",
       "trim_descrip_Premium              0\n",
       "trim_descrip_Unknown              0\n",
       "trim_descrip_appraisal_Premium    0\n",
       "trim_descrip_appraisal_Unknown    0\n",
       "dtype: int64"
      ]
     },
     "execution_count": 364,
     "metadata": {},
     "output_type": "execute_result"
    }
   ],
   "source": [
    "data.isna().sum()"
   ]
  },
  {
   "cell_type": "code",
   "execution_count": 77,
   "id": "13170b2e",
   "metadata": {},
   "outputs": [],
   "source": [
    "corr = data.corr()"
   ]
  },
  {
   "cell_type": "code",
   "execution_count": 78,
   "id": "1eee51d8",
   "metadata": {},
   "outputs": [
    {
     "data": {
      "text/plain": [
       "<AxesSubplot:>"
      ]
     },
     "execution_count": 78,
     "metadata": {},
     "output_type": "execute_result"
    },
    {
     "data": {
      "image/png": "[encoded data removed]",
      "text/plain": [
       "<Figure size 1440x1080 with 2 Axes>"
      ]
     },
     "metadata": {
      "needs_background": "light"
     },
     "output_type": "display_data"
    }
   ],
   "source": [
    "plt.figure(figsize=(20,15))\n",
    "sns.heatmap(corr, annot= True, cmap= sns.diverging_palette(220,10, as_cmap= True))"
   ]
  },
  {
   "cell_type": "markdown",
   "id": "f9528726",
   "metadata": {},
   "source": [
    "####  asuming 'model' as target class and predicting the correct class using all features "
   ]
  },
  {
   "cell_type": "code",
   "execution_count": 79,
   "id": "2394bbb8",
   "metadata": {},
   "outputs": [],
   "source": [
    "# spliting into x and y"
   ]
  },
  {
   "cell_type": "code",
   "execution_count": 80,
   "id": "df38c566",
   "metadata": {},
   "outputs": [],
   "source": [
    "x= data.drop(columns= ['model'])"
   ]
  },
  {
   "cell_type": "code",
   "execution_count": 81,
   "id": "fc69b2ec",
   "metadata": {},
   "outputs": [],
   "source": [
    "y = data.model"
   ]
  },
  {
   "cell_type": "code",
   "execution_count": 82,
   "id": "854439c8",
   "metadata": {},
   "outputs": [],
   "source": [
    "from sklearn.model_selection import train_test_split "
   ]
  },
  {
   "cell_type": "code",
   "execution_count": 83,
   "id": "aac6bdcb",
   "metadata": {},
   "outputs": [],
   "source": [
    "x_train, x_test, y_train, y_test= train_test_split(x,y, random_state= 0)"
   ]
  },
  {
   "cell_type": "code",
   "execution_count": null,
   "id": "0773588b",
   "metadata": {},
   "outputs": [],
   "source": []
  },
  {
   "cell_type": "code",
   "execution_count": null,
   "id": "c654a721",
   "metadata": {},
   "outputs": [],
   "source": []
  },
  {
   "cell_type": "code",
   "execution_count": null,
   "id": "01f00aeb",
   "metadata": {},
   "outputs": [],
   "source": []
  },
  {
   "cell_type": "code",
   "execution_count": null,
   "id": "6ce116e4",
   "metadata": {},
   "outputs": [],
   "source": []
  }
 ],
 "metadata": {
  "kernelspec": {
   "display_name": "Python 3 (ipykernel)",
   "language": "python",
   "name": "python3"
  },
  "language_info": {
   "codemirror_mode": {
    "name": "ipython",
    "version": 3
   },
   "file_extension": ".py",
   "mimetype": "text/x-python",
   "name": "python",
   "nbconvert_exporter": "python",
   "pygments_lexer": "ipython3",
   "version": "3.9.1"
  }
 },
 "nbformat": 4,
 "nbformat_minor": 5
}
